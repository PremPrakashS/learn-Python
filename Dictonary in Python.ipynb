{
 "cells": [
  {
   "cell_type": "markdown",
   "id": "ad9bff90",
   "metadata": {},
   "source": [
    "# Dictonaries\n",
    "Dictonaries are ordered collection of data items. They store multiple items in a single variable. Dictonary items are key-value pairs that are separated by commas and enclosed within curly brackets {}."
   ]
  },
  {
   "cell_type": "code",
   "execution_count": 2,
   "id": "340aafc4",
   "metadata": {},
   "outputs": [
    {
     "data": {
      "text/plain": [
       "{'name': 'Prem', 'age': 23, 'sex': 'Male'}"
      ]
     },
     "execution_count": 2,
     "metadata": {},
     "output_type": "execute_result"
    }
   ],
   "source": [
    "info = {'name': 'Prem', 'age': 23, 'sex' : 'Male'}\n",
    "info"
   ]
  },
  {
   "cell_type": "markdown",
   "id": "f5f0212f",
   "metadata": {},
   "source": [
    " # Accessing values in the dictonary\n",
    "values in dictonary can be accessed by using the key in square brackets or by using the get() function.\n",
    "\n",
    "dict\\[key\\] returns the corresponding value to the key, if the 'key' exists. If the key doesn't exist it generates and error.\n",
    "\n",
    "get() function returns the corresponding value to the key, if the 'key' exists. If the key doesn't exist it returns None."
   ]
  },
  {
   "cell_type": "code",
   "execution_count": 11,
   "id": "ca46abb8",
   "metadata": {},
   "outputs": [
    {
     "name": "stdout",
     "output_type": "stream",
     "text": [
      "Prem\n",
      "Prem\n",
      "None\n"
     ]
    },
    {
     "ename": "KeyError",
     "evalue": "'height'",
     "output_type": "error",
     "traceback": [
      "\u001b[1;31m---------------------------------------------------------------------------\u001b[0m",
      "\u001b[1;31mKeyError\u001b[0m                                  Traceback (most recent call last)",
      "Cell \u001b[1;32mIn[11], line 5\u001b[0m\n\u001b[0;32m      2\u001b[0m \u001b[38;5;28mprint\u001b[39m(info\u001b[38;5;241m.\u001b[39mget(\u001b[38;5;124m'\u001b[39m\u001b[38;5;124mname\u001b[39m\u001b[38;5;124m'\u001b[39m))\n\u001b[0;32m      4\u001b[0m \u001b[38;5;28mprint\u001b[39m(info\u001b[38;5;241m.\u001b[39mget(\u001b[38;5;124m'\u001b[39m\u001b[38;5;124mheight\u001b[39m\u001b[38;5;124m'\u001b[39m)) \u001b[38;5;66;03m# returns None if the key is not present\u001b[39;00m\n\u001b[1;32m----> 5\u001b[0m \u001b[38;5;28mprint\u001b[39m(\u001b[43minfo\u001b[49m\u001b[43m[\u001b[49m\u001b[38;5;124;43m'\u001b[39;49m\u001b[38;5;124;43mheight\u001b[39;49m\u001b[38;5;124;43m'\u001b[39;49m\u001b[43m]\u001b[49m) \u001b[38;5;66;03m# gives error if the key is not in the dictonary\u001b[39;00m\n",
      "\u001b[1;31mKeyError\u001b[0m: 'height'"
     ]
    }
   ],
   "source": [
    "print(info['name'])\n",
    "print(info.get('name'))\n",
    "\n",
    "print(info.get('height')) # returns None if the key is not present\n",
    "print(info['height']) # gives error if the key is not in the dictonary"
   ]
  },
  {
   "cell_type": "code",
   "execution_count": 17,
   "id": "fe4badd6",
   "metadata": {},
   "outputs": [
    {
     "name": "stdout",
     "output_type": "stream",
     "text": [
      "dict_keys(['name', 'age', 'sex'])\n",
      "The value corresponding to the key name is Prem\n",
      "The value corresponding to the key age is 23\n",
      "The value corresponding to the key sex is Male\n"
     ]
    }
   ],
   "source": [
    "print(info.keys())\n",
    "\n",
    "for key in info.keys():\n",
    "    print(f\"The value corresponding to the key {key} is {info[key]}\")"
   ]
  },
  {
   "cell_type": "code",
   "execution_count": 14,
   "id": "12a23963",
   "metadata": {},
   "outputs": [
    {
     "name": "stdout",
     "output_type": "stream",
     "text": [
      "dict_values(['Prem', 23, 'Male'])\n",
      "Prem\n",
      "23\n",
      "Male\n"
     ]
    }
   ],
   "source": [
    "print(info.values())\n",
    "\n",
    "for value in info.values():\n",
    "    print(value)"
   ]
  },
  {
   "cell_type": "code",
   "execution_count": 19,
   "id": "a6a1f13e",
   "metadata": {
    "scrolled": true
   },
   "outputs": [
    {
     "name": "stdout",
     "output_type": "stream",
     "text": [
      "dict_items([('name', 'Prem'), ('age', 23), ('sex', 'Male')])\n",
      "The value corresponding to the key name is Prem\n",
      "The value corresponding to the key age is 23\n",
      "The value corresponding to the key sex is Male\n"
     ]
    }
   ],
   "source": [
    "print(info.items())\n",
    "for key, value in info.items():\n",
    "    print(f\"The value corresponding to the key {key} is {value}\")"
   ]
  }
 ],
 "metadata": {
  "kernelspec": {
   "display_name": "Python 3 (ipykernel)",
   "language": "python",
   "name": "python3"
  },
  "language_info": {
   "codemirror_mode": {
    "name": "ipython",
    "version": 3
   },
   "file_extension": ".py",
   "mimetype": "text/x-python",
   "name": "python",
   "nbconvert_exporter": "python",
   "pygments_lexer": "ipython3",
   "version": "3.11.3"
  }
 },
 "nbformat": 4,
 "nbformat_minor": 5
}
