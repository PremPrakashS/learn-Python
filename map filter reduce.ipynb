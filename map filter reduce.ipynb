{
 "cells": [
  {
   "cell_type": "markdown",
   "id": "7bfaf57d-24a1-4c40-bddf-dc1f5a8b2f92",
   "metadata": {},
   "source": [
    "# map(), filter(), reduce()\n",
    "\n",
    "map(function, sequence) : applies the function to each element of sequence.\n",
    "\n",
    "takes input as sequence and returns a sequence, these are higher order funcitons"
   ]
  },
  {
   "cell_type": "code",
   "execution_count": 1,
   "id": "ea9015f0-98b7-46a7-9e1a-d836cce7066f",
   "metadata": {},
   "outputs": [],
   "source": [
    "def cube(x):\n",
    "    return x**3"
   ]
  },
  {
   "cell_type": "code",
   "execution_count": 4,
   "id": "cebbebee-fbc3-49e8-9302-0a5cb11ca211",
   "metadata": {},
   "outputs": [],
   "source": [
    "l = [1,2,3,4,5,6,4]\n",
    "\n",
    "# we need a list which has cube of all the elements of l"
   ]
  },
  {
   "cell_type": "code",
   "execution_count": 6,
   "id": "10ba55c8-3ecd-42ca-b1b8-3f5bca3656b6",
   "metadata": {},
   "outputs": [
    {
     "name": "stdout",
     "output_type": "stream",
     "text": [
      "[1, 8, 27, 64, 125, 216, 64]\n"
     ]
    }
   ],
   "source": [
    "newl = list(map(cube, l))  # map() fuction applies a funciton to each element in the sequence and returns a new sequence containing the transformed element\n",
    "print(newl)"
   ]
  },
  {
   "cell_type": "code",
   "execution_count": 10,
   "id": "c0915b52-ddbb-411c-9d1f-226ff2a0cbae",
   "metadata": {},
   "outputs": [
    {
     "name": "stdout",
     "output_type": "stream",
     "text": [
      "[5, 6]\n"
     ]
    }
   ],
   "source": [
    "# filter() used to filter a list/sequence and returns a filter object\n",
    "def filter_function(a):\n",
    "    return a>4\n",
    "\n",
    "newl = list(filter(filter_function, l))\n",
    "print(newl)"
   ]
  },
  {
   "cell_type": "code",
   "execution_count": 14,
   "id": "589af8f1-cf9d-4056-984e-b8a34c3f1ac7",
   "metadata": {},
   "outputs": [
    {
     "name": "stdout",
     "output_type": "stream",
     "text": [
      "[1, 4, 9, 16, 25, 36, 49, 64, 81]\n",
      "[5, 6, 7, 8, 9]\n"
     ]
    }
   ],
   "source": [
    "l = [1,2,3,4,5,6,7,8,9]\n",
    "\n",
    "newl = list(map(lambda x: x**2, l))\n",
    "print(newl)\n",
    "\n",
    "newl = list(filter(lambda x: x>4, l))\n",
    "print(newl)"
   ]
  },
  {
   "cell_type": "markdown",
   "id": "d777417c-b9d6-461e-bb8d-60d788948600",
   "metadata": {},
   "source": [
    "# reduce()"
   ]
  },
  {
   "cell_type": "markdown",
   "id": "38f4b0f5",
   "metadata": {},
   "source": [
    "reduce(function, sequence): applies the function on the elements of the sequence to reduce the value to a result of 1 element."
   ]
  },
  {
   "cell_type": "code",
   "execution_count": 16,
   "id": "96f0ba03-30e1-43d0-8dda-c29e7588ca72",
   "metadata": {},
   "outputs": [
    {
     "name": "stdout",
     "output_type": "stream",
     "text": [
      "15\n",
      "120\n"
     ]
    }
   ],
   "source": [
    "from functools import reduce\n",
    "\n",
    "numbers = [1, 2, 3, 4, 5]\n",
    "\n",
    "sum = reduce(lambda x,y: x+y, numbers)\n",
    "product = reduce(lambda x,y: x*y, numbers)\n",
    "\n",
    "print(sum)\n",
    "print(product)\n",
    "del sum"
   ]
  },
  {
   "cell_type": "code",
   "execution_count": 18,
   "id": "6162c90a",
   "metadata": {},
   "outputs": [
    {
     "ename": "TypeError",
     "evalue": "<lambda>() missing 1 required positional argument: 'c'",
     "output_type": "error",
     "traceback": [
      "\u001b[1;31m---------------------------------------------------------------------------\u001b[0m",
      "\u001b[1;31mTypeError\u001b[0m                                 Traceback (most recent call last)",
      "\u001b[1;32mc:\\Users\\prem2\\Documents\\Python\\map filter reduce.ipynb Cell 10\u001b[0m line \u001b[0;36m8\n\u001b[0;32m      <a href='vscode-notebook-cell:/c%3A/Users/prem2/Documents/Python/map%20filter%20reduce.ipynb#X14sZmlsZQ%3D%3D?line=4'>5</a>\u001b[0m \u001b[39mdef\u001b[39;00m \u001b[39msum\u001b[39m(a, b, c):\n\u001b[0;32m      <a href='vscode-notebook-cell:/c%3A/Users/prem2/Documents/Python/map%20filter%20reduce.ipynb#X14sZmlsZQ%3D%3D?line=5'>6</a>\u001b[0m     \u001b[39mreturn\u001b[39;00m a \u001b[39m+\u001b[39m b \u001b[39m+\u001b[39m c\n\u001b[1;32m----> <a href='vscode-notebook-cell:/c%3A/Users/prem2/Documents/Python/map%20filter%20reduce.ipynb#X14sZmlsZQ%3D%3D?line=7'>8</a>\u001b[0m \u001b[39mprint\u001b[39m(reduce(\u001b[39mlambda\u001b[39;00m a,b,c: a\u001b[39m*\u001b[39mb\u001b[39m*\u001b[39mc, lst))\n",
      "\u001b[1;31mTypeError\u001b[0m: <lambda>() missing 1 required positional argument: 'c'"
     ]
    }
   ],
   "source": [
    "from functools import reduce\n",
    "\n",
    "lst = [x for x in range(20)]\n",
    "\n",
    "def sum(a, b, c):\n",
    "    return a + b + c\n",
    "\n",
    "print(reduce(lambda a,b,c: a*b*c, lst))"
   ]
  }
 ],
 "metadata": {
  "kernelspec": {
   "display_name": "Python 3 (ipykernel)",
   "language": "python",
   "name": "python3"
  },
  "language_info": {
   "codemirror_mode": {
    "name": "ipython",
    "version": 3
   },
   "file_extension": ".py",
   "mimetype": "text/x-python",
   "name": "python",
   "nbconvert_exporter": "python",
   "pygments_lexer": "ipython3",
   "version": "3.11.3"
  }
 },
 "nbformat": 4,
 "nbformat_minor": 5
}
