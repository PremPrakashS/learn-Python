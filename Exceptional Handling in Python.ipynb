{
 "cells": [
  {
   "cell_type": "code",
   "execution_count": 1,
   "id": "2636fa31",
   "metadata": {
    "scrolled": true
   },
   "outputs": [
    {
     "name": "stdout",
     "output_type": "stream",
     "text": [
      "Enter the number: 34\n",
      "Multiplication table of 34 is:\n",
      "34 X 1 = 34\n",
      "34 X 2 = 68\n",
      "34 X 3 = 102\n",
      "34 X 4 = 136\n",
      "34 X 5 = 170\n",
      "34 X 6 = 204\n",
      "34 X 7 = 238\n",
      "34 X 8 = 272\n",
      "34 X 9 = 306\n",
      "34 X 10 = 340\n",
      "Some important lines of code!\n",
      "Some more code!\n",
      "Program end!\n"
     ]
    }
   ],
   "source": [
    "a = int(input(\"Enter the number: \"))\n",
    "print(f\"Multiplication table of {a} is:\")\n",
    "\n",
    "for i in range(1,11):\n",
    "    print(f\"{a} X {i} = {a*i}\")\n",
    "    \n",
    "print(\"Some important lines of code!\")\n",
    "print(\"Some more code!\")\n",
    "print(\"Program end!\")"
   ]
  },
  {
   "cell_type": "markdown",
   "id": "10365231",
   "metadata": {},
   "source": [
    "If in the above code user doesn't provide a proper integer as input the program will fail, with an error. And the lines below that will not be executed. To deal with that we use Error Handling."
   ]
  },
  {
   "cell_type": "code",
   "execution_count": 4,
   "id": "459b4902",
   "metadata": {},
   "outputs": [
    {
     "name": "stdout",
     "output_type": "stream",
     "text": [
      "Enter the number: r\n",
      "invalid literal for int() with base 10: 'r'\n",
      "Error occoured!\n",
      "Some important lines of code!\n",
      "Some more code!\n",
      "Program end!\n"
     ]
    }
   ],
   "source": [
    "try:\n",
    "    a = int(input(\"Enter the number: \"))\n",
    "    # if the error is encountered here the control will jump to the except part. And all the code after that will be executed\n",
    "    print(f\"Multiplication table of {a} is:\")\n",
    "\n",
    "    for i in range(1,11):\n",
    "        print(f\"{a} X {i} = {a*i}\")\n",
    "              \n",
    "except Exception as e:\n",
    "    print(e)\n",
    "\n",
    "    \n",
    "print(\"Some important lines of code!\")\n",
    "print(\"Some more code!\")\n",
    "print(\"Program end!\")"
   ]
  },
  {
   "cell_type": "code",
   "execution_count": 5,
   "id": "ef6504da",
   "metadata": {},
   "outputs": [
    {
     "name": "stdout",
     "output_type": "stream",
     "text": [
      "Enter the number: r\n",
      "Invalid Input!\n",
      "Some important lines of code!\n",
      "Some more code!\n",
      "Program end!\n"
     ]
    }
   ],
   "source": [
    "try:\n",
    "    a = int(input(\"Enter the number: \"))\n",
    "    # if the error is encountered here the control will jump to the except part. And all the code after that will be executed\n",
    "    print(f\"Multiplication table of {a} is:\")\n",
    "\n",
    "    for i in range(1,11):\n",
    "        print(f\"{a} X {i} = {a*i}\")\n",
    "              \n",
    "except:\n",
    "    print('Invalid Input!')\n",
    "\n",
    "    \n",
    "print(\"Some important lines of code!\")\n",
    "print(\"Some more code!\")\n",
    "print(\"Program end!\")"
   ]
  },
  {
   "cell_type": "code",
   "execution_count": 10,
   "id": "ff9feeea",
   "metadata": {},
   "outputs": [
    {
     "name": "stdout",
     "output_type": "stream",
     "text": [
      "Enter an integer: 5\n",
      "Index Error\n"
     ]
    }
   ],
   "source": [
    "try:\n",
    "    num = int(input(\"Enter an integer: \"))\n",
    "    a = [6, 3]\n",
    "    print(a[num])\n",
    "    \n",
    "except ValueError: # handling a specific error.\n",
    "    print(\"Number is not an integer.\")\n",
    "    \n",
    "except IndexError: # handling several errors.\n",
    "    print(\"Index Error\")"
   ]
  },
  {
   "cell_type": "code",
   "execution_count": 12,
   "id": "47b2e1aa",
   "metadata": {},
   "outputs": [
    {
     "name": "stdout",
     "output_type": "stream",
     "text": [
      "Enter an integer: a\n",
      "invalid literal for int() with base 10: 'a'\n"
     ]
    }
   ],
   "source": [
    "try:\n",
    "    num = int(input(\"Enter an integer: \"))\n",
    "    a = [6, 3]\n",
    "    print(a[num])\n",
    "    \n",
    "except ValueError as e: # handling a specific error.\n",
    "    print(e)\n",
    "    \n",
    "except IndexError as e: # handling several errors.\n",
    "    print(e)"
   ]
  }
 ],
 "metadata": {
  "kernelspec": {
   "display_name": "Python 3 (ipykernel)",
   "language": "python",
   "name": "python3"
  },
  "language_info": {
   "codemirror_mode": {
    "name": "ipython",
    "version": 3
   },
   "file_extension": ".py",
   "mimetype": "text/x-python",
   "name": "python",
   "nbconvert_exporter": "python",
   "pygments_lexer": "ipython3",
   "version": "3.11.0"
  }
 },
 "nbformat": 4,
 "nbformat_minor": 5
}
