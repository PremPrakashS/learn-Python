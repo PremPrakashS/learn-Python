{
 "cells": [
  {
   "cell_type": "code",
   "execution_count": 1,
   "id": "4053348f",
   "metadata": {
    "scrolled": true
   },
   "outputs": [
    {
     "name": "stdout",
     "output_type": "stream",
     "text": [
      "4.235294117647059\n"
     ]
    }
   ],
   "source": [
    "a = 9\n",
    "b = 8\n",
    "gmean = (a*b)/(a+b)\n",
    "print(gmean)"
   ]
  },
  {
   "cell_type": "code",
   "execution_count": 4,
   "id": "4d8d61c1",
   "metadata": {},
   "outputs": [],
   "source": [
    "def gmean(a,b):\n",
    "    print((a*b)/(a+b))"
   ]
  },
  {
   "cell_type": "code",
   "execution_count": 5,
   "id": "933d55f7",
   "metadata": {},
   "outputs": [
    {
     "name": "stdout",
     "output_type": "stream",
     "text": [
      "13.719298245614034\n"
     ]
    }
   ],
   "source": [
    "gmean(34, 23)"
   ]
  },
  {
   "cell_type": "code",
   "execution_count": 11,
   "id": "c3b1b20b",
   "metadata": {},
   "outputs": [],
   "source": [
    "def isGreater(a,b):\n",
    "    if(a>b):\n",
    "        print(\"First number is greater\")\n",
    "    else:\n",
    "        print(\"Second number is greated or equal\")\n",
    "\n",
    "# creating a function isSmaller as well\n",
    "def isSmaller(a,b):\n",
    "    pass\n",
    "# if you don't want to define the function after declaring you can use pass\n",
    "# 'pass' can be used with while loop, for loop, if statements etc. "
   ]
  },
  {
   "cell_type": "code",
   "execution_count": 9,
   "id": "d84185c1",
   "metadata": {},
   "outputs": [
    {
     "name": "stdout",
     "output_type": "stream",
     "text": [
      "First number is greater\n"
     ]
    }
   ],
   "source": [
    "isGreater(5,1)"
   ]
  },
  {
   "cell_type": "code",
   "execution_count": 15,
   "id": "c8cb08d3",
   "metadata": {},
   "outputs": [],
   "source": [
    "count = 10\n",
    "if count == 10:\n",
    "    pass\n",
    "for i in range(10):\n",
    "    pass"
   ]
  }
 ],
 "metadata": {
  "kernelspec": {
   "display_name": "Python 3 (ipykernel)",
   "language": "python",
   "name": "python3"
  },
  "language_info": {
   "codemirror_mode": {
    "name": "ipython",
    "version": 3
   },
   "file_extension": ".py",
   "mimetype": "text/x-python",
   "name": "python",
   "nbconvert_exporter": "python",
   "pygments_lexer": "ipython3",
   "version": "3.11.0"
  }
 },
 "nbformat": 4,
 "nbformat_minor": 5
}
