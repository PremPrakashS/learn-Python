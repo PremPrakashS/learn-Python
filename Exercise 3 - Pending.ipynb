{
 "cells": [
  {
   "cell_type": "markdown",
   "id": "c7ebcfb0",
   "metadata": {},
   "source": [
    "# Kaun Banega CrorePati\n",
    "\n",
    "Create a program capable of displaying questions to the user like KBC\n",
    "\n",
    "Use List data type to store the questions and their correct answers.\n",
    "\n",
    "Display the final amount the person is taking home after playing the game."
   ]
  },
  {
   "cell_type": "code",
   "execution_count": 1,
   "id": "f14d8cc6",
   "metadata": {},
   "outputs": [],
   "source": [
    "questions = [\n",
    "    ['question 1', ['A', 'B', 'C', 'D'], 1],\n",
    "    ['question 2', ['A', 'B', 'C', 'D'], 2],\n",
    "    ['question 3', ['A', 'B', 'C', 'D'], 3],\n",
    "    ['question 4', ['A', 'B', 'C', 'D'], 4],\n",
    "    ['question 5', ['A', 'B', 'C', 'D'], 1],\n",
    "    ['question 6', ['A', 'B', 'C', 'D'], 2],\n",
    "    ['question 7', ['A', 'B', 'C', 'D'], 3],\n",
    "    ['question 8', ['A', 'B', 'C', 'D'], 4],\n",
    "    ['question 9', ['A', 'B', 'C', 'D'], 1],\n",
    "    ['question 10', ['A', 'B', 'C', 'D'], 2]\n",
    "]\n",
    "\n",
    "prize_money = [10, 20, 40, 80, 160, 320, 640, 1280, 2540, 5120]"
   ]
  },
  {
   "cell_type": "code",
   "execution_count": 2,
   "id": "312d006f",
   "metadata": {},
   "outputs": [
    {
     "name": "stdout",
     "output_type": "stream",
     "text": [
      "Q 1: question 1 for 20\n",
      "Option 1: A\n",
      "Option 2: B\n",
      "Option 3: C\n",
      "Option 4: D\n",
      "Enter the correct option : 1\n",
      "Correct Answer!!!\n",
      "You won 20K\n",
      "Q 2: question 2 for 40\n",
      "Option 1: A\n",
      "Option 2: B\n",
      "Option 3: C\n",
      "Option 4: D\n",
      "Enter the correct option : 2\n",
      "Correct Answer!!!\n",
      "You won 40K\n",
      "Q 3: question 3 for 80\n",
      "Option 1: A\n",
      "Option 2: B\n",
      "Option 3: C\n",
      "Option 4: D\n",
      "Enter the correct option : 3\n",
      "Correct Answer!!!\n",
      "You won 80K\n",
      "Q 4: question 4 for 160\n",
      "Option 1: A\n",
      "Option 2: B\n",
      "Option 3: C\n",
      "Option 4: D\n",
      "Enter the correct option : 4\n",
      "Correct Answer!!!\n",
      "You won 160K\n",
      "Q 5: question 5 for 320\n",
      "Option 1: A\n",
      "Option 2: B\n",
      "Option 3: C\n",
      "Option 4: D\n",
      "Enter the correct option : 5\n",
      "Unfortunately Your answers is incorrect!!!\n"
     ]
    }
   ],
   "source": [
    "total_prize = 0\n",
    "for i, q in enumerate(questions, start = 1):\n",
    "    print(f'Q {i}: {q[0]} for {prize_money[i]}')\n",
    "    for j, opt in enumerate(q[1], start = 1):\n",
    "        print(f'Option {j}: {opt}')\n",
    "    \n",
    "    if(q[2] == int(input('Enter the correct option : '))):\n",
    "        print(\"Correct Answer!!!\")\n",
    "        print(f'You won {prize_money[i]}K')\n",
    "        total_prize = total_prize + prize_money[i]\n",
    "    else:\n",
    "        print(\"Unfortunately Your answers is incorrect!!!\")\n",
    "        break\n",
    "        \n",
    "print(f'Your total prize amount is {total_prize}K')"
   ]
  }
 ],
 "metadata": {
  "kernelspec": {
   "display_name": "Python 3 (ipykernel)",
   "language": "python",
   "name": "python3"
  },
  "language_info": {
   "codemirror_mode": {
    "name": "ipython",
    "version": 3
   },
   "file_extension": ".py",
   "mimetype": "text/x-python",
   "name": "python",
   "nbconvert_exporter": "python",
   "pygments_lexer": "ipython3",
   "version": "3.11.0"
  }
 },
 "nbformat": 4,
 "nbformat_minor": 5
}
