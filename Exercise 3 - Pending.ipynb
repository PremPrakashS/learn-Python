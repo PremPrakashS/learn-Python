{
 "cells": [
  {
   "cell_type": "markdown",
   "id": "c7ebcfb0",
   "metadata": {},
   "source": [
    "# Kaun Banega CrorePati\n",
    "\n",
    "Create a program capable of displaying questions to the user like KBC\n",
    "\n",
    "Use List data type to store the questions and their correct answers.\n",
    "\n",
    "Display the final amount the person is taking home after playing the game."
   ]
  }
 ],
 "metadata": {
  "kernelspec": {
   "display_name": "Python 3 (ipykernel)",
   "language": "python",
   "name": "python3"
  },
  "language_info": {
   "codemirror_mode": {
    "name": "ipython",
    "version": 3
   },
   "file_extension": ".py",
   "mimetype": "text/x-python",
   "name": "python",
   "nbconvert_exporter": "python",
   "pygments_lexer": "ipython3",
   "version": "3.11.0"
  }
 },
 "nbformat": 4,
 "nbformat_minor": 5
}
