{
 "cells": [
  {
   "cell_type": "code",
   "execution_count": 6,
   "id": "780169c1",
   "metadata": {},
   "outputs": [
    {
     "data": {
      "text/plain": [
       "[12, 56, 32, 98, 12, 45, 1, 4]"
      ]
     },
     "execution_count": 6,
     "metadata": {},
     "output_type": "execute_result"
    }
   ],
   "source": [
    "marks = [12, 56, 32, 98, 12, 45, 1, 4]\n",
    "marks"
   ]
  },
  {
   "cell_type": "code",
   "execution_count": 4,
   "id": "c8faf4da",
   "metadata": {},
   "outputs": [
    {
     "name": "stdout",
     "output_type": "stream",
     "text": [
      "12\n",
      "56\n",
      "32\n",
      "98\n",
      "Harry, awesome!\n",
      "12\n",
      "45\n",
      "1\n",
      "4\n"
     ]
    }
   ],
   "source": [
    "index = 0\n",
    "for mark in marks:\n",
    "    print(mark)\n",
    "    if index == 3:\n",
    "        print(\"Harry, awesome!\")\n",
    "    index += 1"
   ]
  },
  {
   "cell_type": "markdown",
   "id": "65ce5a33",
   "metadata": {},
   "source": [
    "# There is a better way to do this"
   ]
  },
  {
   "cell_type": "code",
   "execution_count": 7,
   "id": "04f9688e",
   "metadata": {},
   "outputs": [
    {
     "name": "stdout",
     "output_type": "stream",
     "text": [
      "12\n",
      "56\n",
      "32\n",
      "98\n",
      "Harry, awesome!\n",
      "12\n",
      "45\n",
      "1\n",
      "4\n"
     ]
    }
   ],
   "source": [
    "for index, mark in enumerate(marks): # enumerate returns the index and the valueb\n",
    "    print(mark)\n",
    "    if index == 3:\n",
    "        print(\"Harry, awesome!\")"
   ]
  },
  {
   "cell_type": "code",
   "execution_count": 15,
   "id": "a212f5e1",
   "metadata": {},
   "outputs": [
    {
     "name": "stdout",
     "output_type": "stream",
     "text": [
      "0 apple\n",
      "1 banana\n",
      "2 mango\n",
      "0 m\n",
      "1 a\n",
      "2 n\n",
      "3 g\n",
      "4 o\n"
     ]
    }
   ],
   "source": [
    "fruits = ['apple', 'banana', 'mango']\n",
    "for index, fruits in enumerate(fruits):  # enumerate() returns the index and the valueb\n",
    "    print(index, fruits)"
   ]
  },
  {
   "cell_type": "code",
   "execution_count": 19,
   "id": "de6d6533",
   "metadata": {},
   "outputs": [
    {
     "name": "stdout",
     "output_type": "stream",
     "text": [
      "(0, 'apple')\n",
      "(1, 'banana')\n",
      "(2, 'mango')\n"
     ]
    }
   ],
   "source": [
    "fruits = ['apple', 'banana', 'mango']\n",
    "for tup in enumerate(fruits):  # enumerate() creates a tuple of the element with its index \n",
    "    print(tup)"
   ]
  },
  {
   "cell_type": "code",
   "execution_count": 21,
   "id": "9584ef24",
   "metadata": {},
   "outputs": [
    {
     "name": "stdout",
     "output_type": "stream",
     "text": [
      "(1, 'apple')\n",
      "(2, 'banana')\n",
      "(3, 'mango')\n"
     ]
    }
   ],
   "source": [
    "fruits = ['apple', 'banana', 'mango']\n",
    "for tup in enumerate(fruits, start = 1):  # start can be specified to start the index from the desired number\n",
    "    print(tup)"
   ]
  }
 ],
 "metadata": {
  "kernelspec": {
   "display_name": "Python 3 (ipykernel)",
   "language": "python",
   "name": "python3"
  },
  "language_info": {
   "codemirror_mode": {
    "name": "ipython",
    "version": 3
   },
   "file_extension": ".py",
   "mimetype": "text/x-python",
   "name": "python",
   "nbconvert_exporter": "python",
   "pygments_lexer": "ipython3",
   "version": "3.11.3"
  }
 },
 "nbformat": 4,
 "nbformat_minor": 5
}
