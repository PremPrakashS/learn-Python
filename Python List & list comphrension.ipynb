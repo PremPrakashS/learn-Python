{
 "cells": [
  {
   "cell_type": "code",
   "execution_count": 10,
   "id": "cf64ce08",
   "metadata": {},
   "outputs": [],
   "source": [
    "l = [3, 5, 6, 'String', True, 23.45] # list is ordered collection of data items."
   ]
  },
  {
   "cell_type": "code",
   "execution_count": 11,
   "id": "42bc8a8e",
   "metadata": {},
   "outputs": [
    {
     "name": "stdout",
     "output_type": "stream",
     "text": [
      "[3, 5, 6, 'String', True, 23.45]\n",
      "<class 'list'>\n"
     ]
    }
   ],
   "source": [
    "print(l)\n",
    "print(type(l))"
   ]
  },
  {
   "cell_type": "code",
   "execution_count": 12,
   "id": "1bd84452",
   "metadata": {},
   "outputs": [
    {
     "data": {
      "text/plain": [
       "'String'"
      ]
     },
     "execution_count": 12,
     "metadata": {},
     "output_type": "execute_result"
    }
   ],
   "source": [
    "l[3]"
   ]
  },
  {
   "cell_type": "code",
   "execution_count": 19,
   "id": "f12ec56f",
   "metadata": {},
   "outputs": [
    {
     "data": {
      "text/plain": [
       "[23.45, True, 'String', 6, 5, 3]"
      ]
     },
     "execution_count": 19,
     "metadata": {},
     "output_type": "execute_result"
    }
   ],
   "source": [
    "l[::-1]"
   ]
  },
  {
   "cell_type": "code",
   "execution_count": 20,
   "id": "9615213c",
   "metadata": {},
   "outputs": [],
   "source": [
    "string1= 'Prem Prakash'"
   ]
  },
  {
   "cell_type": "code",
   "execution_count": 23,
   "id": "38b7c7b7",
   "metadata": {},
   "outputs": [
    {
     "data": {
      "text/plain": [
       "'rP m'"
      ]
     },
     "execution_count": 23,
     "metadata": {},
     "output_type": "execute_result"
    }
   ],
   "source": [
    "string1[6:2:-1]"
   ]
  },
  {
   "cell_type": "code",
   "execution_count": 24,
   "id": "663f085b",
   "metadata": {},
   "outputs": [
    {
     "name": "stdout",
     "output_type": "stream",
     "text": [
      "String\n"
     ]
    }
   ],
   "source": [
    "if 'String' in l:\n",
    "    print('String')\n",
    "# same thing applies for strings as well"
   ]
  },
  {
   "cell_type": "code",
   "execution_count": 28,
   "id": "2f1732f3",
   "metadata": {},
   "outputs": [
    {
     "name": "stdout",
     "output_type": "stream",
     "text": [
      "[3, 5, 6, 'String', True, 23.45]\n",
      "[3, 5, 6, 'String', True, 23.45]\n",
      "[5, 6, 'String', True, 23.45]\n",
      "[5, 6]\n",
      "[3, 6, True]\n",
      "[6, True]\n"
     ]
    }
   ],
   "source": [
    "print(l)\n",
    "print(l[:])\n",
    "print(l[1:])\n",
    "print(l[1:3])\n",
    "print(l[::2])\n",
    "print(l[2::2])"
   ]
  },
  {
   "cell_type": "markdown",
   "id": "e1e0fc28",
   "metadata": {},
   "source": [
    "# List comphrension"
   ]
  },
  {
   "cell_type": "code",
   "execution_count": 31,
   "id": "41258585",
   "metadata": {},
   "outputs": [
    {
     "name": "stdout",
     "output_type": "stream",
     "text": [
      "[0, 1, 4, 9, 16, 25, 36, 49, 64, 81, 100]\n"
     ]
    }
   ],
   "source": [
    "lst = [i*i for i in range(11)]\n",
    "print(lst)"
   ]
  },
  {
   "cell_type": "code",
   "execution_count": 32,
   "id": "c5b2349b",
   "metadata": {},
   "outputs": [
    {
     "name": "stdout",
     "output_type": "stream",
     "text": [
      "[0, 4, 16, 36, 64]\n"
     ]
    }
   ],
   "source": [
    "lst1 = [i*i for i in range(10) if i % 2 == 0]\n",
    "print(lst1)"
   ]
  }
 ],
 "metadata": {
  "kernelspec": {
   "display_name": "Python 3 (ipykernel)",
   "language": "python",
   "name": "python3"
  },
  "language_info": {
   "codemirror_mode": {
    "name": "ipython",
    "version": 3
   },
   "file_extension": ".py",
   "mimetype": "text/x-python",
   "name": "python",
   "nbconvert_exporter": "python",
   "pygments_lexer": "ipython3",
   "version": "3.11.0"
  }
 },
 "nbformat": 4,
 "nbformat_minor": 5
}
