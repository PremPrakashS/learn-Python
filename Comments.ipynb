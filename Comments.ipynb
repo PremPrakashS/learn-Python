{
 "cells": [
  {
   "cell_type": "code",
   "execution_count": null,
   "id": "b833ad3a",
   "metadata": {},
   "outputs": [],
   "source": [
    "'''\n",
    "Author: Prem Prakash Singh\n",
    "Date: 06 December 2022\n",
    "select ctrl + / : to comment multiple lines\n",
    "'''\n",
    "# Can also use three single quotes or double quotes for multiline comments"
   ]
  },
  {
   "cell_type": "code",
   "execution_count": 5,
   "id": "800e2527",
   "metadata": {},
   "outputs": [
    {
     "name": "stdout",
     "output_type": "stream",
     "text": [
      "This is a string fijfjfjfjfjfj\n"
     ]
    }
   ],
   "source": [
    "print(\"This is a string \\\n",
    "fijfjfjfjfjfj\")\n",
    "#escape new line using '\\''"
   ]
  },
  {
   "cell_type": "code",
   "execution_count": 8,
   "id": "54489062",
   "metadata": {
    "scrolled": false
   },
   "outputs": [
    {
     "name": "stdout",
     "output_type": "stream",
     "text": [
      "this is \"first\" line \n",
      " this is second line\n"
     ]
    }
   ],
   "source": [
    "print('this is \"first\" line \\n this is second line')\n",
    "# to have a new line use '\\n' escape sequence instead"
   ]
  },
  {
   "cell_type": "code",
   "execution_count": 9,
   "id": "ea6b4097",
   "metadata": {},
   "outputs": [
    {
     "name": "stdout",
     "output_type": "stream",
     "text": [
      "this \"is a\" string\n"
     ]
    }
   ],
   "source": [
    "print(\"this \\\"is a\\\" string\") # to insert a character which cannot be added in a sting normally use escape sequence."
   ]
  }
 ],
 "metadata": {
  "kernelspec": {
   "display_name": "Python 3 (ipykernel)",
   "language": "python",
   "name": "python3"
  },
  "language_info": {
   "codemirror_mode": {
    "name": "ipython",
    "version": 3
   },
   "file_extension": ".py",
   "mimetype": "text/x-python",
   "name": "python",
   "nbconvert_exporter": "python",
   "pygments_lexer": "ipython3",
   "version": "3.11.0"
  }
 },
 "nbformat": 4,
 "nbformat_minor": 5
}
