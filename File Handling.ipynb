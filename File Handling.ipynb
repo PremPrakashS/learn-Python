{
 "cells": [
  {
   "cell_type": "markdown",
   "id": "eff76859",
   "metadata": {},
   "source": [
    "# open(\\<file_name>, \\<modes>)\n",
    "\n",
    "modes:\n",
    "\n",
    "'r' for read: opens the file for reading only and gives error if file does not exist. Default mode\n",
    "\n",
    "'w' for write: opens the file for writing and creates a file if does not exist.\n",
    "\n",
    "'a' for append: to append content at end of the file.\n",
    "\n",
    "'x' this mode creates a file and gives an error if the file already exists.\n",
    "\n",
    "'t' used to mention the file should be handled. t refers to text mode. there is not difference between r and rt and w and wt since text mode is the default. The default mode is 'r'(open for reading text, synonym of 'rt'). used with first 3\n",
    "\n",
    "'b' used to handle binary files(images, pdfs, etc). e.g. 'rb'\n",
    "\n",
    "files opened in write mode cannot be used to read using read() function."
   ]
  },
  {
   "cell_type": "code",
   "execution_count": 1,
   "id": "e92d43d3",
   "metadata": {},
   "outputs": [
    {
     "ename": "FileNotFoundError",
     "evalue": "[Errno 2] No such file or directory: 'myfile.txt'",
     "output_type": "error",
     "traceback": [
      "\u001b[1;31m---------------------------------------------------------------------------\u001b[0m",
      "\u001b[1;31mFileNotFoundError\u001b[0m                         Traceback (most recent call last)",
      "Cell \u001b[1;32mIn[1], line 1\u001b[0m\n\u001b[1;32m----> 1\u001b[0m f \u001b[38;5;241m=\u001b[39m \u001b[38;5;28;43mopen\u001b[39;49m\u001b[43m(\u001b[49m\u001b[38;5;124;43m'\u001b[39;49m\u001b[38;5;124;43mmyfile.txt\u001b[39;49m\u001b[38;5;124;43m'\u001b[39;49m\u001b[43m,\u001b[49m\u001b[43m \u001b[49m\u001b[38;5;124;43m'\u001b[39;49m\u001b[38;5;124;43mr\u001b[39;49m\u001b[38;5;124;43m'\u001b[39;49m\u001b[43m)\u001b[49m\n",
      "File \u001b[1;32m~\\AppData\\Local\\Programs\\Python\\Python311\\Lib\\site-packages\\IPython\\core\\interactiveshell.py:282\u001b[0m, in \u001b[0;36m_modified_open\u001b[1;34m(file, *args, **kwargs)\u001b[0m\n\u001b[0;32m    275\u001b[0m \u001b[38;5;28;01mif\u001b[39;00m file \u001b[38;5;129;01min\u001b[39;00m {\u001b[38;5;241m0\u001b[39m, \u001b[38;5;241m1\u001b[39m, \u001b[38;5;241m2\u001b[39m}:\n\u001b[0;32m    276\u001b[0m     \u001b[38;5;28;01mraise\u001b[39;00m \u001b[38;5;167;01mValueError\u001b[39;00m(\n\u001b[0;32m    277\u001b[0m         \u001b[38;5;124mf\u001b[39m\u001b[38;5;124m\"\u001b[39m\u001b[38;5;124mIPython won\u001b[39m\u001b[38;5;124m'\u001b[39m\u001b[38;5;124mt let you open fd=\u001b[39m\u001b[38;5;132;01m{\u001b[39;00mfile\u001b[38;5;132;01m}\u001b[39;00m\u001b[38;5;124m by default \u001b[39m\u001b[38;5;124m\"\u001b[39m\n\u001b[0;32m    278\u001b[0m         \u001b[38;5;124m\"\u001b[39m\u001b[38;5;124mas it is likely to crash IPython. If you know what you are doing, \u001b[39m\u001b[38;5;124m\"\u001b[39m\n\u001b[0;32m    279\u001b[0m         \u001b[38;5;124m\"\u001b[39m\u001b[38;5;124myou can use builtins\u001b[39m\u001b[38;5;124m'\u001b[39m\u001b[38;5;124m open.\u001b[39m\u001b[38;5;124m\"\u001b[39m\n\u001b[0;32m    280\u001b[0m     )\n\u001b[1;32m--> 282\u001b[0m \u001b[38;5;28;01mreturn\u001b[39;00m \u001b[43mio_open\u001b[49m\u001b[43m(\u001b[49m\u001b[43mfile\u001b[49m\u001b[43m,\u001b[49m\u001b[43m \u001b[49m\u001b[38;5;241;43m*\u001b[39;49m\u001b[43margs\u001b[49m\u001b[43m,\u001b[49m\u001b[43m \u001b[49m\u001b[38;5;241;43m*\u001b[39;49m\u001b[38;5;241;43m*\u001b[39;49m\u001b[43mkwargs\u001b[49m\u001b[43m)\u001b[49m\n",
      "\u001b[1;31mFileNotFoundError\u001b[0m: [Errno 2] No such file or directory: 'myfile.txt'"
     ]
    }
   ],
   "source": [
    "f = open('myfile.txt', 'r')"
   ]
  },
  {
   "cell_type": "code",
   "execution_count": 6,
   "id": "276ca1cd",
   "metadata": {},
   "outputs": [],
   "source": [
    "f = open(\"text.txt\", 'r')"
   ]
  },
  {
   "cell_type": "code",
   "execution_count": 7,
   "id": "e8c8aa0a",
   "metadata": {},
   "outputs": [
    {
     "name": "stdout",
     "output_type": "stream",
     "text": [
      "<_io.TextIOWrapper name='text.txt' mode='r' encoding='cp1252'>\n"
     ]
    }
   ],
   "source": [
    "print(f)"
   ]
  },
  {
   "cell_type": "code",
   "execution_count": 8,
   "id": "d0a5765d",
   "metadata": {},
   "outputs": [
    {
     "name": "stdout",
     "output_type": "stream",
     "text": [
      "<_io.TextIOWrapper name='text.txt' mode='r' encoding='cp1252'>\n"
     ]
    },
    {
     "data": {
      "text/plain": [
       "'Video provides a powerful way to help you prove your point. When you click Online Video, you can paste in the embed code for the video you want to add. You can also type a keyword to search online for the video that best fits your document.\\nTo make your document look professionally produced, Word provides header, footer, cover page, and text box designs that complement each other. For example, you can add a matching cover page, header, and sidebar. Click Insert and then choose the elements you want from the different galleries.\\nThemes and styles also help keep your document coordinated. When you click Design and choose a new Theme, the pictures, charts, and SmartArt graphics change to match your new theme. When you apply styles, your headings change to match the new theme.\\nSave time in Word with new buttons that show up where you need them. To change the way a picture fits in your document, click it and a button for layout options appears next to it. When you work on a table, click where you want to add a row or a column, and then click the plus sign.\\nReading is easier, too, in the new Reading view. You can collapse parts of the document and focus on the text you want. If you need to stop reading before you reach the end, Word remembers where you left off - even on another device.'"
      ]
     },
     "execution_count": 8,
     "metadata": {},
     "output_type": "execute_result"
    }
   ],
   "source": [
    "text = f.read()\n",
    "print(f)\n",
    "text"
   ]
  },
  {
   "cell_type": "code",
   "execution_count": 10,
   "id": "458ba56c",
   "metadata": {},
   "outputs": [
    {
     "data": {
      "text/plain": [
       "['Video provides a powerful way to help you prove your point. When you click Online Video, you can paste in the embed code for the video you want to add. You can also type a keyword to search online for the video that best fits your document.',\n",
       " 'To make your document look professionally produced, Word provides header, footer, cover page, and text box designs that complement each other. For example, you can add a matching cover page, header, and sidebar. Click Insert and then choose the elements you want from the different galleries.',\n",
       " 'Themes and styles also help keep your document coordinated. When you click Design and choose a new Theme, the pictures, charts, and SmartArt graphics change to match your new theme. When you apply styles, your headings change to match the new theme.',\n",
       " 'Save time in Word with new buttons that show up where you need them. To change the way a picture fits in your document, click it and a button for layout options appears next to it. When you work on a table, click where you want to add a row or a column, and then click the plus sign.',\n",
       " 'Reading is easier, too, in the new Reading view. You can collapse parts of the document and focus on the text you want. If you need to stop reading before you reach the end, Word remembers where you left off - even on another device.']"
      ]
     },
     "execution_count": 10,
     "metadata": {},
     "output_type": "execute_result"
    }
   ],
   "source": [
    "text.split('\\n') # split is used to split a string and returns a list based on \n",
    "#given seprator string.split(separator, maxsplit) maxsplit\tOptional. Specifies how many splits to do. Default value is -1, which is \"all occurrences\""
   ]
  },
  {
   "cell_type": "code",
   "execution_count": 11,
   "id": "8a73de39",
   "metadata": {},
   "outputs": [],
   "source": [
    "f.close()"
   ]
  },
  {
   "cell_type": "code",
   "execution_count": 23,
   "id": "a5b0878d",
   "metadata": {},
   "outputs": [
    {
     "ename": "NameError",
     "evalue": "name 'text' is not defined",
     "output_type": "error",
     "traceback": [
      "\u001b[1;31m---------------------------------------------------------------------------\u001b[0m",
      "\u001b[1;31mNameError\u001b[0m                                 Traceback (most recent call last)",
      "Cell \u001b[1;32mIn[23], line 4\u001b[0m\n\u001b[0;32m      2\u001b[0m \u001b[38;5;66;03m# text = f.read()\u001b[39;00m\n\u001b[0;32m      3\u001b[0m \u001b[38;5;28;01mdel\u001b[39;00m text\n\u001b[1;32m----> 4\u001b[0m \u001b[38;5;28mprint\u001b[39m(\u001b[43mtext\u001b[49m)\n\u001b[0;32m      5\u001b[0m f\u001b[38;5;241m.\u001b[39mclose()\n",
      "\u001b[1;31mNameError\u001b[0m: name 'text' is not defined"
     ]
    }
   ],
   "source": [
    "f = open('txet.txt', 'x')\n",
    "# text = f.read()\n",
    "f.close()"
   ]
  },
  {
   "cell_type": "code",
   "execution_count": 37,
   "id": "8316e9b7",
   "metadata": {},
   "outputs": [],
   "source": [
    "f = open('text1.txt', 'a')\n",
    "f.write(\"hello world!\")   # content will only appear in the file once the file is closed. i.e. close() is like closing the file after saving.\n",
    "f.close()"
   ]
  },
  {
   "cell_type": "code",
   "execution_count": 1,
   "id": "ef13fbcf",
   "metadata": {},
   "outputs": [],
   "source": [
    "# no need to close file if with is used\n",
    "with open('text1.txt', 'a') as f:\n",
    "    f.write(\"hey I am inside with\")"
   ]
  },
  {
   "cell_type": "markdown",
   "id": "5ad4aa1a-9245-475e-b700-274dd7ce132e",
   "metadata": {
    "tags": []
   },
   "source": [
    "# readline() method is used to read the file line by line"
   ]
  },
  {
   "cell_type": "code",
   "execution_count": 4,
   "id": "15b220a7",
   "metadata": {},
   "outputs": [
    {
     "name": "stdout",
     "output_type": "stream",
     "text": [
      "hello world!\n",
      " <class 'str'>\n",
      "hello world!hello world!hello world!\n",
      " <class 'str'>\n",
      "hello world!hello world!hello world!hello world!hello world!hello world!\n",
      " <class 'str'>\n",
      "hello world!\n",
      " <class 'str'>\n",
      "hey I am inside with <class 'str'>\n"
     ]
    }
   ],
   "source": [
    "f = open('text1.txt', 'r')\n",
    "while True:\n",
    "    line = f.readline()\n",
    "    # print(line)\n",
    "    if not line:\n",
    "        break\n",
    "    print(line, type(line))\n",
    "f.close()"
   ]
  },
  {
   "cell_type": "code",
   "execution_count": 6,
   "id": "a469c25e",
   "metadata": {},
   "outputs": [
    {
     "name": "stdout",
     "output_type": "stream",
     "text": [
      "Marks of student 1 in Maths is: 90\n",
      "Marks of student 1 in English is: 64\n",
      "Marks of student 1 in SST is: 68\n",
      "45,32,34\n",
      "\n",
      "Marks of student 2 in Maths is: 46\n",
      "Marks of student 2 in English is: 68\n",
      "Marks of student 2 in SST is: 112\n",
      "23,34,56\n",
      "\n",
      "Marks of student 3 in Maths is: 46\n",
      "Marks of student 3 in English is: 92\n",
      "Marks of student 3 in SST is: 136\n",
      "23,46,68\n"
     ]
    }
   ],
   "source": [
    "f = open('marks.txt', 'r')\n",
    "\n",
    "i = 0\n",
    "while True:\n",
    "    i = i+1\n",
    "    line = f.readline()\n",
    "    if not line:\n",
    "        break\n",
    "        \n",
    "    m1 = int(line.split(\",\")[0])\n",
    "    m2 = int(line.split(\",\")[1])\n",
    "    m3 = int(line.split(\",\")[2])\n",
    "    \n",
    "    print(f\"Marks of student {i} in Maths is: {m1*2}\")\n",
    "    print(f\"Marks of student {i} in English is: {m2*2}\")\n",
    "    print(f\"Marks of student {i} in SST is: {m3*2}\")\n",
    "    \n",
    "    print(line)\n",
    "    \n",
    "f.close()"
   ]
  },
  {
   "cell_type": "markdown",
   "id": "46600655-07aa-4b65-b9d5-09ee5c71f48d",
   "metadata": {},
   "source": [
    "`writeline()` method function is used to write in a file line by line from an iterable object"
   ]
  },
  {
   "cell_type": "code",
   "execution_count": 8,
   "id": "340ae53f-7b36-489c-a8a3-4d68b2a1449a",
   "metadata": {},
   "outputs": [],
   "source": [
    "f = open('file2.txt', 'w')\n",
    "lines = ['line 1\\n' , 'line 2\\n' , 'line 3\\n' ]\n",
    "f.writelines(lines) # writeline does not add a new line character at the end of a line\n",
    "f.close()"
   ]
  },
  {
   "cell_type": "markdown",
   "id": "f6656b01-38bd-4bcf-b973-2effbf5f5798",
   "metadata": {},
   "source": [
    "## Alternate method to do the above is using loop"
   ]
  },
  {
   "cell_type": "code",
   "execution_count": 11,
   "id": "6ef1fa8a-3b95-4960-af28-9824e2e7f4b9",
   "metadata": {},
   "outputs": [],
   "source": [
    "lines = ['line 1' , 'line 2' , 'line 3' ]\n",
    "with open('file3.txt', 'w') as f:\n",
    "    for line in lines:\n",
    "        f.write(line + '\\n')"
   ]
  },
  {
   "cell_type": "markdown",
   "id": "c7a8b3bc-1c44-44b7-840c-fa93d7d557c8",
   "metadata": {},
   "source": [
    "# `seek()` and `tell()`"
   ]
  },
  {
   "cell_type": "code",
   "execution_count": 18,
   "id": "38dc4e15-8a9a-4bdb-9b3a-72618c336825",
   "metadata": {},
   "outputs": [
    {
     "name": "stdout",
     "output_type": "stream",
     "text": [
      "7\n",
      "67\n"
     ]
    }
   ],
   "source": [
    "with open('newfile.txt', 'r') as f:\n",
    "    f.seek(5) # Move the cursor to the 10th byte in the file\n",
    "    \n",
    "    data = f.read(2) # read the next 10 bytes from the file\n",
    "    \n",
    "    print(f.tell()) # returns the postition of the file pointer\n",
    "    print(data)"
   ]
  },
  {
   "cell_type": "markdown",
   "id": "eea453b2-ffb4-4ab9-81f0-86146abe31b6",
   "metadata": {},
   "source": [
    "# content of newfile.txt\n",
    "123456789tet"
   ]
  },
  {
   "cell_type": "markdown",
   "id": "271e146d-86a5-4ed9-9ba1-528a03618105",
   "metadata": {},
   "source": [
    "`truncate(<# of bytes>)` function: truncates the file to certain # of bytes."
   ]
  },
  {
   "cell_type": "code",
   "execution_count": 21,
   "id": "eb9e1f1c-4d0a-4231-bba1-bac61f768379",
   "metadata": {},
   "outputs": [
    {
     "name": "stdout",
     "output_type": "stream",
     "text": [
      "Hello W\n"
     ]
    }
   ],
   "source": [
    "with open('sample.txt', 'w') as f:\n",
    "    f.write('Hello World!')\n",
    "    f.truncate(7)\n",
    "    \n",
    "with open('sample.txt', 'r') as f:\n",
    "    print(f.read())"
   ]
  }
 ],
 "metadata": {
  "kernelspec": {
   "display_name": "Python 3 (ipykernel)",
   "language": "python",
   "name": "python3"
  },
  "language_info": {
   "codemirror_mode": {
    "name": "ipython",
    "version": 3
   },
   "file_extension": ".py",
   "mimetype": "text/x-python",
   "name": "python",
   "nbconvert_exporter": "python",
   "pygments_lexer": "ipython3",
   "version": "3.11.3"
  }
 },
 "nbformat": 4,
 "nbformat_minor": 5
}
