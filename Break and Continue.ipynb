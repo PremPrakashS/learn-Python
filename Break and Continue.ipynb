{
 "cells": [
  {
   "cell_type": "code",
   "execution_count": 9,
   "id": "5117f057",
   "metadata": {},
   "outputs": [
    {
     "name": "stdout",
     "output_type": "stream",
     "text": [
      "5 X  1 = 5\n",
      "5 X  2 = 10\n",
      "5 X  3 = 15\n",
      "5 X  4 = 20\n",
      "5 X  5 = 25\n",
      "5 X  6 = 30\n",
      "5 X  7 = 35\n",
      "5 X  8 = 40\n",
      "5 X  9 = 45\n",
      "5 X  10 = 50\n"
     ]
    }
   ],
   "source": [
    "for i in range(20):\n",
    "    print(\"5 X \",i+1, \"=\", 5*(i+1))\n",
    "    if(i == 9):\n",
    "        break\n",
    "\n",
    "# break is used to break out of the loop and ends the loop"
   ]
  },
  {
   "cell_type": "code",
   "execution_count": 14,
   "id": "34ef9e46",
   "metadata": {},
   "outputs": [
    {
     "name": "stdout",
     "output_type": "stream",
     "text": [
      "5 X  1 = 5\n",
      "5 X  2 = 10\n",
      "5 X  3 = 15\n",
      "5 X  4 = 20\n",
      "Skipped the iteration!\n",
      "5 X  6 = 30\n",
      "5 X  7 = 35\n",
      "5 X  8 = 40\n",
      "5 X  9 = 45\n",
      "Skipped the iteration!\n",
      "5 X  11 = 55\n",
      "5 X  12 = 60\n",
      "5 X  13 = 65\n",
      "5 X  14 = 70\n",
      "Skipped the iteration!\n",
      "5 X  16 = 80\n",
      "5 X  17 = 85\n",
      "5 X  18 = 90\n",
      "5 X  19 = 95\n",
      "Skipped the iteration!\n"
     ]
    }
   ],
   "source": [
    "for i in range(20):\n",
    "    if((i+1) % 5 == 0):\n",
    "        print(\"Skipped the iteration!\")\n",
    "        continue\n",
    "# continue skips the particular iteration of the loop and jumps to the next iteration\n",
    "    print(\"5 X \",i+1, \"=\", 5*(i+1))"
   ]
  }
 ],
 "metadata": {
  "kernelspec": {
   "display_name": "Python 3 (ipykernel)",
   "language": "python",
   "name": "python3"
  },
  "language_info": {
   "codemirror_mode": {
    "name": "ipython",
    "version": 3
   },
   "file_extension": ".py",
   "mimetype": "text/x-python",
   "name": "python",
   "nbconvert_exporter": "python",
   "pygments_lexer": "ipython3",
   "version": "3.11.3"
  }
 },
 "nbformat": 4,
 "nbformat_minor": 5
}
