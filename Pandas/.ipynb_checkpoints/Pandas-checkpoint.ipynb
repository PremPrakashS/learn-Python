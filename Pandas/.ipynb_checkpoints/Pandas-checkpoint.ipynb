{
 "cells": [
  {
   "cell_type": "code",
   "execution_count": 1,
   "id": "13a3d4a8-9d01-499c-936a-9b3bf220d4e8",
   "metadata": {},
   "outputs": [],
   "source": [
    "import pandas as pd\n",
    "import numpy as np"
   ]
  },
  {
   "cell_type": "code",
   "execution_count": 2,
   "id": "2d137eb1-db59-4237-acdb-5d8f593e5e90",
   "metadata": {},
   "outputs": [],
   "source": [
    "mydata = ['boat', 'car', 'bike', 'Truck']\n",
    "myseries = pd.Series(mydata)"
   ]
  },
  {
   "cell_type": "code",
   "execution_count": 3,
   "id": "fdeb7bc9-a28e-45d7-9b7e-08898eadf6a8",
   "metadata": {},
   "outputs": [
    {
     "name": "stdout",
     "output_type": "stream",
     "text": [
      "0     boat\n",
      "1      car\n",
      "2     bike\n",
      "3    Truck\n",
      "dtype: object\n"
     ]
    }
   ],
   "source": [
    "print(myseries)"
   ]
  },
  {
   "cell_type": "code",
   "execution_count": 22,
   "id": "64d8b75d-5064-473f-9f14-5fde158d935e",
   "metadata": {},
   "outputs": [
    {
     "name": "stdout",
     "output_type": "stream",
     "text": [
      "0      3\n",
      "1      3\n",
      "2     12\n",
      "3      7\n",
      "4      6\n",
      "5     16\n",
      "6     19\n",
      "7      4\n",
      "8      1\n",
      "9      2\n",
      "10    16\n",
      "11     5\n",
      "12    19\n",
      "13     3\n",
      "14     2\n",
      "15     0\n",
      "16     0\n",
      "17     7\n",
      "18     9\n",
      "19    17\n",
      "dtype: int32\n",
      "object\n"
     ]
    }
   ],
   "source": [
    "mydata = np.random.randint(20, size=(20))\n",
    "myseries1 = pd.Series(mydata)\n",
    "print(myseries1)\n",
    "print(myseries.dtype)"
   ]
  },
  {
   "cell_type": "markdown",
   "id": "32082412-6369-46cc-ad45-ef0080dc7ab6",
   "metadata": {},
   "source": [
    "# DataFrame"
   ]
  },
  {
   "cell_type": "code",
   "execution_count": 15,
   "id": "a2f57768-64c7-4f85-ab3c-eebe1dfb0184",
   "metadata": {},
   "outputs": [
    {
     "data": {
      "text/html": [
       "<div>\n",
       "<style scoped>\n",
       "    .dataframe tbody tr th:only-of-type {\n",
       "        vertical-align: middle;\n",
       "    }\n",
       "\n",
       "    .dataframe tbody tr th {\n",
       "        vertical-align: top;\n",
       "    }\n",
       "\n",
       "    .dataframe thead th {\n",
       "        text-align: right;\n",
       "    }\n",
       "</style>\n",
       "<table border=\"1\" class=\"dataframe\">\n",
       "  <thead>\n",
       "    <tr style=\"text-align: right;\">\n",
       "      <th></th>\n",
       "      <th>thing</th>\n",
       "      <th>count</th>\n",
       "    </tr>\n",
       "  </thead>\n",
       "  <tbody>\n",
       "    <tr>\n",
       "      <th>0</th>\n",
       "      <td>boat</td>\n",
       "      <td>1</td>\n",
       "    </tr>\n",
       "    <tr>\n",
       "      <th>1</th>\n",
       "      <td>car</td>\n",
       "      <td>55</td>\n",
       "    </tr>\n",
       "    <tr>\n",
       "      <th>2</th>\n",
       "      <td>bike</td>\n",
       "      <td>99</td>\n",
       "    </tr>\n",
       "    <tr>\n",
       "      <th>3</th>\n",
       "      <td>Truck</td>\n",
       "      <td>43</td>\n",
       "    </tr>\n",
       "  </tbody>\n",
       "</table>\n",
       "</div>"
      ],
      "text/plain": [
       "   thing  count\n",
       "0   boat      1\n",
       "1    car     55\n",
       "2   bike     99\n",
       "3  Truck     43"
      ]
     },
     "metadata": {},
     "output_type": "display_data"
    }
   ],
   "source": [
    "mydfdata = [('boat', 1), ('car', 55), ('bike', 99), ('Truck',43)]\n",
    "mydf = pd.DataFrame(mydfdata, columns=['thing', 'count'])\n",
    "display(mydf)"
   ]
  },
  {
   "cell_type": "code",
   "execution_count": 24,
   "id": "22cf4352-fcbb-4909-b4e0-5fc29d68dc55",
   "metadata": {},
   "outputs": [
    {
     "data": {
      "text/plain": [
       "0     boat\n",
       "1      car\n",
       "2     bike\n",
       "3    Truck\n",
       "Name: thing, dtype: object"
      ]
     },
     "metadata": {},
     "output_type": "display_data"
    },
    {
     "data": {
      "text/plain": [
       "0     1\n",
       "1    55\n",
       "2    99\n",
       "3    43\n",
       "Name: count, dtype: int64"
      ]
     },
     "metadata": {},
     "output_type": "display_data"
    },
    {
     "name": "stdout",
     "output_type": "stream",
     "text": [
      "<class 'pandas.core.series.Series'>\n",
      "<class 'pandas.core.series.Series'>\n"
     ]
    },
    {
     "data": {
      "text/plain": [
       "thing    object\n",
       "count     int64\n",
       "dtype: object"
      ]
     },
     "execution_count": 24,
     "metadata": {},
     "output_type": "execute_result"
    }
   ],
   "source": [
    "display(mydf['thing'])\n",
    "\n",
    "display(mydf['count'])\n",
    "\n",
    "print(type(mydf['thing']))\n",
    "print(type(mydf['thing']))\n",
    "\n",
    "mydf.dtypes"
   ]
  },
  {
   "cell_type": "markdown",
   "id": "043db720-0ffb-4260-bf37-3dce3bcc76dd",
   "metadata": {},
   "source": [
    "# Reading in Data"
   ]
  },
  {
   "cell_type": "code",
   "execution_count": 26,
   "id": "8a471fba-2144-4007-8242-9436b9dd2f56",
   "metadata": {},
   "outputs": [],
   "source": [
    "df = pd.read_csv('C:\\\\Users\\\\prem2\\\\Downloads\\\\archive\\\\MrBeast_youtube_stats.csv')\n",
    "# make sure to use double slash"
   ]
  }
 ],
 "metadata": {
  "kernelspec": {
   "display_name": "Python 3 (ipykernel)",
   "language": "python",
   "name": "python3"
  },
  "language_info": {
   "codemirror_mode": {
    "name": "ipython",
    "version": 3
   },
   "file_extension": ".py",
   "mimetype": "text/x-python",
   "name": "python",
   "nbconvert_exporter": "python",
   "pygments_lexer": "ipython3",
   "version": "3.11.3"
  }
 },
 "nbformat": 4,
 "nbformat_minor": 5
}
