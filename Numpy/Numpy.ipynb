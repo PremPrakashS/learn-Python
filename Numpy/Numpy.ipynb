{
 "cells": [
  {
   "cell_type": "code",
   "execution_count": 10,
   "id": "70e9394f-c3b4-4d56-a3c2-380d2c73eee0",
   "metadata": {},
   "outputs": [],
   "source": [
    "import numpy as np"
   ]
  },
  {
   "cell_type": "code",
   "execution_count": 11,
   "id": "1e591d2f-8e5e-4115-8429-ccd7dc73e0aa",
   "metadata": {},
   "outputs": [
    {
     "data": {
      "text/plain": [
       "array([[-0.31616409,  0.76466881,  1.29219452, -0.10890064],\n",
       "       [ 0.13062644, -0.08189519,  0.59576206, -0.73791797],\n",
       "       [-1.6815828 ,  0.57464179,  0.56345443, -0.80977722],\n",
       "       [ 0.41419226, -0.23388328, -0.88573589, -1.59433108]])"
      ]
     },
     "execution_count": 11,
     "metadata": {},
     "output_type": "execute_result"
    }
   ],
   "source": [
    "mp = np.random.normal(size = (4,4))\n",
    "mp"
   ]
  },
  {
   "cell_type": "code",
   "execution_count": 13,
   "id": "0ddcca02-0d7a-486a-a28d-d81981727c58",
   "metadata": {},
   "outputs": [
    {
     "data": {
      "text/plain": [
       "array([[2.        , 0.76466881, 1.29219452, 2.        ],\n",
       "       [0.13062644, 2.        , 0.59576206, 2.        ],\n",
       "       [2.        , 0.57464179, 0.56345443, 2.        ],\n",
       "       [0.41419226, 2.        , 2.        , 2.        ]])"
      ]
     },
     "execution_count": 13,
     "metadata": {},
     "output_type": "execute_result"
    }
   ],
   "source": [
    "pp[] = 2\n",
    "mp"
   ]
  },
  {
   "cell_type": "code",
   "execution_count": 2,
   "id": "3ba63832-1164-4559-9c34-c5a435e43b97",
   "metadata": {},
   "outputs": [],
   "source": [
    "arr = np.array([[1,2,3,4], [5,6,7,8], [9,10,11,12]])\n",
    "arr"
   ]
  },
  {
   "cell_type": "code",
   "execution_count": 3,
   "id": "529011f3-571e-4e83-8f43-606fedea95e8",
   "metadata": {},
   "outputs": [
    {
     "data": {
      "text/plain": [
       "(3, 4)"
      ]
     },
     "execution_count": 3,
     "metadata": {},
     "output_type": "execute_result"
    }
   ],
   "source": [
    "arr.shape"
   ]
  },
  {
   "cell_type": "code",
   "execution_count": 7,
   "id": "cb211d83-689d-4490-a8f7-cd418cda7350",
   "metadata": {},
   "outputs": [
    {
     "name": "stdout",
     "output_type": "stream",
     "text": [
      "[[ 1  2  3  4]\n",
      " [ 5  6  7  8]\n",
      " [ 9 10 11 12]]\n",
      "[[1 2 3 4]\n",
      " [5 6 7 8]]\n"
     ]
    }
   ],
   "source": [
    "print(arr)\n",
    "arr_new = np.delete(arr, arr.shape[0]-1, axis = 0)\n",
    "print(arr_new)"
   ]
  },
  {
   "cell_type": "code",
   "execution_count": 7,
   "id": "9030c0b9-9c8d-4215-ae49-c2728003d6ab",
   "metadata": {},
   "outputs": [
    {
     "data": {
      "text/plain": [
       "array([0, 1, 0, 1])"
      ]
     },
     "execution_count": 7,
     "metadata": {},
     "output_type": "execute_result"
    }
   ],
   "source": [
    "a = np.array([0,1])\n",
    "np.tile(a,2)"
   ]
  },
  {
   "cell_type": "code",
   "execution_count": 8,
   "id": "87cead13-d461-4f99-ab0a-77f5833fd2e6",
   "metadata": {},
   "outputs": [
    {
     "name": "stdout",
     "output_type": "stream",
     "text": [
      "[1 2 3 4 5]\n"
     ]
    },
    {
     "data": {
      "text/plain": [
       "array([ 1,  2, 10,  4,  5])"
      ]
     },
     "execution_count": 8,
     "metadata": {},
     "output_type": "execute_result"
    }
   ],
   "source": [
    "a = np.array([1,2,3,4,5])\n",
    "print(a)\n",
    "\n",
    "a[2] = 10\n",
    "a"
   ]
  },
  {
   "cell_type": "code",
   "execution_count": 9,
   "id": "27e2998a-dd21-451f-98dd-d1c3ffe6741b",
   "metadata": {},
   "outputs": [
    {
     "name": "stdout",
     "output_type": "stream",
     "text": [
      "(2, 3, 4)\n",
      "3\n",
      "24\n",
      "int32\n"
     ]
    }
   ],
   "source": [
    "a_mul = np.array([[[1,2,3,1],\n",
    "                  [4,5,6,2],\n",
    "                  [7,8,9,3]],\n",
    "                  [[1,2,3,1],\n",
    "                  [4,5,6,2],\n",
    "                  [7,8,9,3]]])\n",
    "\n",
    "print(a_mul.shape)\n",
    "print(a_mul.ndim)\n",
    "print(a_mul.size)\n",
    "print(a_mul.dtype)"
   ]
  },
  {
   "cell_type": "code",
   "execution_count": 30,
   "id": "c46ac20a-4065-4658-a67a-f36f13312b7f",
   "metadata": {},
   "outputs": [
    {
     "name": "stdout",
     "output_type": "stream",
     "text": [
      "2.220446049250313e-16\n"
     ]
    }
   ],
   "source": [
    "print(np.finfo(float).eps)"
   ]
  },
  {
   "cell_type": "code",
   "execution_count": 14,
   "id": "9bf33d4d-3c38-4e78-92a4-48ce512cfc22",
   "metadata": {},
   "outputs": [
    {
     "data": {
      "text/plain": [
       "(2, 3, 4)"
      ]
     },
     "execution_count": 14,
     "metadata": {},
     "output_type": "execute_result"
    }
   ],
   "source": [
    "a_mul.shape"
   ]
  },
  {
   "cell_type": "code",
   "execution_count": 18,
   "id": "a4f290be-861b-4c08-96f1-95bdecdb1a77",
   "metadata": {},
   "outputs": [
    {
     "name": "stdout",
     "output_type": "stream",
     "text": [
      "[[ 1  2  3  4]\n",
      " [ 5  6  7  8]\n",
      " [ 9 10 11 12]]\n"
     ]
    },
    {
     "data": {
      "text/plain": [
       "array([[ 1,  3,  4],\n",
       "       [ 5,  7,  8],\n",
       "       [ 9, 11, 12]])"
      ]
     },
     "execution_count": 18,
     "metadata": {},
     "output_type": "execute_result"
    }
   ],
   "source": [
    "arr = np.array([[1,2,3,4], [5,6,7,8], [9,10,11,12]])\n",
    "print(arr)\n",
    "np.delete(arr, 1, 1)"
   ]
  },
  {
   "cell_type": "code",
   "execution_count": 29,
   "id": "71c1cb1a-1179-43ab-b4fc-5b3a83f7cc80",
   "metadata": {},
   "outputs": [
    {
     "data": {
      "text/plain": [
       "array([[10],\n",
       "       [26],\n",
       "       [42]])"
      ]
     },
     "execution_count": 29,
     "metadata": {},
     "output_type": "execute_result"
    }
   ],
   "source": [
    "arr.sum(1, keepdims = True)"
   ]
  },
  {
   "cell_type": "code",
   "execution_count": 4,
   "id": "3b09ed10-69a1-4a5c-b5fa-3888b5ac7a5b",
   "metadata": {},
   "outputs": [
    {
     "name": "stdout",
     "output_type": "stream",
     "text": [
      "int32\n"
     ]
    }
   ],
   "source": [
    "# a = np.array([[1,2,3],\n",
    "#              [4,\"Hello\",6],\n",
    "#              [7,8,9]], dtype = np.int32)\n",
    "\n",
    "a = np.array([[1,2,3],\n",
    "             [4,\"5\",6],\n",
    "             [7,8,9]], dtype = np.int32)\n",
    "\n",
    "print(a.dtype)"
   ]
  },
  {
   "cell_type": "code",
   "execution_count": 5,
   "id": "a7cc01bb-7abe-4ce1-8e16-59a0dae3566c",
   "metadata": {},
   "outputs": [
    {
     "name": "stdout",
     "output_type": "stream",
     "text": [
      "<class 'numpy.int32'>\n"
     ]
    }
   ],
   "source": [
    "print(type(a[0][0]))"
   ]
  },
  {
   "cell_type": "code",
   "execution_count": 6,
   "id": "fbe0496c-fda6-437c-a464-763117220578",
   "metadata": {},
   "outputs": [
    {
     "name": "stdout",
     "output_type": "stream",
     "text": [
      "[[[9 9 9 9]\n",
      "  [9 9 9 9]\n",
      "  [9 9 9 9]]\n",
      "\n",
      " [[9 9 9 9]\n",
      "  [9 9 9 9]\n",
      "  [9 9 9 9]]]\n"
     ]
    }
   ],
   "source": [
    "a = np.full((2,3,4), 9)\n",
    "print(a)"
   ]
  },
  {
   "cell_type": "code",
   "execution_count": 7,
   "id": "49bfb29d-246b-4514-8fe0-9b51332371d3",
   "metadata": {},
   "outputs": [
    {
     "name": "stdout",
     "output_type": "stream",
     "text": [
      "[[[0. 0.]\n",
      "  [0. 0.]\n",
      "  [0. 0.]\n",
      "  [0. 0.]\n",
      "  [0. 0.]]\n",
      "\n",
      " [[0. 0.]\n",
      "  [0. 0.]\n",
      "  [0. 0.]\n",
      "  [0. 0.]\n",
      "  [0. 0.]]\n",
      "\n",
      " [[0. 0.]\n",
      "  [0. 0.]\n",
      "  [0. 0.]\n",
      "  [0. 0.]\n",
      "  [0. 0.]]\n",
      "\n",
      " [[0. 0.]\n",
      "  [0. 0.]\n",
      "  [0. 0.]\n",
      "  [0. 0.]\n",
      "  [0. 0.]]\n",
      "\n",
      " [[0. 0.]\n",
      "  [0. 0.]\n",
      "  [0. 0.]\n",
      "  [0. 0.]\n",
      "  [0. 0.]]\n",
      "\n",
      " [[0. 0.]\n",
      "  [0. 0.]\n",
      "  [0. 0.]\n",
      "  [0. 0.]\n",
      "  [0. 0.]]\n",
      "\n",
      " [[0. 0.]\n",
      "  [0. 0.]\n",
      "  [0. 0.]\n",
      "  [0. 0.]\n",
      "  [0. 0.]]\n",
      "\n",
      " [[0. 0.]\n",
      "  [0. 0.]\n",
      "  [0. 0.]\n",
      "  [0. 0.]\n",
      "  [0. 0.]]\n",
      "\n",
      " [[0. 0.]\n",
      "  [0. 0.]\n",
      "  [0. 0.]\n",
      "  [0. 0.]\n",
      "  [0. 0.]]\n",
      "\n",
      " [[0. 0.]\n",
      "  [0. 0.]\n",
      "  [0. 0.]\n",
      "  [0. 0.]\n",
      "  [0. 0.]]]\n"
     ]
    }
   ],
   "source": [
    "a = np.zeros((10,5,2))\n",
    "print(a)"
   ]
  },
  {
   "cell_type": "code",
   "execution_count": 8,
   "id": "883aa2ce-de30-4cb4-8ae7-482d60d7ebeb",
   "metadata": {},
   "outputs": [
    {
     "name": "stdout",
     "output_type": "stream",
     "text": [
      "[[[1. 1. 1. 1.]\n",
      "  [1. 1. 1. 1.]\n",
      "  [1. 1. 1. 1.]]\n",
      "\n",
      " [[1. 1. 1. 1.]\n",
      "  [1. 1. 1. 1.]\n",
      "  [1. 1. 1. 1.]]]\n"
     ]
    }
   ],
   "source": [
    "a = np.ones((2,3,4))\n",
    "print(a)"
   ]
  },
  {
   "cell_type": "code",
   "execution_count": 9,
   "id": "61408520-e446-40f2-bb06-d8a41aee2860",
   "metadata": {},
   "outputs": [
    {
     "name": "stdout",
     "output_type": "stream",
     "text": [
      "[[[6.23042070e-307 4.67296746e-307 1.69121096e-306]\n",
      "  [9.34608432e-307 8.34441742e-308 8.90104239e-307]\n",
      "  [1.33511290e-306 1.24610383e-306 1.33512173e-306]]\n",
      "\n",
      " [[1.06811422e-306 3.11525958e-307 1.69118108e-306]\n",
      "  [8.06632139e-308 1.20160711e-306 1.69119330e-306]\n",
      "  [1.29062229e-306 1.29060531e-306 6.89805151e-307]]\n",
      "\n",
      " [[7.56592338e-307 6.89807188e-307 2.13620807e-306]\n",
      "  [1.69118787e-306 2.22522597e-306 1.33511969e-306]\n",
      "  [9.45697982e-308 8.45610231e-307 3.20552953e-317]]]\n"
     ]
    }
   ],
   "source": [
    "a = np.empty((3,3,3)) #reserves/allocates the space but does not initialized\n",
    "print(a)"
   ]
  },
  {
   "cell_type": "code",
   "execution_count": 10,
   "id": "f1612512-6673-4b09-9b76-28e9bb822cf2",
   "metadata": {},
   "outputs": [
    {
     "name": "stdout",
     "output_type": "stream",
     "text": [
      "[  0   5  10  15  20  25  30  35  40  45  50  55  60  65  70  75  80  85\n",
      "  90  95 100 105 110 115 120 125 130 135 140 145 150 155 160 165 170 175\n",
      " 180 185 190 195 200 205 210 215 220 225 230 235 240 245 250 255 260 265\n",
      " 270 275 280 285 290 295 300 305 310 315 320 325 330 335 340 345 350 355\n",
      " 360 365 370 375 380 385 390 395 400 405 410 415 420 425 430 435 440 445\n",
      " 450 455 460 465 470 475 480 485 490 495 500 505 510 515 520 525 530 535\n",
      " 540 545 550 555 560 565 570 575 580 585 590 595 600 605 610 615 620 625\n",
      " 630 635 640 645 650 655 660 665 670 675 680 685 690 695 700 705 710 715\n",
      " 720 725 730 735 740 745 750 755 760 765 770 775 780 785 790 795 800 805\n",
      " 810 815 820 825 830 835 840 845 850 855 860 865 870 875 880 885 890 895\n",
      " 900 905 910 915 920 925 930 935 940 945 950 955 960 965 970 975 980 985\n",
      " 990 995]\n"
     ]
    }
   ],
   "source": [
    "x_values = np.arange(0, 1000, 5)\n",
    "print(x_values)"
   ]
  },
  {
   "cell_type": "code",
   "execution_count": 11,
   "id": "510e8884-9654-4f51-9af8-89bcc0435545",
   "metadata": {},
   "outputs": [
    {
     "name": "stdout",
     "output_type": "stream",
     "text": [
      "[   0.          333.33333333  666.66666667 1000.        ]\n"
     ]
    }
   ],
   "source": [
    "x_values = np.linspace(0,1000,4) #generates evenly spaced based on # of values\n",
    "print(x_values)"
   ]
  },
  {
   "cell_type": "code",
   "execution_count": 12,
   "id": "c2d6ee1e-a0e8-46f9-83c2-4bef1e664c16",
   "metadata": {},
   "outputs": [
    {
     "name": "stdout",
     "output_type": "stream",
     "text": [
      "nan\n",
      "inf\n",
      "True\n",
      "True\n"
     ]
    }
   ],
   "source": [
    "print(np.nan) #not a number\n",
    "print(np.inf) #infinity\n",
    "\n",
    "print(np.isnan(np.nan))\n",
    "print(np.isinf(np.inf))"
   ]
  },
  {
   "cell_type": "code",
   "execution_count": 13,
   "id": "62b86eff-cc8f-4c08-860f-d54c5be31a23",
   "metadata": {},
   "outputs": [
    {
     "name": "stdout",
     "output_type": "stream",
     "text": [
      "True\n",
      "[ True]\n"
     ]
    },
    {
     "name": "stderr",
     "output_type": "stream",
     "text": [
      "C:\\Users\\prem2\\AppData\\Local\\Temp\\ipykernel_5240\\3338874168.py:1: RuntimeWarning: invalid value encountered in sqrt\n",
      "  print(np.isnan(np.sqrt(-1)))\n",
      "C:\\Users\\prem2\\AppData\\Local\\Temp\\ipykernel_5240\\3338874168.py:2: RuntimeWarning: divide by zero encountered in divide\n",
      "  print(np.isinf(np.array([10])/0))\n"
     ]
    }
   ],
   "source": [
    "print(np.isnan(np.sqrt(-1)))\n",
    "print(np.isinf(np.array([10])/0))"
   ]
  },
  {
   "cell_type": "code",
   "execution_count": 14,
   "id": "6d93e361-013a-4186-8b93-675e580dac4e",
   "metadata": {},
   "outputs": [
    {
     "name": "stdout",
     "output_type": "stream",
     "text": [
      "nan\n",
      "[inf]\n"
     ]
    },
    {
     "name": "stderr",
     "output_type": "stream",
     "text": [
      "C:\\Users\\prem2\\AppData\\Local\\Temp\\ipykernel_5240\\1603808826.py:1: RuntimeWarning: invalid value encountered in sqrt\n",
      "  print(np.sqrt(-1))\n",
      "C:\\Users\\prem2\\AppData\\Local\\Temp\\ipykernel_5240\\1603808826.py:2: RuntimeWarning: divide by zero encountered in divide\n",
      "  print(np.array([10])/0)\n"
     ]
    }
   ],
   "source": [
    "print(np.sqrt(-1))\n",
    "print(np.array([10])/0)"
   ]
  },
  {
   "cell_type": "code",
   "execution_count": 15,
   "id": "842301a4-28e1-49c8-8793-69aac3487922",
   "metadata": {},
   "outputs": [],
   "source": [
    "l1 = [1,2,3,4,5]\n",
    "l2 = [6,7,8,9,10]\n",
    "\n",
    "a1 = np.array(l1)\n",
    "a2 = np.array(l2)"
   ]
  },
  {
   "cell_type": "code",
   "execution_count": 16,
   "id": "b87210f4-1ca8-49e3-a186-66904b90b714",
   "metadata": {},
   "outputs": [
    {
     "name": "stdout",
     "output_type": "stream",
     "text": [
      "[1, 2, 3, 4, 5, 1, 2, 3, 4, 5, 1, 2, 3, 4, 5, 1, 2, 3, 4, 5, 1, 2, 3, 4, 5]\n",
      "[ 5 10 15 20 25]\n",
      "[ 6  7  8  9 10]\n",
      "[1, 2, 3, 4, 5, 6, 7, 8, 9, 10]\n",
      "[ 7  9 11 13 15]\n",
      "[ 6 14 24 36 50]\n",
      "[0.16666667 0.28571429 0.375      0.44444444 0.5       ]\n"
     ]
    }
   ],
   "source": [
    "print(l1 * 5)\n",
    "print(a1 * 5)\n",
    "print(a1 + 5)\n",
    "\n",
    "print(l1 + l2)\n",
    "print(a1 + a2)\n",
    "\n",
    "# print(l1 * l2)\n",
    "print(a1 * a2)\n",
    "\n",
    "# print(l1 / l2)\n",
    "print(a1 / a2)"
   ]
  },
  {
   "cell_type": "code",
   "execution_count": 17,
   "id": "dac43b5a-e966-4551-a09e-ae5f9a17a330",
   "metadata": {},
   "outputs": [],
   "source": [
    "a1 = np.array([1,2,3])\n",
    "a2 = np.array([[1],\n",
    "               [2]])"
   ]
  },
  {
   "cell_type": "code",
   "execution_count": 18,
   "id": "5e44c51e-ac99-45a2-9c06-96d84c6e6ef1",
   "metadata": {},
   "outputs": [
    {
     "name": "stdout",
     "output_type": "stream",
     "text": [
      "[[2 3 4]\n",
      " [3 4 5]]\n"
     ]
    }
   ],
   "source": [
    "print(a1 + a2)"
   ]
  },
  {
   "cell_type": "code",
   "execution_count": 19,
   "id": "dd3770d3-24d1-46be-a001-1d60f809f376",
   "metadata": {},
   "outputs": [
    {
     "ename": "ValueError",
     "evalue": "operands could not be broadcast together with shapes (3,) (2,2) ",
     "output_type": "error",
     "traceback": [
      "\u001b[1;31m---------------------------------------------------------------------------\u001b[0m",
      "\u001b[1;31mValueError\u001b[0m                                Traceback (most recent call last)",
      "Cell \u001b[1;32mIn[19], line 4\u001b[0m\n\u001b[0;32m      1\u001b[0m a1 \u001b[38;5;241m=\u001b[39m np\u001b[38;5;241m.\u001b[39marray([\u001b[38;5;241m1\u001b[39m,\u001b[38;5;241m2\u001b[39m,\u001b[38;5;241m3\u001b[39m])\n\u001b[0;32m      2\u001b[0m a2 \u001b[38;5;241m=\u001b[39m np\u001b[38;5;241m.\u001b[39marray([[\u001b[38;5;241m1\u001b[39m,\u001b[38;5;241m1\u001b[39m],\n\u001b[0;32m      3\u001b[0m                [\u001b[38;5;241m2\u001b[39m,\u001b[38;5;241m1\u001b[39m]])\n\u001b[1;32m----> 4\u001b[0m \u001b[38;5;28mprint\u001b[39m(a1 \u001b[38;5;241m+\u001b[39m a2)\n",
      "\u001b[1;31mValueError\u001b[0m: operands could not be broadcast together with shapes (3,) (2,2) "
     ]
    }
   ],
   "source": [
    "a1 = np.array([1,2,3])\n",
    "a2 = np.array([[1,1],\n",
    "               [2,1]])\n",
    "print(a1 + a2)"
   ]
  },
  {
   "cell_type": "code",
   "execution_count": null,
   "id": "5da4c826-3ebc-42cc-847b-145b83b99fae",
   "metadata": {},
   "outputs": [],
   "source": [
    "a = np.array([[1,2,3],\n",
    "             [4,5,6]])\n",
    "print(np.sqrt(a))"
   ]
  },
  {
   "cell_type": "code",
   "execution_count": 20,
   "id": "ac800703-8e27-473a-8c8a-8682359d0fb5",
   "metadata": {},
   "outputs": [
    {
     "name": "stdout",
     "output_type": "stream",
     "text": [
      "[1 2 3 7 8 9]\n"
     ]
    },
    {
     "data": {
      "text/plain": [
       "array([1, 2, 3])"
      ]
     },
     "execution_count": 20,
     "metadata": {},
     "output_type": "execute_result"
    }
   ],
   "source": [
    "a = np.array([1, 2, 3])\n",
    "print(np.append(a, [7,8,9])) # these functions don't change the array, they only return the result\n",
    "a"
   ]
  },
  {
   "cell_type": "code",
   "execution_count": 23,
   "id": "e5c429d4-4e04-4f4f-8464-a5f5a8e0fc39",
   "metadata": {},
   "outputs": [
    {
     "data": {
      "text/plain": [
       "array([1, 2, 4, 5, 6, 3, 4, 5, 6, 4, 5, 6])"
      ]
     },
     "execution_count": 23,
     "metadata": {},
     "output_type": "execute_result"
    }
   ],
   "source": [
    "a = np.insert(a, 2, [4,5,6])\n",
    "a"
   ]
  },
  {
   "cell_type": "code",
   "execution_count": 25,
   "id": "c32ce3f0-04ac-41d2-bdac-340c5fc79803",
   "metadata": {},
   "outputs": [
    {
     "name": "stdout",
     "output_type": "stream",
     "text": [
      "[1 4 5 6 3 4 5 6 4 5 6]\n"
     ]
    },
    {
     "data": {
      "text/plain": [
       "array([1, 2, 4, 5, 6, 3, 4, 5, 6, 4, 5, 6])"
      ]
     },
     "execution_count": 25,
     "metadata": {},
     "output_type": "execute_result"
    }
   ],
   "source": [
    "print(np.delete(a, 1))\n",
    "a"
   ]
  },
  {
   "cell_type": "code",
   "execution_count": 31,
   "id": "88b1029a-067e-444a-975d-b9bbd83c56cb",
   "metadata": {},
   "outputs": [
    {
     "name": "stdout",
     "output_type": "stream",
     "text": [
      "[[ 1  2  3  4  5]\n",
      " [ 6  7  8  9 10]\n",
      " [11 12 13 14 15]\n",
      " [16 17 18 19 20]]\n",
      "(4, 5)\n"
     ]
    }
   ],
   "source": [
    "a = np.array([[1,2,3,4,5],\n",
    "              [6,7,8,9,10],\n",
    "              [11,12,13,14,15],\n",
    "              [16,17,18,19,20]])\n",
    "print(a)\n",
    "print(a.shape)"
   ]
  },
  {
   "cell_type": "code",
   "execution_count": 30,
   "id": "13cab504-bc84-4669-8f2e-8a8ead447ed3",
   "metadata": {},
   "outputs": [
    {
     "name": "stdout",
     "output_type": "stream",
     "text": [
      "[[ 1  2  3  4]\n",
      " [ 5  6  7  8]\n",
      " [ 9 10 11 12]\n",
      " [13 14 15 16]\n",
      " [17 18 19 20]]\n",
      "[[ 1  2  3  4  5]\n",
      " [ 6  7  8  9 10]\n",
      " [11 12 13 14 15]\n",
      " [16 17 18 19 20]]\n"
     ]
    }
   ],
   "source": [
    "print(a.reshape(5,4)) # numpy function don't modify the arrayb\n",
    "print(a)"
   ]
  },
  {
   "cell_type": "code",
   "execution_count": 34,
   "id": "5f7d4085-9817-40c0-8aa9-67181c488cf6",
   "metadata": {},
   "outputs": [
    {
     "data": {
      "text/plain": [
       "array([ 1,  2,  3,  4,  5,  6,  7,  8,  9, 10, 11, 12, 13, 14, 15, 16, 17,\n",
       "       18, 19, 20])"
      ]
     },
     "execution_count": 34,
     "metadata": {},
     "output_type": "execute_result"
    }
   ],
   "source": [
    "a = a.reshape(20,)\n",
    "a"
   ]
  },
  {
   "cell_type": "code",
   "execution_count": 35,
   "id": "d4b0d778-6627-4f4f-8b2c-da9037ad5b31",
   "metadata": {},
   "outputs": [
    {
     "data": {
      "text/plain": [
       "array([[ 1,  2,  3,  4,  5,  6,  7,  8,  9, 10],\n",
       "       [11, 12, 13, 14, 15, 16, 17, 18, 19, 20]])"
      ]
     },
     "execution_count": 35,
     "metadata": {},
     "output_type": "execute_result"
    }
   ],
   "source": [
    "a.resize(2,10) # resize function modifies the array\n",
    "a"
   ]
  },
  {
   "cell_type": "code",
   "execution_count": 38,
   "id": "45c62f63-d145-4da6-8b87-5986493e3bb0",
   "metadata": {},
   "outputs": [
    {
     "name": "stdout",
     "output_type": "stream",
     "text": [
      "[ 1  2  3  4  5  6  7  8  9 10 11 12 13 14 15 16 17 18 19 20]\n",
      "[ 1  2  3  4  5  6  7  8  9 10 11 12 13 14 15 16 17 18 19 20]\n"
     ]
    }
   ],
   "source": [
    "print(a.flatten())\n",
    "print(a.ravel()) # ravel function modifies the array"
   ]
  },
  {
   "cell_type": "code",
   "execution_count": 45,
   "id": "8e8eb5e3-ee47-4c29-8f47-32bd2a5b34c3",
   "metadata": {},
   "outputs": [
    {
     "name": "stdout",
     "output_type": "stream",
     "text": [
      "[[[ 1  2  3  4  5]\n",
      "  [ 6  7  8  9 10]]\n",
      "\n",
      " [[11 12 13 14 15]\n",
      "  [16 17 18 19 20]]]\n"
     ]
    }
   ],
   "source": [
    "# print(a)\n",
    "a.resize(2,2,5)\n",
    "print(a)"
   ]
  },
  {
   "cell_type": "code",
   "execution_count": 52,
   "id": "ad282c21-16ec-40c0-950f-4cc3f88ef528",
   "metadata": {},
   "outputs": [
    {
     "name": "stdout",
     "output_type": "stream",
     "text": [
      "[[ 1  6]\n",
      " [ 2  7]\n",
      " [ 3  8]\n",
      " [ 4  9]\n",
      " [ 5 10]]\n",
      "[[ 1  6]\n",
      " [ 2  7]\n",
      " [ 3  8]\n",
      " [ 4  9]\n",
      " [ 5 10]]\n"
     ]
    }
   ],
   "source": [
    "arr = np.array([[1,2,3,4,5],\n",
    "              [6,7,8,9,10]])\n",
    "print(arr.transpose())\n",
    "print(arr.T)"
   ]
  },
  {
   "cell_type": "code",
   "execution_count": 53,
   "id": "0d342786-6634-43a1-b71a-c7508174a0c7",
   "metadata": {},
   "outputs": [
    {
     "name": "stdout",
     "output_type": "stream",
     "text": [
      "[[[ 1  2  3  4  5]\n",
      "  [11 12 13 14 15]]\n",
      "\n",
      " [[ 6  7  8  9 10]\n",
      "  [16 17 18 19 20]]]\n"
     ]
    }
   ],
   "source": [
    "print(a.swapaxes(0,1))"
   ]
  },
  {
   "cell_type": "code",
   "execution_count": 54,
   "id": "d53ee61a-25eb-47c4-ba34-d6d211541c58",
   "metadata": {},
   "outputs": [],
   "source": [
    "a1 = np.array([[1,2,3,4,5],\n",
    "               [6,7,8,9,10]])\n",
    "\n",
    "a2 = np.array([[11,12,13,14,15],\n",
    "               [16,17,18,19,20]])"
   ]
  },
  {
   "cell_type": "code",
   "execution_count": 57,
   "id": "4f973886-d95a-41cf-bde2-b56231538f82",
   "metadata": {},
   "outputs": [
    {
     "name": "stdout",
     "output_type": "stream",
     "text": [
      "[[ 1  2  3  4  5 11 12 13 14 15]\n",
      " [ 6  7  8  9 10 16 17 18 19 20]]\n"
     ]
    }
   ],
   "source": [
    "# a = np.concatenate((a1, a2), axis=0) #axis=0 represents rows\n",
    "# print(a)\n",
    "\n",
    "a = np.concatenate((a1, a2), axis=1) #axis=1 represents columns\n",
    "print(a)"
   ]
  },
  {
   "cell_type": "code",
   "execution_count": 59,
   "id": "a4917ed8-28e2-49b6-9fc0-31f1cdf1f688",
   "metadata": {},
   "outputs": [
    {
     "name": "stdout",
     "output_type": "stream",
     "text": [
      "[[[ 1  2  3  4  5]\n",
      "  [ 6  7  8  9 10]]\n",
      "\n",
      " [[11 12 13 14 15]\n",
      "  [16 17 18 19 20]]]\n"
     ]
    }
   ],
   "source": [
    "a = np.stack((a1,a2)) # combines to create new dimensions\n",
    "print(a)"
   ]
  },
  {
   "cell_type": "code",
   "execution_count": 61,
   "id": "05a0b2ac-73b5-48f5-b212-bc0b7196a979",
   "metadata": {},
   "outputs": [
    {
     "name": "stdout",
     "output_type": "stream",
     "text": [
      "[[ 1  2  3  4  5]\n",
      " [ 6  7  8  9 10]\n",
      " [11 12 13 14 15]\n",
      " [16 17 18 19 20]]\n",
      "[[ 1  2  3  4  5 11 12 13 14 15]\n",
      " [ 6  7  8  9 10 16 17 18 19 20]]\n"
     ]
    }
   ],
   "source": [
    "a = np.vstack((a1,a2)) # same as concatenation on axis 0\n",
    "print(a)\n",
    "\n",
    "a = np.hstack((a1,a2)) # same as concatenation on axis 1\n",
    "print(a)"
   ]
  },
  {
   "cell_type": "code",
   "execution_count": 69,
   "id": "e15f73cf-67b3-40bb-8d8d-bdb61643974e",
   "metadata": {},
   "outputs": [],
   "source": [
    "a1 = np.array([[1,2,3,4,5,6],\n",
    "               [6,7,8,9,10,11],\n",
    "               [11,12,13,14,15,16],\n",
    "               [16,17,18,19,20,21]])"
   ]
  },
  {
   "cell_type": "code",
   "execution_count": 80,
   "id": "9014428c-8be2-481d-9a03-2b7021be6d29",
   "metadata": {},
   "outputs": [
    {
     "name": "stdout",
     "output_type": "stream",
     "text": [
      "[array([[ 1,  2,  3],\n",
      "       [ 6,  7,  8],\n",
      "       [11, 12, 13],\n",
      "       [16, 17, 18]]), array([[ 4,  5,  6],\n",
      "       [ 9, 10, 11],\n",
      "       [14, 15, 16],\n",
      "       [19, 20, 21]])]\n",
      "[array([[ 1,  2],\n",
      "       [ 6,  7],\n",
      "       [11, 12],\n",
      "       [16, 17]]), array([[ 3,  4],\n",
      "       [ 8,  9],\n",
      "       [13, 14],\n",
      "       [18, 19]]), array([[ 5,  6],\n",
      "       [10, 11],\n",
      "       [15, 16],\n",
      "       [20, 21]])]\n"
     ]
    }
   ],
   "source": [
    "print(np.split(a1, 2, axis=1))\n",
    "print(np.split(a1, 3, axis=1))\n",
    "# print(np.split(a, 10, axis=1))"
   ]
  },
  {
   "cell_type": "code",
   "execution_count": 81,
   "id": "9f5132ae-a3f6-45aa-9421-edded04286cd",
   "metadata": {},
   "outputs": [
    {
     "name": "stdout",
     "output_type": "stream",
     "text": [
      "1\n",
      "20\n",
      "10.5\n",
      "5.766281297335398\n",
      "210\n",
      "10.5\n"
     ]
    }
   ],
   "source": [
    "print(a.min())\n",
    "print(a.max())\n",
    "print(a.mean())\n",
    "print(a.std())\n",
    "print(a.sum())\n",
    "print(np.median(a))"
   ]
  },
  {
   "cell_type": "code",
   "execution_count": 85,
   "id": "801fe4c0-0a33-4797-80b7-d0edf8405970",
   "metadata": {},
   "outputs": [
    {
     "name": "stdout",
     "output_type": "stream",
     "text": [
      "59\n"
     ]
    }
   ],
   "source": [
    "number = np.random.randint(100)\n",
    "print(number)"
   ]
  },
  {
   "cell_type": "code",
   "execution_count": 91,
   "id": "0b43851c-3a7f-4245-a423-2cfa02633920",
   "metadata": {},
   "outputs": [
    {
     "name": "stdout",
     "output_type": "stream",
     "text": [
      "[[[90 14  4 17]\n",
      "  [14 40 89 58]\n",
      "  [73 81 36 96]]\n",
      "\n",
      " [[63 53 17 12]\n",
      "  [98 30 63 96]\n",
      "  [30 92 19 68]]]\n",
      "[[[99 73 84 98]\n",
      "  [90 78 82 73]\n",
      "  [83 82 78 62]]\n",
      "\n",
      " [[57 56 61 81]\n",
      "  [89 85 57 80]\n",
      "  [57 68 96 50]]]\n",
      "[[[0 0 1 0]\n",
      "  [1 0 1 0]\n",
      "  [1 0 1 0]]\n",
      "\n",
      " [[0 0 0 0]\n",
      "  [1 1 0 1]\n",
      "  [0 0 1 1]]]\n"
     ]
    }
   ],
   "source": [
    "numbers = np.random.randint(100, size=(2,3,4))\n",
    "print(numbers)\n",
    "\n",
    "numbers = np.random.randint(50, 100, size=(2,3,4)) # to generate within a range\n",
    "print(numbers)\n",
    "\n",
    "numbers = np.random.randint(2, size=(2,3,4))\n",
    "print(numbers)"
   ]
  },
  {
   "cell_type": "markdown",
   "id": "4ac3062d-d315-4e30-b782-442996749bc8",
   "metadata": {},
   "source": [
    "# Generate based on a distribution"
   ]
  },
  {
   "cell_type": "code",
   "execution_count": 93,
   "id": "0885c699-96e9-4475-bbc6-027c7658e426",
   "metadata": {},
   "outputs": [
    {
     "name": "stdout",
     "output_type": "stream",
     "text": [
      "[[8 5 5 6 4 9 1 7 4 8]\n",
      " [5 4 8 4 4 6 5 3 4 6]\n",
      " [6 7 0 4 7 5 8 6 5 7]\n",
      " [4 5 6 6 7 4 4 3 5 5]\n",
      " [6 2 4 7 5 5 3 4 5 5]]\n"
     ]
    }
   ],
   "source": [
    "numbers = np.random.binomial(10, p=0.5, size=(5,10))\n",
    "print(numbers)"
   ]
  },
  {
   "cell_type": "code",
   "execution_count": 94,
   "id": "b1b9adc4-80f4-4a42-8e78-c8e498ca1493",
   "metadata": {},
   "outputs": [
    {
     "name": "stdout",
     "output_type": "stream",
     "text": [
      "[[168.30974964 181.06576818 177.85788456 149.42882957 182.75096002\n",
      "  165.77808829 162.83830767 168.34011047 176.43430221 193.80104986]\n",
      " [166.87422985 171.51121577 162.56727042 176.46505753 163.74384228\n",
      "  146.46132957 153.52956305 185.91223279 155.53152425 194.57249298]\n",
      " [152.61928302 190.18704291 149.8097859  157.12855918 181.32903\n",
      "  188.13830968 161.49619813 160.53386961 171.49083557 181.5015655 ]\n",
      " [167.60995268 170.82856875 209.07583165 151.99141214 160.43028322\n",
      "  193.6384598  152.92654159 155.34079721 154.36397351 165.08893858]\n",
      " [167.07846069 169.87732048 161.03690333 181.95937503 186.57275074\n",
      "  155.6778713  169.05981031 156.34251061 147.56568473 161.18975103]]\n"
     ]
    }
   ],
   "source": [
    "numbers = np.random.normal(loc=170, scale=15 , size=(5,10))\n",
    "print(numbers)"
   ]
  },
  {
   "cell_type": "code",
   "execution_count": 100,
   "id": "832d1797-72c8-4869-9de6-dcf25ba0a2a7",
   "metadata": {},
   "outputs": [
    {
     "name": "stdout",
     "output_type": "stream",
     "text": [
      "[[30 40 50 50 10 50 50 30 10 40]\n",
      " [50 40 40 30 50 40 10 10 20 50]\n",
      " [20 20 20 20 20 10 20 50 10 50]\n",
      " [40 50 30 50 20 50 10 50 20 20]\n",
      " [10 20 10 10 40 50 40 30 40 30]]\n"
     ]
    }
   ],
   "source": [
    "number = np.random.choice([10,20,30,40,50], size=(5,10))\n",
    "print(number)"
   ]
  },
  {
   "cell_type": "markdown",
   "id": "90a2a121-2aae-422f-b132-3aefcba9ac80",
   "metadata": {},
   "source": [
    "# Exporting or importing numpy arrays"
   ]
  },
  {
   "cell_type": "code",
   "execution_count": 103,
   "id": "5f04460f-acef-436e-b795-6582e30a4d78",
   "metadata": {},
   "outputs": [],
   "source": [
    "np.save(\"myarray.txt\", numbers)"
   ]
  },
  {
   "cell_type": "code",
   "execution_count": 104,
   "id": "fc6c3e00-d65b-4a23-9d95-598260a09b26",
   "metadata": {},
   "outputs": [
    {
     "name": "stdout",
     "output_type": "stream",
     "text": [
      "[[168.30974964 181.06576818 177.85788456 149.42882957 182.75096002\n",
      "  165.77808829 162.83830767 168.34011047 176.43430221 193.80104986]\n",
      " [166.87422985 171.51121577 162.56727042 176.46505753 163.74384228\n",
      "  146.46132957 153.52956305 185.91223279 155.53152425 194.57249298]\n",
      " [152.61928302 190.18704291 149.8097859  157.12855918 181.32903\n",
      "  188.13830968 161.49619813 160.53386961 171.49083557 181.5015655 ]\n",
      " [167.60995268 170.82856875 209.07583165 151.99141214 160.43028322\n",
      "  193.6384598  152.92654159 155.34079721 154.36397351 165.08893858]\n",
      " [167.07846069 169.87732048 161.03690333 181.95937503 186.57275074\n",
      "  155.6778713  169.05981031 156.34251061 147.56568473 161.18975103]]\n"
     ]
    }
   ],
   "source": [
    "num = np.load(\"myarray.npy\") # to save the array as npy object\n",
    "print(num)"
   ]
  },
  {
   "cell_type": "code",
   "execution_count": 107,
   "id": "c4689e9f-053f-4417-8b94-2c861baf24e1",
   "metadata": {},
   "outputs": [],
   "source": [
    "np.savetxt(\"myarray.csv\", num, delimiter=',') # to save the array as csv file"
   ]
  },
  {
   "cell_type": "code",
   "execution_count": 108,
   "id": "11f64dcb-5f8b-4cda-9719-6f9ce67cb1f0",
   "metadata": {},
   "outputs": [
    {
     "name": "stdout",
     "output_type": "stream",
     "text": [
      "[[168.30974964 181.06576818 177.85788456 149.42882957 182.75096002\n",
      "  165.77808829 162.83830767 168.34011047 176.43430221 193.80104986]\n",
      " [166.87422985 171.51121577 162.56727042 176.46505753 163.74384228\n",
      "  146.46132957 153.52956305 185.91223279 155.53152425 194.57249298]\n",
      " [152.61928302 190.18704291 149.8097859  157.12855918 181.32903\n",
      "  188.13830968 161.49619813 160.53386961 171.49083557 181.5015655 ]\n",
      " [167.60995268 170.82856875 209.07583165 151.99141214 160.43028322\n",
      "  193.6384598  152.92654159 155.34079721 154.36397351 165.08893858]\n",
      " [167.07846069 169.87732048 161.03690333 181.95937503 186.57275074\n",
      "  155.6778713  169.05981031 156.34251061 147.56568473 161.18975103]]\n"
     ]
    }
   ],
   "source": [
    "numread = np.loadtxt(\"myarray.csv\", delimiter = ',')\n",
    "print(numread)"
   ]
  },
  {
   "cell_type": "code",
   "execution_count": 2,
   "id": "6aadd3c7-700e-42d1-b8b3-d7b8aac6a008",
   "metadata": {},
   "outputs": [],
   "source": [
    "arr = np.array([[1,2,3,4], [5,6,7,8], [9,10,11,12]])"
   ]
  },
  {
   "cell_type": "code",
   "execution_count": 5,
   "id": "133bb4cc-0a2c-4fe9-9974-86f44a76f492",
   "metadata": {},
   "outputs": [],
   "source": [
    "arr[arr %2 == 0] = 0"
   ]
  },
  {
   "cell_type": "code",
   "execution_count": 6,
   "id": "323f1c41-1edc-461e-966c-efc419c5cca0",
   "metadata": {},
   "outputs": [
    {
     "data": {
      "text/plain": [
       "array([[ 1,  0,  3,  0],\n",
       "       [ 5,  0,  7,  0],\n",
       "       [ 9,  0, 11,  0]])"
      ]
     },
     "execution_count": 6,
     "metadata": {},
     "output_type": "execute_result"
    }
   ],
   "source": [
    "arr"
   ]
  },
  {
   "cell_type": "code",
   "execution_count": null,
   "id": "de7a6b65-1c5a-4d7d-9fc0-6854d229a022",
   "metadata": {},
   "outputs": [],
   "source": []
  }
 ],
 "metadata": {
  "kernelspec": {
   "display_name": "Python 3 (ipykernel)",
   "language": "python",
   "name": "python3"
  },
  "language_info": {
   "codemirror_mode": {
    "name": "ipython",
    "version": 3
   },
   "file_extension": ".py",
   "mimetype": "text/x-python",
   "name": "python",
   "nbconvert_exporter": "python",
   "pygments_lexer": "ipython3",
   "version": "3.11.3"
  }
 },
 "nbformat": 4,
 "nbformat_minor": 5
}
