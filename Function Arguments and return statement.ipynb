{
 "cells": [
  {
   "cell_type": "code",
   "execution_count": 1,
   "id": "cb5e7819",
   "metadata": {},
   "outputs": [],
   "source": [
    "# passing arguments to a function\n",
    "def average(a,b):\n",
    "    print(\"The average is \", (a+b)/2)"
   ]
  },
  {
   "cell_type": "code",
   "execution_count": 3,
   "id": "ccc42bb9",
   "metadata": {},
   "outputs": [
    {
     "name": "stdout",
     "output_type": "stream",
     "text": [
      "The average is  3.0\n"
     ]
    }
   ],
   "source": [
    "average(2,4)"
   ]
  },
  {
   "cell_type": "code",
   "execution_count": 9,
   "id": "636659ec",
   "metadata": {},
   "outputs": [],
   "source": [
    "# passing default arguments to a function\n",
    "# if an argument is not initialized it must be passed while calling the function\n",
    "def average(a, b=3):\n",
    "    print(\"The average is \", (a+b)/2)"
   ]
  },
  {
   "cell_type": "code",
   "execution_count": 11,
   "id": "9bfabf35",
   "metadata": {},
   "outputs": [
    {
     "name": "stdout",
     "output_type": "stream",
     "text": [
      "The average is  4.0\n"
     ]
    }
   ],
   "source": [
    "average(a = 5)"
   ]
  },
  {
   "cell_type": "code",
   "execution_count": 12,
   "id": "287bb715",
   "metadata": {
    "scrolled": true
   },
   "outputs": [
    {
     "name": "stdout",
     "output_type": "stream",
     "text": [
      "The average is  4.0\n"
     ]
    }
   ],
   "source": [
    "average(b = 3, a = 5) #Order of arguments doesn't matter when providing argument name"
   ]
  },
  {
   "cell_type": "markdown",
   "id": "85c88cad",
   "metadata": {},
   "source": [
    "# Passing multiple arguments to a function"
   ]
  },
  {
   "cell_type": "code",
   "execution_count": 43,
   "id": "87df84f6",
   "metadata": {},
   "outputs": [],
   "source": [
    "def average(*numbers):\n",
    "# to pass variable number of arguments to a function * Astrix symbol is added as a prefix\n",
    "# the variable created using * is created as a \"tuple\" of all the values passed in the function.\n",
    "#     print(type(numbers))\n",
    "    sumx = 0\n",
    "    for i in numbers:\n",
    "        sumx = sumx + i\n",
    "#     print(\"Average is \", sum/len(numbers))\n",
    "    return sumx/len(numbers)\n",
    "    # returns the calculated avearge"
   ]
  },
  {
   "cell_type": "code",
   "execution_count": 46,
   "id": "57dd0485",
   "metadata": {},
   "outputs": [
    {
     "name": "stdout",
     "output_type": "stream",
     "text": [
      "5.5\n"
     ]
    }
   ],
   "source": [
    "# print(average(1,2,3,4,5,6,7,8))\n",
    "avg = average(1,2,3,4,5,6,7,8,9,10)\n",
    "print(avg)"
   ]
  },
  {
   "cell_type": "code",
   "execution_count": 36,
   "id": "edbd02c5",
   "metadata": {},
   "outputs": [],
   "source": [
    "# * is used to pass arguments as tuple, ** is used to pass arguments as dictonary\n",
    "def names(**name):\n",
    "    print(\"First Name : \", name['fname'])\n",
    "    print(\"Middle Name : \", name['mname'])\n",
    "    print(\"Last Name : \", name['lname'])"
   ]
  },
  {
   "cell_type": "code",
   "execution_count": 39,
   "id": "b84c58e2",
   "metadata": {},
   "outputs": [
    {
     "name": "stdout",
     "output_type": "stream",
     "text": [
      "First Name :  Prem\n",
      "Middle Name :  Prakash\n",
      "Last Name :  Singh\n"
     ]
    }
   ],
   "source": [
    "names(fname = 'Prem', mname = 'Prakash', lname = 'Singh')"
   ]
  }
 ],
 "metadata": {
  "kernelspec": {
   "display_name": "Python 3 (ipykernel)",
   "language": "python",
   "name": "python3"
  },
  "language_info": {
   "codemirror_mode": {
    "name": "ipython",
    "version": 3
   },
   "file_extension": ".py",
   "mimetype": "text/x-python",
   "name": "python",
   "nbconvert_exporter": "python",
   "pygments_lexer": "ipython3",
   "version": "3.11.0"
  }
 },
 "nbformat": 4,
 "nbformat_minor": 5
}
