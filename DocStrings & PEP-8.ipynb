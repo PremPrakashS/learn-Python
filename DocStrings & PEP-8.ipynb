{
 "cells": [
  {
   "cell_type": "markdown",
   "id": "258b9212",
   "metadata": {},
   "source": [
    "# Python Docstrings\n",
    "Python docstrings are the string literals that appear right after the definition of a function, method, class, or module"
   ]
  },
  {
   "cell_type": "code",
   "execution_count": 4,
   "id": "15f0ee3d",
   "metadata": {},
   "outputs": [],
   "source": [
    "def square(n):\n",
    "    '''Takes in a number n, returns the square of n'''\n",
    "    print(n**2)\n",
    "    '''End'''"
   ]
  },
  {
   "cell_type": "code",
   "execution_count": 6,
   "id": "9634d3c3",
   "metadata": {},
   "outputs": [
    {
     "name": "stdout",
     "output_type": "stream",
     "text": [
      "16\n",
      "Takes in a number n, returns the square of n\n"
     ]
    }
   ],
   "source": [
    "square(4)\n",
    "\n",
    "# comments are ignored bu the interpreter, comments are put just for the understanding for the programmer\n",
    "\n",
    "print(square.__doc__) # to print the docstring which is present just above the function definition."
   ]
  },
  {
   "cell_type": "markdown",
   "id": "78c07911",
   "metadata": {},
   "source": [
    "Docstrings are put just above the function definition not anywhere else if put anywhere else .\\__doc__ will return 'None'."
   ]
  },
  {
   "cell_type": "code",
   "execution_count": 12,
   "id": "4e8e773c",
   "metadata": {},
   "outputs": [],
   "source": [
    "def square(n):\n",
    "    print(n)\n",
    "    '''Takes in a number n, returns the square of n'''\n",
    "    print(n**2)"
   ]
  },
  {
   "cell_type": "code",
   "execution_count": 13,
   "id": "20f510a4",
   "metadata": {},
   "outputs": [
    {
     "name": "stdout",
     "output_type": "stream",
     "text": [
      "None\n"
     ]
    }
   ],
   "source": [
    "print(square.__doc__)\n",
    "del square # del also deletes the function defination"
   ]
  },
  {
   "cell_type": "markdown",
   "id": "0db6c960",
   "metadata": {},
   "source": [
    "# PEP(Python Enhancement Proporsal) 8\n",
    "\n",
    "It is a document that provides guidlines and best practice on how to write Python code.\n",
    "\n",
    "# The zen of python\n",
    "Long time Pythoneer Tim Peters succinctly channels the BDFL’s guiding principles for Python’s design into 20 aphorisms, only 19 of which have been written down."
   ]
  },
  {
   "cell_type": "code",
   "execution_count": 14,
   "id": "3c46d276",
   "metadata": {},
   "outputs": [
    {
     "name": "stdout",
     "output_type": "stream",
     "text": [
      "The Zen of Python, by Tim Peters\n",
      "\n",
      "Beautiful is better than ugly.\n",
      "Explicit is better than implicit.\n",
      "Simple is better than complex.\n",
      "Complex is better than complicated.\n",
      "Flat is better than nested.\n",
      "Sparse is better than dense.\n",
      "Readability counts.\n",
      "Special cases aren't special enough to break the rules.\n",
      "Although practicality beats purity.\n",
      "Errors should never pass silently.\n",
      "Unless explicitly silenced.\n",
      "In the face of ambiguity, refuse the temptation to guess.\n",
      "There should be one-- and preferably only one --obvious way to do it.\n",
      "Although that way may not be obvious at first unless you're Dutch.\n",
      "Now is better than never.\n",
      "Although never is often better than *right* now.\n",
      "If the implementation is hard to explain, it's a bad idea.\n",
      "If the implementation is easy to explain, it may be a good idea.\n",
      "Namespaces are one honking great idea -- let's do more of those!\n"
     ]
    }
   ],
   "source": [
    "import this # Ester egg"
   ]
  },
  {
   "cell_type": "code",
   "execution_count": null,
   "id": "dfd25380",
   "metadata": {},
   "outputs": [],
   "source": []
  }
 ],
 "metadata": {
  "kernelspec": {
   "display_name": "Python 3 (ipykernel)",
   "language": "python",
   "name": "python3"
  },
  "language_info": {
   "codemirror_mode": {
    "name": "ipython",
    "version": 3
   },
   "file_extension": ".py",
   "mimetype": "text/x-python",
   "name": "python",
   "nbconvert_exporter": "python",
   "pygments_lexer": "ipython3",
   "version": "3.11.0"
  }
 },
 "nbformat": 4,
 "nbformat_minor": 5
}
