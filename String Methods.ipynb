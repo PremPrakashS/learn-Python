{
 "cells": [
  {
   "cell_type": "markdown",
   "id": "e735e65a",
   "metadata": {},
   "source": [
    "# String Methods"
   ]
  },
  {
   "cell_type": "code",
   "execution_count": 11,
   "id": "c6702a35",
   "metadata": {},
   "outputs": [
    {
     "name": "stdout",
     "output_type": "stream",
     "text": [
      "Introduction to js\n"
     ]
    }
   ],
   "source": [
    "# a = 'Prem' # Strings are immutable\n",
    "# print(len(a))\n",
    "# print(a.upper())\n",
    "# print(a.lower())\n",
    "# b = '!!!!!HI!!!!!!!!!!!!!!!!!'\n",
    "# print(b.rstrip('!'))\n",
    "# print(b.replace('HI', 'Hello'))\n",
    "# c = 'Hello sidfj difsjf sfiejoj'\n",
    "# print(c.split('d')) # by default it takes space\n",
    "# blogHeading = \"introduction tO js\"\n",
    "print(blogHeading.capitalize())"
   ]
  },
  {
   "cell_type": "code",
   "execution_count": 13,
   "id": "36837cb2",
   "metadata": {},
   "outputs": [
    {
     "name": "stdout",
     "output_type": "stream",
     "text": [
      "this is string\n",
      "                  this is string                  \n",
      "14\n",
      "50\n"
     ]
    }
   ],
   "source": [
    "string = \"this is string\"\n",
    "print(string)\n",
    "print(string.center(50))\n",
    "print(len(string))\n",
    "print(len(string.center(50)))"
   ]
  },
  {
   "cell_type": "code",
   "execution_count": 14,
   "id": "9c3ea2a3",
   "metadata": {},
   "outputs": [
    {
     "name": "stdout",
     "output_type": "stream",
     "text": [
      "3\n"
     ]
    }
   ],
   "source": [
    "print(string.count('i'))"
   ]
  },
  {
   "cell_type": "code",
   "execution_count": 20,
   "id": "9a1738e5",
   "metadata": {},
   "outputs": [
    {
     "name": "stdout",
     "output_type": "stream",
     "text": [
      "True\n",
      "False\n"
     ]
    }
   ],
   "source": [
    "str1 = \"Welcome to the Console !!!\"\n",
    "print(str1.endswith(' !!!'))\n",
    "print(str1.endswith('!', 4,13))"
   ]
  },
  {
   "cell_type": "code",
   "execution_count": 25,
   "id": "ac660d98",
   "metadata": {},
   "outputs": [
    {
     "name": "stdout",
     "output_type": "stream",
     "text": [
      "-1\n"
     ]
    },
    {
     "ename": "ValueError",
     "evalue": "substring not found",
     "output_type": "error",
     "traceback": [
      "\u001b[1;31m---------------------------------------------------------------------------\u001b[0m",
      "\u001b[1;31mValueError\u001b[0m                                Traceback (most recent call last)",
      "Cell \u001b[1;32mIn[25], line 2\u001b[0m\n\u001b[0;32m      1\u001b[0m \u001b[38;5;28mprint\u001b[39m(str1\u001b[38;5;241m.\u001b[39mfind(\u001b[38;5;124m'\u001b[39m\u001b[38;5;124mnd\u001b[39m\u001b[38;5;124m'\u001b[39m))\n\u001b[1;32m----> 2\u001b[0m \u001b[38;5;28mprint\u001b[39m(\u001b[43mstr1\u001b[49m\u001b[38;5;241;43m.\u001b[39;49m\u001b[43mindex\u001b[49m\u001b[43m(\u001b[49m\u001b[38;5;124;43m'\u001b[39;49m\u001b[38;5;124;43mnd\u001b[39;49m\u001b[38;5;124;43m'\u001b[39;49m\u001b[43m)\u001b[49m) \u001b[38;5;66;03m# returns error if not found\u001b[39;00m\n",
      "\u001b[1;31mValueError\u001b[0m: substring not found"
     ]
    }
   ],
   "source": [
    "print(str1.find('nd')) # returns -1 if not found\n",
    "print(str1.index('nd')) # returns error if not found"
   ]
  },
  {
   "cell_type": "code",
   "execution_count": 34,
   "id": "64519bb9",
   "metadata": {},
   "outputs": [
    {
     "name": "stdout",
     "output_type": "stream",
     "text": [
      "False\n",
      "True\n",
      "False\n"
     ]
    }
   ],
   "source": [
    "str2 = \"Welcome to the Console\"\n",
    "print(str2.isalnum()) # false due to spaces\n",
    "str3  = \"WelcometotheConsole1\"\n",
    "print(str3.isalnum())\n",
    "print(str3.isalpha())"
   ]
  },
  {
   "cell_type": "code",
   "execution_count": 35,
   "id": "6003e0c6",
   "metadata": {},
   "outputs": [
    {
     "name": "stdout",
     "output_type": "stream",
     "text": [
      "False\n"
     ]
    }
   ],
   "source": [
    "print(str3.islower())"
   ]
  },
  {
   "cell_type": "code",
   "execution_count": 37,
   "id": "a8d9a944",
   "metadata": {},
   "outputs": [
    {
     "name": "stdout",
     "output_type": "stream",
     "text": [
      "True\n",
      "False\n"
     ]
    }
   ],
   "source": [
    "str4 = \"This is awesome\\n\"\n",
    "print(str3.isprintable()) # returns true if all the chars are printable\n",
    "print(str4.isprintable())"
   ]
  },
  {
   "cell_type": "code",
   "execution_count": 2,
   "id": "52b5fe53",
   "metadata": {},
   "outputs": [
    {
     "name": "stdout",
     "output_type": "stream",
     "text": [
      "False\n",
      "True\n"
     ]
    }
   ],
   "source": [
    "str5 = \"This has white spaces\"\n",
    "str6 = \"   \"\n",
    "print(str5.isspace())\n",
    "print(str6.isspace())"
   ]
  },
  {
   "cell_type": "code",
   "execution_count": 12,
   "id": "906ebafe",
   "metadata": {},
   "outputs": [
    {
     "name": "stdout",
     "output_type": "stream",
     "text": [
      "This has white spaces\n",
      "False\n",
      "This Has White Spaces\n"
     ]
    }
   ],
   "source": [
    "str7 = str5.capitalize()\n",
    "print(str7)\n",
    "print(str6.istitle()) # returns if all the words in the string is capatilized\n",
    "print(str5.title()) # retruns the the strings in the title form"
   ]
  },
  {
   "cell_type": "code",
   "execution_count": 6,
   "id": "58407d4a",
   "metadata": {},
   "outputs": [
    {
     "name": "stdout",
     "output_type": "stream",
     "text": [
      "World Health Organization\n"
     ]
    },
    {
     "data": {
      "text/plain": [
       "True"
      ]
     },
     "execution_count": 6,
     "metadata": {},
     "output_type": "execute_result"
    }
   ],
   "source": [
    "str8 = 'World Health Organization'\n",
    "print(str8)\n",
    "str8.istitle()"
   ]
  },
  {
   "cell_type": "code",
   "execution_count": 9,
   "id": "2e80a4f9",
   "metadata": {},
   "outputs": [
    {
     "data": {
      "text/plain": [
       "False"
      ]
     },
     "execution_count": 9,
     "metadata": {},
     "output_type": "execute_result"
    }
   ],
   "source": [
    "str8.startswith(\"World\")\n",
    "str8.isupper()\n",
    "str8.islower()"
   ]
  },
  {
   "cell_type": "markdown",
   "id": "4171bac4",
   "metadata": {},
   "source": [
    "# isupper(), toupper()\n",
    "# is lower(), tolower()\n",
    "# startswith, endswith()\n",
    "# istitle(), title()\n",
    "# capatalise()\n",
    "# isspace()\n",
    "# isprintable()\n",
    "# isalnum()\n",
    "# isalpha()\n",
    "# find('nd')\n",
    "# index('nd')\n",
    "# len(string)\n",
    "# string.center(50)\n",
    "# c.split('d')\n",
    "# replace('HI', 'Hello')\n",
    "# rstrip('!')\n",
    "# g = complex(8, 2)\n",
    "# x = input(\"Enter first number: \")"
   ]
  }
 ],
 "metadata": {
  "kernelspec": {
   "display_name": "Python 3 (ipykernel)",
   "language": "python",
   "name": "python3"
  },
  "language_info": {
   "codemirror_mode": {
    "name": "ipython",
    "version": 3
   },
   "file_extension": ".py",
   "mimetype": "text/x-python",
   "name": "python",
   "nbconvert_exporter": "python",
   "pygments_lexer": "ipython3",
   "version": "3.11.0"
  }
 },
 "nbformat": 4,
 "nbformat_minor": 5
}
