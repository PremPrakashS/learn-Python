{
 "cells": [
  {
   "cell_type": "code",
   "execution_count": 7,
   "id": "7d0368a0",
   "metadata": {},
   "outputs": [
    {
     "data": {
      "text/plain": [
       "[1, 11, 7, 2, 4, 7, 3]"
      ]
     },
     "execution_count": 7,
     "metadata": {},
     "output_type": "execute_result"
    }
   ],
   "source": [
    "l = [1 ,11, 7, 2, 4, 7, 3]\n",
    "l"
   ]
  },
  {
   "cell_type": "code",
   "execution_count": 8,
   "id": "7f535413",
   "metadata": {},
   "outputs": [
    {
     "data": {
      "text/plain": [
       "[1, 11, 7, 2, 4, 7, 3, 8]"
      ]
     },
     "execution_count": 8,
     "metadata": {},
     "output_type": "execute_result"
    }
   ],
   "source": [
    "l.append(8) # to append a value at the end of the list\n",
    "l"
   ]
  },
  {
   "cell_type": "code",
   "execution_count": 10,
   "id": "10a7a5ef",
   "metadata": {},
   "outputs": [
    {
     "data": {
      "text/plain": [
       "[1, 2, 3, 4, 7, 7, 8, 11]"
      ]
     },
     "execution_count": 10,
     "metadata": {},
     "output_type": "execute_result"
    }
   ],
   "source": [
    "l.sort() # sorts the list in place\n",
    "l"
   ]
  },
  {
   "cell_type": "code",
   "execution_count": 12,
   "id": "1d8df827",
   "metadata": {},
   "outputs": [
    {
     "data": {
      "text/plain": [
       "[11, 8, 7, 7, 4, 3, 2, 1]"
      ]
     },
     "execution_count": 12,
     "metadata": {},
     "output_type": "execute_result"
    }
   ],
   "source": [
    "l.sort(reverse = True)\n",
    "l"
   ]
  },
  {
   "cell_type": "code",
   "execution_count": 36,
   "id": "ebc1329c",
   "metadata": {},
   "outputs": [
    {
     "data": {
      "text/plain": [
       "[11, 2, 3, 4, 3, 3, 7, 4, 2, 7, 11, 1]"
      ]
     },
     "execution_count": 36,
     "metadata": {},
     "output_type": "execute_result"
    }
   ],
   "source": [
    "lst = [1 ,11, 7, 2, 4, 7, 3, 3,4, 3, 2, 11]\n",
    "lst.reverse() # reverses the list it doesn't sort it but reverses it\n",
    "lst"
   ]
  },
  {
   "cell_type": "code",
   "execution_count": 20,
   "id": "47717167",
   "metadata": {},
   "outputs": [
    {
     "name": "stdout",
     "output_type": "stream",
     "text": [
      "6\n"
     ]
    }
   ],
   "source": [
    "print(lst.index(7)) # returns the index for the first occourance passed value"
   ]
  },
  {
   "cell_type": "code",
   "execution_count": 24,
   "id": "e8c1e73b",
   "metadata": {},
   "outputs": [
    {
     "name": "stdout",
     "output_type": "stream",
     "text": [
      "2\n"
     ]
    }
   ],
   "source": [
    "print(lst.count(11)) # returns the no. of occourance of the passed value"
   ]
  },
  {
   "cell_type": "code",
   "execution_count": 37,
   "id": "5dbe4f5b",
   "metadata": {},
   "outputs": [
    {
     "name": "stdout",
     "output_type": "stream",
     "text": [
      "m =  [1, 11, 7, 2, 4, 7, 3, 3, 4, 3, 2, 11] \n",
      "lst =  [1, 11, 7, 2, 4, 7, 3, 3, 4, 3, 2, 11]\n",
      "m =  [5, 11, 7, 2, 4, 7, 3, 3, 4, 3, 2, 11] \n",
      "lst =  [5, 11, 7, 2, 4, 7, 3, 3, 4, 3, 2, 11]\n"
     ]
    },
    {
     "data": {
      "text/plain": [
       "\"This is because assiging a list to another list doesn't create a new list instead creates a reference to the existing list, hence when we modify the new list it also modifies the old list, i.e. m is a reference to lst\""
      ]
     },
     "execution_count": 37,
     "metadata": {},
     "output_type": "execute_result"
    }
   ],
   "source": [
    "#if you want to create a copy of a list, use copy() function\n",
    "\n",
    "lst = [1 ,11, 7, 2, 4, 7, 3, 3,4, 3, 2, 11]\n",
    "\n",
    "m = lst # assigned lst list to m creating a new list\n",
    "print(\"m = \",m,\"\\nlst = \", lst)\n",
    "m[0] = 5 # when modified m, the original list also changes\n",
    "print(\"m = \",m,\"\\nlst = \", lst)\n",
    "\n",
    "'''This is because assiging a list to another list doesn't \\\n",
    "create a new list instead creates a reference to the \\\n",
    "existing list, hence when we modify the new list it also \\\n",
    "modifies the old list, i.e. m is a reference to lst'''"
   ]
  },
  {
   "cell_type": "code",
   "execution_count": 40,
   "id": "26ab161d",
   "metadata": {},
   "outputs": [
    {
     "name": "stdout",
     "output_type": "stream",
     "text": [
      "m =  [1, 11, 7, 2, 4, 7, 3, 3, 4, 3, 2, 11] \n",
      "lst =  [1, 11, 7, 2, 4, 7, 3, 3, 4, 3, 2, 11]\n",
      "m =  [100, 11, 7, 2, 4, 7, 3, 3, 4, 3, 2, 11] \n",
      "lst =  [1, 11, 7, 2, 4, 7, 3, 3, 4, 3, 2, 11]\n"
     ]
    },
    {
     "data": {
      "text/plain": [
       "'This works perfectly fine as it does not create a reference of the list, instead creates a copy'"
      ]
     },
     "execution_count": 40,
     "metadata": {},
     "output_type": "execute_result"
    }
   ],
   "source": [
    "lst = [1 ,11, 7, 2, 4, 7, 3, 3,4, 3, 2, 11]\n",
    "\n",
    "m = lst.copy() # copy() to create a copy of the list\n",
    "print(\"m = \",m,\"\\nlst = \", lst)\n",
    "m[0] = 100\n",
    "print(\"m = \",m,\"\\nlst = \", lst)\n",
    "\n",
    "'''This works perfectly fine as it does not create \\\n",
    "a reference of the list, instead creates a copy'''"
   ]
  },
  {
   "cell_type": "code",
   "execution_count": 43,
   "id": "49e92702",
   "metadata": {},
   "outputs": [
    {
     "data": {
      "text/plain": [
       "[1, 899, 11, 7, 2, 4, 7, 3, 3, 4, 3, 2, 11]"
      ]
     },
     "execution_count": 43,
     "metadata": {},
     "output_type": "execute_result"
    }
   ],
   "source": [
    "lst = [1 ,11, 7, 2, 4, 7, 3, 3,4, 3, 2, 11]\n",
    "lst.insert(1, 899) # insert(index, value) to insert a value at the mentioned index\n",
    "lst"
   ]
  },
  {
   "cell_type": "code",
   "execution_count": 44,
   "id": "48845ab0",
   "metadata": {},
   "outputs": [
    {
     "data": {
      "text/plain": [
       "[1, 11, 7, 2, 4, 7, 3, 3, 4, 3, 2, 11, 100, 200, 700]"
      ]
     },
     "execution_count": 44,
     "metadata": {},
     "output_type": "execute_result"
    }
   ],
   "source": [
    "lst = [1 ,11, 7, 2, 4, 7, 3, 3,4, 3, 2, 11]\n",
    "m = [100, 200, 700]\n",
    "\n",
    "lst.extend(m) # to concatenate one list to another. (lst + m) also works for concatenating two lists \n",
    "lst"
   ]
  },
  {
   "cell_type": "code",
   "execution_count": 47,
   "id": "b1e51112",
   "metadata": {},
   "outputs": [
    {
     "data": {
      "text/plain": [
       "[1, 11, 7, 2, 4, 7, 3, 3, 4, 3, 2, 11, 100, 200, 700]"
      ]
     },
     "execution_count": 47,
     "metadata": {},
     "output_type": "execute_result"
    }
   ],
   "source": [
    "lst = [1 ,11, 7, 2, 4, 7, 3, 3,4, 3, 2, 11]\n",
    "m = [100, 200, 700]\n",
    "\n",
    "lst = lst + m # to concatenate one list to another\n",
    "lst"
   ]
  },
  {
   "cell_type": "code",
   "execution_count": 45,
   "id": "37349922",
   "metadata": {},
   "outputs": [
    {
     "data": {
      "text/plain": [
       "[1, 11, 7, 2, 4, 7, 3, 3, 4, 3, 2, 11, [100, 200, 700]]"
      ]
     },
     "execution_count": 45,
     "metadata": {},
     "output_type": "execute_result"
    }
   ],
   "source": [
    "lst = [1 ,11, 7, 2, 4, 7, 3, 3,4, 3, 2, 11]\n",
    "m = [100, 200, 700]\n",
    "\n",
    "lst.append(m) # extend vs. append\n",
    "lst"
   ]
  },
  {
   "cell_type": "code",
   "execution_count": 1,
   "id": "c638df7f",
   "metadata": {},
   "outputs": [
    {
     "name": "stdout",
     "output_type": "stream",
     "text": [
      "11\n",
      "11\n"
     ]
    }
   ],
   "source": [
    "lst = [1 ,11, 7, 2, 4, 7, 3, 3,4, 3, 2, 11]\n",
    "print(lst.pop(1)) # you can add an index to pop method to delete the element at that specific index\n",
    "print(lst.pop()) # to take out the last element from the list. pop() deletes the returns the last element and then deletes it."
   ]
  }
 ],
 "metadata": {
  "kernelspec": {
   "display_name": "Python 3 (ipykernel)",
   "language": "python",
   "name": "python3"
  },
  "language_info": {
   "codemirror_mode": {
    "name": "ipython",
    "version": 3
   },
   "file_extension": ".py",
   "mimetype": "text/x-python",
   "name": "python",
   "nbconvert_exporter": "python",
   "pygments_lexer": "ipython3",
   "version": "3.11.3"
  }
 },
 "nbformat": 4,
 "nbformat_minor": 5
}
