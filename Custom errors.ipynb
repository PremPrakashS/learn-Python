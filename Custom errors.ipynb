{
 "cells": [
  {
   "cell_type": "code",
   "execution_count": null,
   "id": "b0d62fc1",
   "metadata": {},
   "outputs": [],
   "source": [
    "salary = int(input(\"Enter salary amount: \"))"
   ]
  },
  {
   "cell_type": "markdown",
   "id": "5673555b",
   "metadata": {},
   "source": [
    "Sometimes we might need to raise an error to stop the execution of the program in the middle. We can raise custom error using the raise keyword."
   ]
  },
  {
   "cell_type": "code",
   "execution_count": 1,
   "id": "576217c2",
   "metadata": {},
   "outputs": [
    {
     "name": "stdout",
     "output_type": "stream",
     "text": [
      "Enter any value b/w 5 and 912\n"
     ]
    },
    {
     "ename": "ValueError",
     "evalue": "Value should be b/w 5 and 9",
     "output_type": "error",
     "traceback": [
      "\u001b[1;31m---------------------------------------------------------------------------\u001b[0m",
      "\u001b[1;31mValueError\u001b[0m                                Traceback (most recent call last)",
      "Cell \u001b[1;32mIn[1], line 3\u001b[0m\n\u001b[0;32m      1\u001b[0m a \u001b[38;5;241m=\u001b[39m \u001b[38;5;28mint\u001b[39m(\u001b[38;5;28minput\u001b[39m(\u001b[38;5;124m\"\u001b[39m\u001b[38;5;124mEnter any value b/w 5 and 9\u001b[39m\u001b[38;5;124m\"\u001b[39m))\n\u001b[0;32m      2\u001b[0m \u001b[38;5;28;01mif\u001b[39;00m(a\u001b[38;5;241m<\u001b[39m\u001b[38;5;241m5\u001b[39m \u001b[38;5;129;01mor\u001b[39;00m a\u001b[38;5;241m>\u001b[39m\u001b[38;5;241m9\u001b[39m):\n\u001b[1;32m----> 3\u001b[0m     \u001b[38;5;28;01mraise\u001b[39;00m \u001b[38;5;167;01mValueError\u001b[39;00m(\u001b[38;5;124m\"\u001b[39m\u001b[38;5;124mValue should be b/w 5 and 9\u001b[39m\u001b[38;5;124m\"\u001b[39m)\n",
      "\u001b[1;31mValueError\u001b[0m: Value should be b/w 5 and 9"
     ]
    }
   ],
   "source": [
    "try:\n",
    "    a = int(input(\"Enter any value b/w 5 and 9\"))\n",
    "    if(a<5 or a>9):\n",
    "        raise ValueError(\"Value should be b/w 5 and 9\")\n",
    "\n",
    "except ValueError as e:\n",
    "    if a = 'quit':\n",
    "        "
   ]
  },
  {
   "cell_type": "markdown",
   "id": "f62a0409",
   "metadata": {},
   "source": [
    "# Defining custom Exception\n",
    "\n",
    "class CustomError(Exception):\n",
    "    # code ...\n",
    "    pass\n",
    "    \n",
    "try:\n",
    "    # code ...\n",
    "    \n",
    "except CustomError:\n",
    "    # code ..."
   ]
  },
  {
   "cell_type": "code",
   "execution_count": null,
   "id": "e8eda724",
   "metadata": {},
   "outputs": [],
   "source": []
  }
 ],
 "metadata": {
  "kernelspec": {
   "display_name": "Python 3 (ipykernel)",
   "language": "python",
   "name": "python3"
  },
  "language_info": {
   "codemirror_mode": {
    "name": "ipython",
    "version": 3
   },
   "file_extension": ".py",
   "mimetype": "text/x-python",
   "name": "python",
   "nbconvert_exporter": "python",
   "pygments_lexer": "ipython3",
   "version": "3.11.3"
  }
 },
 "nbformat": 4,
 "nbformat_minor": 5
}
