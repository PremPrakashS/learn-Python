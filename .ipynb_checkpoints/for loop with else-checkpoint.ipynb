{
 "cells": [
  {
   "cell_type": "markdown",
   "id": "e58be58e",
   "metadata": {},
   "source": [
    "# Else with loops\n",
    "Python allows you to use else with loops"
   ]
  },
  {
   "cell_type": "code",
   "execution_count": 1,
   "id": "8a981a7b",
   "metadata": {},
   "outputs": [
    {
     "name": "stdout",
     "output_type": "stream",
     "text": [
      "0\n",
      "1\n",
      "2\n",
      "3\n",
      "4\n",
      "sorry no i\n"
     ]
    }
   ],
   "source": [
    "for i in range(5):\n",
    "    print(i)\n",
    "else:\n",
    "    print('sorry no i')"
   ]
  },
  {
   "cell_type": "code",
   "execution_count": 2,
   "id": "9ee9a1ca",
   "metadata": {},
   "outputs": [
    {
     "name": "stdout",
     "output_type": "stream",
     "text": [
      "sorry no i\n"
     ]
    }
   ],
   "source": [
    "for i in []:\n",
    "    print(i)\n",
    "    \n",
    "else:\n",
    "    print('sorry no i')"
   ]
  },
  {
   "cell_type": "code",
   "execution_count": 3,
   "id": "0d959909",
   "metadata": {},
   "outputs": [
    {
     "name": "stdout",
     "output_type": "stream",
     "text": [
      "0\n",
      "1\n",
      "2\n",
      "3\n",
      "4\n"
     ]
    }
   ],
   "source": [
    "for i in range(5):\n",
    "    print(i)\n",
    "    if i == 4:\n",
    "        break\n",
    "\n",
    "else:\n",
    "    print('Sorry no i')"
   ]
  },
  {
   "cell_type": "code",
   "execution_count": 1,
   "id": "8bb4834c",
   "metadata": {},
   "outputs": [
    {
     "name": "stdout",
     "output_type": "stream",
     "text": [
      "0\n",
      "1\n",
      "2\n",
      "3\n",
      "4\n"
     ]
    }
   ],
   "source": [
    "i = 0\n",
    "while i < 7:\n",
    "    print(i)\n",
    "#     if i == 4:\n",
    "#         break\n",
    "    i = i + 1\n",
    "    \n",
    "else:\n",
    "    print('Sorry no i')"
   ]
  }
 ],
 "metadata": {
  "kernelspec": {
   "display_name": "Python 3 (ipykernel)",
   "language": "python",
   "name": "python3"
  },
  "language_info": {
   "codemirror_mode": {
    "name": "ipython",
    "version": 3
   },
   "file_extension": ".py",
   "mimetype": "text/x-python",
   "name": "python",
   "nbconvert_exporter": "python",
   "pygments_lexer": "ipython3",
   "version": "3.11.0"
  }
 },
 "nbformat": 4,
 "nbformat_minor": 5
}
