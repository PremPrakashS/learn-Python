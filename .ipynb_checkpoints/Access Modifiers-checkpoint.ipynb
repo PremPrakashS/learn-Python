{
 "cells": [
  {
   "cell_type": "markdown",
   "id": "9ad65917-a013-44f6-ac8f-7f4d3e79f173",
   "metadata": {},
   "source": [
    "# Access specifiers\n",
    "\n",
    "python does not have private, protected and public\n",
    "\n",
    "*By Default all the class members are public*"
   ]
  },
  {
   "cell_type": "code",
   "execution_count": 3,
   "id": "52a0ff93-605f-4509-ac51-913a07799784",
   "metadata": {},
   "outputs": [
    {
     "data": {
      "text/plain": [
       "'harry'"
      ]
     },
     "execution_count": 3,
     "metadata": {},
     "output_type": "execute_result"
    }
   ],
   "source": [
    "class Employee:\n",
    "    def __init__(self):\n",
    "        self.name = \"harry\"\n",
    "\n",
    "a = Employee()\n",
    "a.name"
   ]
  },
  {
   "cell_type": "markdown",
   "id": "c71b7fd9-a3a2-40b8-a2e7-2783e77e03a3",
   "metadata": {},
   "source": [
    "# Private Access Modifiers\n",
    "\n",
    "prefix with __ (double underscore) to make a member private"
   ]
  },
  {
   "cell_type": "code",
   "execution_count": 2,
   "id": "fda7d553-3798-4aee-8547-a3e03269889c",
   "metadata": {},
   "outputs": [],
   "source": [
    "class Employee:\n",
    "    def __init__(self):\n",
    "        self.__name = \"harry\"\n",
    "    \n",
    "    # prefix with double underscore to make a member private\n",
    "    def __nameprt(self):\n",
    "        print(self.__name)\n",
    "        \n",
    "    @property\n",
    "    def name(self):\n",
    "        return self.__name\n",
    "    \n",
    "    @name.setter\n",
    "    def name(self, nam):\n",
    "        self.__name = nam"
   ]
  },
  {
   "cell_type": "code",
   "execution_count": 23,
   "id": "f0d21c68-03be-4d29-9667-e28ee7dd3b3b",
   "metadata": {},
   "outputs": [
    {
     "name": "stdout",
     "output_type": "stream",
     "text": [
      "harry\n",
      "Prem Prakash Singh\n",
      "Prem Prakash Singh\n",
      "New Name\n",
      "New Name\n",
      "New Name\n",
      "New Name\n",
      "['_Employee__name', '__module__', '__init__', '_Employee__nameprt', 'name', '__dict__', '__weakref__', '__doc__', '__new__', '__repr__', '__hash__', '__str__', '__getattribute__', '__setattr__', '__delattr__', '__lt__', '__le__', '__eq__', '__ne__', '__gt__', '__ge__', '__reduce_ex__', '__reduce__', '__getstate__', '__subclasshook__', '__init_subclass__', '__format__', '__sizeof__', '__dir__', '__class__']\n"
     ]
    }
   ],
   "source": [
    "a = Employee()\n",
    "print(a.name)   # harry\n",
    "a.name = 'Prem Prakash Singh' # using setter\n",
    "\n",
    "print(a.name)  # using getter Prem Prakash Singh\n",
    "# print(a.__name) Cannot be accessed directly\n",
    "print(a._Employee__name)\n",
    "a._Employee__name = 'New Name'\n",
    "print(a.name)\n",
    "print(a.name)\n",
    "print(a._Employee__name)\n",
    "print(a.name)\n",
    "print(a.__dir__())"
   ]
  },
  {
   "cell_type": "code",
   "execution_count": 29,
   "id": "80229934-71a9-4f2e-9700-b43be8abf66f",
   "metadata": {},
   "outputs": [],
   "source": [
    "class Person:\n",
    "    '''\n",
    "    This is the doc for this class\n",
    "    '''\n",
    "    def __init__(self):\n",
    "        self.name = 'Prem Prakash Singh'\n",
    "        self.age = 23\n",
    "        self.__gender = 'male'\n",
    "        \n",
    "    @property\n",
    "    def gender(self):\n",
    "        return self.__gender\n",
    "    \n",
    "    @gender.setter\n",
    "    def gender(self, gender):\n",
    "        self.__gender = gender"
   ]
  },
  {
   "cell_type": "code",
   "execution_count": 30,
   "id": "620486ad-a507-4b48-aa0f-8210952c0fb7",
   "metadata": {},
   "outputs": [],
   "source": [
    "a = Person()"
   ]
  },
  {
   "cell_type": "code",
   "execution_count": 11,
   "id": "0f5e0e7a-89fd-4d4e-a899-3802cb4f2148",
   "metadata": {},
   "outputs": [
    {
     "name": "stdout",
     "output_type": "stream",
     "text": [
      "Prem Prakash Singh\n",
      "23\n"
     ]
    },
    {
     "ename": "AttributeError",
     "evalue": "'Person' object has no attribute '__gender__'",
     "output_type": "error",
     "traceback": [
      "\u001b[1;31m---------------------------------------------------------------------------\u001b[0m",
      "\u001b[1;31mAttributeError\u001b[0m                            Traceback (most recent call last)",
      "Cell \u001b[1;32mIn[11], line 3\u001b[0m\n\u001b[0;32m      1\u001b[0m \u001b[38;5;28mprint\u001b[39m(a\u001b[38;5;241m.\u001b[39mname)\n\u001b[0;32m      2\u001b[0m \u001b[38;5;28mprint\u001b[39m(a\u001b[38;5;241m.\u001b[39mage)\n\u001b[1;32m----> 3\u001b[0m \u001b[38;5;28mprint\u001b[39m(a\u001b[38;5;241m.\u001b[39m__gender__)\n",
      "\u001b[1;31mAttributeError\u001b[0m: 'Person' object has no attribute '__gender__'"
     ]
    }
   ],
   "source": [
    "print(a.name)\n",
    "print(a.age)\n",
    "print(a.__gender__) # private member"
   ]
  },
  {
   "cell_type": "code",
   "execution_count": 18,
   "id": "bd25d7e8-7a03-4af7-969b-0a33eeb37484",
   "metadata": {},
   "outputs": [
    {
     "name": "stdout",
     "output_type": "stream",
     "text": [
      "male\n",
      "['name', 'age', '_Person__gender', '__module__', '__doc__', '__init__', 'gender', '__dict__', '__weakref__', '__new__', '__repr__', '__hash__', '__str__', '__getattribute__', '__setattr__', '__delattr__', '__lt__', '__le__', '__eq__', '__ne__', '__gt__', '__ge__', '__reduce_ex__', '__reduce__', '__getstate__', '__subclasshook__', '__init_subclass__', '__format__', '__sizeof__', '__dir__', '__class__']\n",
      "<class '__main__.Person'>\n",
      "\n",
      "    This is the doc for this class\n",
      "    \n",
      "male\n"
     ]
    }
   ],
   "source": [
    "print(a.gender)\n",
    "print(a.__dir__())\n",
    "print(a.__class__)\n",
    "print(a.__doc__)\n",
    "\n",
    "print(a._Person__gender) # alternate way to access the members"
   ]
  },
  {
   "cell_type": "code",
   "execution_count": 33,
   "id": "93b49285-77fd-4ece-b452-1459a15d8630",
   "metadata": {},
   "outputs": [
    {
     "name": "stdout",
     "output_type": "stream",
     "text": [
      "Male\n",
      "Female\n",
      "Female\n"
     ]
    }
   ],
   "source": [
    "a.gender = 'Male'\n",
    "print(a.gender)\n",
    "a._Person__gender = 'Female'\n",
    "print(a._Person__gender)\n",
    "print(a.gender)"
   ]
  }
 ],
 "metadata": {
  "kernelspec": {
   "display_name": "Python 3 (ipykernel)",
   "language": "python",
   "name": "python3"
  },
  "language_info": {
   "codemirror_mode": {
    "name": "ipython",
    "version": 3
   },
   "file_extension": ".py",
   "mimetype": "text/x-python",
   "name": "python",
   "nbconvert_exporter": "python",
   "pygments_lexer": "ipython3",
   "version": "3.11.3"
  }
 },
 "nbformat": 4,
 "nbformat_minor": 5
}
