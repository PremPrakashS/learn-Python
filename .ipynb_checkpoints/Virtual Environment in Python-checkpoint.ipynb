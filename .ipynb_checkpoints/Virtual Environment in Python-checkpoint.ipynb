{
 "cells": [
  {
   "cell_type": "markdown",
   "id": "588e0794",
   "metadata": {},
   "source": [
    "A virtual environment is a tool used to isolate specific python environments on a single machine, allowing you to work on multiple projects with different dependencies and packages without conflicts. This can be specially useful when working on projects that have conflicting package versions or packages that are not compatible with each other."
   ]
  },
  {
   "cell_type": "markdown",
   "id": "eecc9a50",
   "metadata": {},
   "source": [
    "'venv' module can be used to create virtual environment"
   ]
  },
  {
   "cell_type": "code",
   "execution_count": null,
   "id": "2de6ac1a",
   "metadata": {},
   "outputs": [],
   "source": [
    "# Create a virtual environment\n",
    "python -m venv myenv\n",
    "\n",
    "# to activate the environment(Linux/MacOS)\n",
    "source myenv/bin/activate\n",
    "\n",
    "# Activate the virutal envrionment(Windows)\n",
    "myenv\\Scripts\\activate.bat # doesn't work with powershell, use cmd instead\n",
    "myenv\\Scripts\\activate.ps1 # for powershell\n",
    "\n",
    "# but to execute a powershell script you need to set the Execution Policy\n",
    "Get-ExecutionPolicy\n",
    "Set-ExecutionPolicy -ExecutionPolicy Unrestricted\n",
    "\n",
    "Set-ExecutionPolicy -Scope CurrentUser Unrestricted"
   ]
  },
  {
   "cell_type": "code",
   "execution_count": null,
   "id": "02058b43",
   "metadata": {},
   "outputs": [],
   "source": [
    "# to upgrade pip\n",
    "python.exe -m pip install --upgrade pip\n",
    "\n",
    "# to install modules of a particular version\n",
    "pip install pandas==1.4.4"
   ]
  },
  {
   "cell_type": "code",
   "execution_count": null,
   "id": "c4f6e8fb",
   "metadata": {},
   "outputs": [],
   "source": [
    "# to deactivate an environment\n",
    "deactivate"
   ]
  },
  {
   "cell_type": "code",
   "execution_count": 3,
   "id": "bec7b352",
   "metadata": {},
   "outputs": [
    {
     "name": "stdout",
     "output_type": "stream",
     "text": [
      "1.23.5\n",
      "1.5.2\n"
     ]
    }
   ],
   "source": [
    "import pandas as pd\n",
    "import numpy as np\n",
    "print(np.__version__)\n",
    "print(pd.__version__)"
   ]
  },
  {
   "cell_type": "code",
   "execution_count": null,
   "id": "96fc92cd",
   "metadata": {},
   "outputs": [],
   "source": [
    "python -m venv pandas1-5\n",
    "\n",
    "pandas1-5\\Scripts\\activate.bat\n",
    "\n",
    "pip install pandas==1.5"
   ]
  },
  {
   "cell_type": "code",
   "execution_count": null,
   "id": "3750b3a8",
   "metadata": {},
   "outputs": [],
   "source": [
    "# to export the package details in an virtual environment\n",
    "pip freeze # returns the names and packages version installed in the current environment\n",
    "\n",
    "pip freeze > requirements.txt # to create a txt file will all the details\n",
    "\n",
    "pip install -r requirements.txt # to install all the packages from the file"
   ]
  }
 ],
 "metadata": {
  "kernelspec": {
   "display_name": "Python 3 (ipykernel)",
   "language": "python",
   "name": "python3"
  },
  "language_info": {
   "codemirror_mode": {
    "name": "ipython",
    "version": 3
   },
   "file_extension": ".py",
   "mimetype": "text/x-python",
   "name": "python",
   "nbconvert_exporter": "python",
   "pygments_lexer": "ipython3",
   "version": "3.11.0"
  }
 },
 "nbformat": 4,
 "nbformat_minor": 5
}
