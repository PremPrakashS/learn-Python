{
 "cells": [
  {
   "cell_type": "markdown",
   "id": "f5440c99-692c-4527-b3d4-c98c3270b982",
   "metadata": {},
   "source": [
    "# lambda arguments: expression\n",
    "to create anonymus\n",
    "\n",
    "anonymus function\n",
    "\n",
    "lambda function comes in handy when we have to pass the funciton as an arguments to high order functions "
   ]
  },
  {
   "cell_type": "code",
   "execution_count": 1,
   "id": "798001cc-0d8e-4a20-a20f-b06fd70595e3",
   "metadata": {},
   "outputs": [
    {
     "name": "stdout",
     "output_type": "stream",
     "text": [
      "10\n"
     ]
    }
   ],
   "source": [
    "def double(x):\n",
    "    return x*2\n",
    "\n",
    "print(double(5))"
   ]
  },
  {
   "cell_type": "code",
   "execution_count": 4,
   "id": "8a6858cc-d0f1-4da0-9eb6-d3b9196df7a8",
   "metadata": {},
   "outputs": [
    {
     "name": "stdout",
     "output_type": "stream",
     "text": [
      "10\n",
      "8\n",
      "6.0\n"
     ]
    }
   ],
   "source": [
    "double = lambda x: x*2 # assigning lambda function to a variable\n",
    "cube = lambda x: x**3\n",
    "avg = lambda x,y,z: (x+y+z)/3\n",
    "\n",
    "print(double(5))\n",
    "print(cube(2))\n",
    "print(avg(3,5,10))"
   ]
  },
  {
   "cell_type": "code",
   "execution_count": 5,
   "id": "9333950f-8ec3-41a3-9fa6-4f456e5aed31",
   "metadata": {},
   "outputs": [],
   "source": [
    "def appl(fx, value):\n",
    "    return 6 + fx(value)"
   ]
  },
  {
   "cell_type": "code",
   "execution_count": 12,
   "id": "85f4432c-455f-46d3-a580-687e897fa277",
   "metadata": {},
   "outputs": [
    {
     "name": "stdout",
     "output_type": "stream",
     "text": [
      "14\n",
      "14\n"
     ]
    }
   ],
   "source": [
    "print(appl(cube,2))\n",
    "print(appl(lambda x: x**3, 2))"
   ]
  },
  {
   "cell_type": "code",
   "execution_count": 11,
   "id": "fc3882ec-8d12-46a9-8a09-c418eac13742",
   "metadata": {},
   "outputs": [
    {
     "name": "stdout",
     "output_type": "stream",
     "text": [
      "27\n",
      "14\n"
     ]
    }
   ],
   "source": [
    "def cubeof(x):\n",
    "    return(x**3)\n",
    "\n",
    "cub = cubeof # assigning a normal function to a variable\n",
    "\n",
    "print(cub(3))\n",
    "\n",
    "print(appl(cubeof, 2)) # passing a normal function as arguments"
   ]
  }
 ],
 "metadata": {
  "kernelspec": {
   "display_name": "Python 3 (ipykernel)",
   "language": "python",
   "name": "python3"
  },
  "language_info": {
   "codemirror_mode": {
    "name": "ipython",
    "version": 3
   },
   "file_extension": ".py",
   "mimetype": "text/x-python",
   "name": "python",
   "nbconvert_exporter": "python",
   "pygments_lexer": "ipython3",
   "version": "3.11.3"
  }
 },
 "nbformat": 4,
 "nbformat_minor": 5
}
