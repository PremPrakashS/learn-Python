{
 "cells": [
  {
   "cell_type": "markdown",
   "id": "fdde7032",
   "metadata": {},
   "source": [
    "Write a python program to translate a message into secret code language. Use the rules below to translate normal English into secret code language.\n",
    "\n",
    "Coding:\n",
    "if the word contains atleast 2 characters, remove the first letter and append it at the end\n",
    "    now append 3 random chars at the starting and the end\n",
    "else:\n",
    "    simply reverse the string\n",
    "    \n",
    "Decoding:\n",
    "if the word contains less than 3 characters, reverse it\n",
    "else:\n",
    "    remove 3 random characters from the start and end, Now remove the last letter and add it at the begining\n",
    "    \n",
    "Your program should ask wheather you want to code or decode"
   ]
  }
 ],
 "metadata": {
  "kernelspec": {
   "display_name": "Python 3 (ipykernel)",
   "language": "python",
   "name": "python3"
  },
  "language_info": {
   "codemirror_mode": {
    "name": "ipython",
    "version": 3
   },
   "file_extension": ".py",
   "mimetype": "text/x-python",
   "name": "python",
   "nbconvert_exporter": "python",
   "pygments_lexer": "ipython3",
   "version": "3.11.0"
  }
 },
 "nbformat": 4,
 "nbformat_minor": 5
}
