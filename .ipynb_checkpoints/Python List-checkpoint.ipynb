{
 "cells": [
  {
   "cell_type": "code",
   "execution_count": 10,
   "id": "5008aab2",
   "metadata": {},
   "outputs": [],
   "source": [
    "l = [3, 5, 6, 'String', True, 23.45] # list is ordered collection of data items."
   ]
  },
  {
   "cell_type": "code",
   "execution_count": 11,
   "id": "cef4ae61",
   "metadata": {},
   "outputs": [
    {
     "name": "stdout",
     "output_type": "stream",
     "text": [
      "[3, 5, 6, 'String', True, 23.45]\n",
      "<class 'list'>\n"
     ]
    }
   ],
   "source": [
    "print(l)\n",
    "print(type(l))"
   ]
  },
  {
   "cell_type": "code",
   "execution_count": 12,
   "id": "13a87b23",
   "metadata": {},
   "outputs": [
    {
     "data": {
      "text/plain": [
       "'String'"
      ]
     },
     "execution_count": 12,
     "metadata": {},
     "output_type": "execute_result"
    }
   ],
   "source": [
    "l[3]"
   ]
  },
  {
   "cell_type": "code",
   "execution_count": 19,
   "id": "7b5163a2",
   "metadata": {},
   "outputs": [
    {
     "data": {
      "text/plain": [
       "[23.45, True, 'String', 6, 5, 3]"
      ]
     },
     "execution_count": 19,
     "metadata": {},
     "output_type": "execute_result"
    }
   ],
   "source": [
    "l[::-1]"
   ]
  },
  {
   "cell_type": "code",
   "execution_count": 20,
   "id": "b9834518",
   "metadata": {},
   "outputs": [],
   "source": [
    "string1= 'Prem Prakash'"
   ]
  },
  {
   "cell_type": "code",
   "execution_count": 23,
   "id": "31bfb638",
   "metadata": {},
   "outputs": [
    {
     "data": {
      "text/plain": [
       "'rP m'"
      ]
     },
     "execution_count": 23,
     "metadata": {},
     "output_type": "execute_result"
    }
   ],
   "source": [
    "string1[6:2:-1]"
   ]
  },
  {
   "cell_type": "code",
   "execution_count": 24,
   "id": "346aa0bb",
   "metadata": {},
   "outputs": [
    {
     "name": "stdout",
     "output_type": "stream",
     "text": [
      "String\n"
     ]
    }
   ],
   "source": [
    "if 'String' in l:\n",
    "    print('String')\n",
    "# same thing applies for strings as well"
   ]
  },
  {
   "cell_type": "code",
   "execution_count": 28,
   "id": "c2304698",
   "metadata": {},
   "outputs": [
    {
     "name": "stdout",
     "output_type": "stream",
     "text": [
      "[3, 5, 6, 'String', True, 23.45]\n",
      "[3, 5, 6, 'String', True, 23.45]\n",
      "[5, 6, 'String', True, 23.45]\n",
      "[5, 6]\n",
      "[3, 6, True]\n",
      "[6, True]\n"
     ]
    }
   ],
   "source": [
    "print(l)\n",
    "print(l[:])\n",
    "print(l[1:])\n",
    "print(l[1:3])\n",
    "print(l[::2])\n",
    "print(l[2::2])"
   ]
  },
  {
   "cell_type": "markdown",
   "id": "b7267808",
   "metadata": {},
   "source": [
    "# List comphrension"
   ]
  },
  {
   "cell_type": "code",
   "execution_count": 31,
   "id": "e5f14153",
   "metadata": {},
   "outputs": [
    {
     "name": "stdout",
     "output_type": "stream",
     "text": [
      "[0, 1, 4, 9, 16, 25, 36, 49, 64, 81, 100]\n"
     ]
    }
   ],
   "source": [
    "lst = [i*i for i in range(11)]\n",
    "print(lst)"
   ]
  },
  {
   "cell_type": "code",
   "execution_count": 32,
   "id": "de9a36e6",
   "metadata": {},
   "outputs": [
    {
     "name": "stdout",
     "output_type": "stream",
     "text": [
      "[0, 4, 16, 36, 64]\n"
     ]
    }
   ],
   "source": [
    "lst1 = [i*i for i in range(10) if i % 2 == 0]\n",
    "print(lst1)"
   ]
  }
 ],
 "metadata": {
  "kernelspec": {
   "display_name": "Python 3 (ipykernel)",
   "language": "python",
   "name": "python3"
  },
  "language_info": {
   "codemirror_mode": {
    "name": "ipython",
    "version": 3
   },
   "file_extension": ".py",
   "mimetype": "text/x-python",
   "name": "python",
   "nbconvert_exporter": "python",
   "pygments_lexer": "ipython3",
   "version": "3.11.0"
  }
 },
 "nbformat": 4,
 "nbformat_minor": 5
}
