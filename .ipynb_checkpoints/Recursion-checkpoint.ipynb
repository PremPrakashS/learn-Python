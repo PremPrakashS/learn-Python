{
 "cells": [
  {
   "cell_type": "code",
   "execution_count": 1,
   "id": "48f716e3",
   "metadata": {},
   "outputs": [],
   "source": [
    "# factorial\n",
    "def factorial(n):\n",
    "    '''factorial function to calculate factorial for n through recursion.\\\n",
    "    factorial(n)'''\n",
    "    if(n==0 or n==1):\n",
    "        return 1\n",
    "    else:\n",
    "        return n * factorial(n-1)"
   ]
  },
  {
   "cell_type": "code",
   "execution_count": 2,
   "id": "9aaa4732",
   "metadata": {},
   "outputs": [
    {
     "data": {
      "text/plain": [
       "'factorial function to calculate factorial for n through recursion.    factorial(n)'"
      ]
     },
     "execution_count": 2,
     "metadata": {},
     "output_type": "execute_result"
    }
   ],
   "source": [
    "factorial.__doc__"
   ]
  },
  {
   "cell_type": "code",
   "execution_count": 3,
   "id": "ccc24fd7",
   "metadata": {},
   "outputs": [
    {
     "data": {
      "text/plain": [
       "24"
      ]
     },
     "execution_count": 3,
     "metadata": {},
     "output_type": "execute_result"
    }
   ],
   "source": [
    "factorial(4)"
   ]
  },
  {
   "cell_type": "code",
   "execution_count": null,
   "id": "b2a5fffa",
   "metadata": {},
   "outputs": [],
   "source": [
    "def fabonachii(n):\n",
    "    if(n==0):\n",
    "        return 0\n",
    "    else:\n",
    "        return n + fabonachii(n-1)"
   ]
  },
  {
   "cell_type": "code",
   "execution_count": 1,
   "id": "7d778f26",
   "metadata": {},
   "outputs": [],
   "source": [
    "def factorial_fun(n, i, j):\n",
    "    if ( j <= n ):\n",
    "        print(j, sep=' ')\n",
    "        j + i\n",
    "        factorial_fun(n, j, j+i)\n",
    "    else:\n",
    "        return 0\n",
    "\n",
    "\n",
    "def factorial(n):\n",
    "    factorial_fun(n, 0, 1)"
   ]
  },
  {
   "cell_type": "code",
   "execution_count": 2,
   "id": "8170e970",
   "metadata": {},
   "outputs": [
    {
     "name": "stdout",
     "output_type": "stream",
     "text": [
      "1\n",
      "1\n",
      "2\n",
      "3\n",
      "5\n",
      "8\n"
     ]
    }
   ],
   "source": [
    "factorial(9)"
   ]
  }
 ],
 "metadata": {
  "kernelspec": {
   "display_name": "Python 3 (ipykernel)",
   "language": "python",
   "name": "python3"
  },
  "language_info": {
   "codemirror_mode": {
    "name": "ipython",
    "version": 3
   },
   "file_extension": ".py",
   "mimetype": "text/x-python",
   "name": "python",
   "nbconvert_exporter": "python",
   "pygments_lexer": "ipython3",
   "version": "3.11.0"
  }
 },
 "nbformat": 4,
 "nbformat_minor": 5
}
