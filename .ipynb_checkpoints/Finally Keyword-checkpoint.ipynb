{
 "cells": [
  {
   "cell_type": "code",
   "execution_count": 7,
   "id": "72a95303",
   "metadata": {},
   "outputs": [
    {
     "name": "stdout",
     "output_type": "stream",
     "text": [
      "Enter the index: 34\n",
      "Some error occoured\n",
      "Finally will always be executed!\n",
      "This will be always executed!\n"
     ]
    }
   ],
   "source": [
    "try:\n",
    "    l = [1, 5, 6, 7]\n",
    "    i = int(input(\"Enter the index: \"))\n",
    "    print(l[i])\n",
    "except:\n",
    "    print(\"Some error occoured\")\n",
    "\n",
    "finally:\n",
    "    print(\"Finally will always be executed!\")\n",
    "\n",
    "print(\"This will be always executed!\") # there seems no difference b/w this and finally block"
   ]
  },
  {
   "cell_type": "markdown",
   "id": "1ff1b088",
   "metadata": {},
   "source": [
    "# Until you use it in a function\n",
    "like in the below sinario the last print statement will never be executed as the control will never go to that line. But this will not happen with finally. It will be always executed irrespective of the returns statements in try and except."
   ]
  },
  {
   "cell_type": "code",
   "execution_count": 10,
   "id": "0c189d52",
   "metadata": {},
   "outputs": [],
   "source": [
    "def func1():    \n",
    "    try:\n",
    "        l = [1, 5, 6, 7]\n",
    "        i = int(input(\"Enter the index: \"))\n",
    "        print(l[i])\n",
    "        return 1\n",
    "    except:\n",
    "        print(\"Some error occoured\")\n",
    "        return 0\n",
    "\n",
    "    finally:\n",
    "        print(\"Finally will always be executed!\")\n",
    "\n",
    "    print(\"This will be always executed!\")"
   ]
  },
  {
   "cell_type": "code",
   "execution_count": 18,
   "id": "ae8ca984",
   "metadata": {},
   "outputs": [
    {
     "name": "stdout",
     "output_type": "stream",
     "text": [
      "Enter the index: 6\n",
      "Some error occoured\n",
      "Finally will always be executed!\n",
      "0\n"
     ]
    }
   ],
   "source": [
    "x = func1()\n",
    "print(x)"
   ]
  }
 ],
 "metadata": {
  "kernelspec": {
   "display_name": "Python 3 (ipykernel)",
   "language": "python",
   "name": "python3"
  },
  "language_info": {
   "codemirror_mode": {
    "name": "ipython",
    "version": 3
   },
   "file_extension": ".py",
   "mimetype": "text/x-python",
   "name": "python",
   "nbconvert_exporter": "python",
   "pygments_lexer": "ipython3",
   "version": "3.11.0"
  }
 },
 "nbformat": 4,
 "nbformat_minor": 5
}
