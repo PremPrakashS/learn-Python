{
 "cells": [
  {
   "cell_type": "code",
   "execution_count": null,
   "id": "54fa24dd-70da-40f2-923d-7f97cacff0b2",
   "metadata": {},
   "outputs": [],
   "source": [
    "class MyClass:\n",
    "    def __int__(self, value):\n",
    "        self._value = value\n",
    "        \n",
    "    def show(self):\n",
    "        print(f\"Value is {self._value}\")\n",
    "        \n",
    "    @property\n",
    "    def value(self):\n",
    "        return self._value"
   ]
  }
 ],
 "metadata": {
  "kernelspec": {
   "display_name": "Python 3 (ipykernel)",
   "language": "python",
   "name": "python3"
  },
  "language_info": {
   "codemirror_mode": {
    "name": "ipython",
    "version": 3
   },
   "file_extension": ".py",
   "mimetype": "text/x-python",
   "name": "python",
   "nbconvert_exporter": "python",
   "pygments_lexer": "ipython3",
   "version": "3.11.3"
  }
 },
 "nbformat": 4,
 "nbformat_minor": 5
}
