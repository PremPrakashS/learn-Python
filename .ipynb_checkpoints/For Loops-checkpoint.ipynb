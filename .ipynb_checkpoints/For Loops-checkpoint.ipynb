{
 "cells": [
  {
   "cell_type": "code",
   "execution_count": 2,
   "id": "ca420373",
   "metadata": {},
   "outputs": [
    {
     "name": "stdout",
     "output_type": "stream",
     "text": [
      "P\n",
      "This is something special!\n",
      "r\n",
      "e\n",
      "m\n",
      " \n",
      "P\n",
      "This is something special!\n",
      "r\n",
      "a\n",
      "k\n",
      "a\n",
      "s\n",
      "h\n",
      " \n",
      "S\n",
      "i\n",
      "n\n",
      "g\n",
      "h\n"
     ]
    }
   ],
   "source": [
    "name = 'Prem Prakash Singh'\n",
    "for i in name:\n",
    "    print(i)\n",
    "    if(i == 'P'):\n",
    "        print(\"This is something special!\")"
   ]
  },
  {
   "cell_type": "code",
   "execution_count": 4,
   "id": "28e2f8ff",
   "metadata": {},
   "outputs": [
    {
     "name": "stdout",
     "output_type": "stream",
     "text": [
      "Red\n",
      "R\n",
      "e\n",
      "d\n",
      "Green\n",
      "G\n",
      "r\n",
      "e\n",
      "e\n",
      "n\n",
      "Blue\n",
      "B\n",
      "l\n",
      "u\n",
      "e\n",
      "Yellow\n",
      "Y\n",
      "e\n",
      "l\n",
      "l\n",
      "o\n",
      "w\n"
     ]
    }
   ],
   "source": [
    "colors = ['Red', 'Green', 'Blue', 'Yellow']\n",
    "for color in colors:\n",
    "    print(color)\n",
    "    for i in color:\n",
    "        print(i)"
   ]
  },
  {
   "cell_type": "code",
   "execution_count": 12,
   "id": "3991d77e",
   "metadata": {},
   "outputs": [
    {
     "name": "stdout",
     "output_type": "stream",
     "text": [
      "0 | 1 | 2 | 3 | 4 | \n",
      "\n",
      "3 | 4 | 5 | 6 | 7 | 8 | 9 | \n",
      "\n",
      "3 | 5 | 7 | 9 | "
     ]
    }
   ],
   "source": [
    "for i in range(5):\n",
    "    print(i, end=\" | \")\n",
    "\n",
    "print('\\n')\n",
    "for i in range(3, 10):\n",
    "    print(i, end=\" | \")\n",
    "    \n",
    "print('\\n')\n",
    "for i in range(3, 10, 2):\n",
    "    print(i, end=\" | \")\n",
    "    \n",
    "# range(stop) return a list from 0 to limit-1\n",
    "# range(start, stop) returns a list from start to limit-1\n",
    "# range(start, stop, step) returns a list from start to limit-1 with gaps of step"
   ]
  },
  {
   "cell_type": "markdown",
   "id": "cd483105",
   "metadata": {},
   "source": [
    "# range(start: int, stop: int, step: int)"
   ]
  }
 ],
 "metadata": {
  "kernelspec": {
   "display_name": "Python 3 (ipykernel)",
   "language": "python",
   "name": "python3"
  },
  "language_info": {
   "codemirror_mode": {
    "name": "ipython",
    "version": 3
   },
   "file_extension": ".py",
   "mimetype": "text/x-python",
   "name": "python",
   "nbconvert_exporter": "python",
   "pygments_lexer": "ipython3",
   "version": "3.11.0"
  }
 },
 "nbformat": 4,
 "nbformat_minor": 5
}
