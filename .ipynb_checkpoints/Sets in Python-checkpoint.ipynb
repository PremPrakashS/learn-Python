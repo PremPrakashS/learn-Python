{
 "cells": [
  {
   "cell_type": "markdown",
   "id": "a7d154d7",
   "metadata": {},
   "source": [
    "# Sets\n",
    "Sets are unordered list of data items. Sets are unchangeable(immutable). Sets don't contain duplicate items"
   ]
  },
  {
   "cell_type": "code",
   "execution_count": 1,
   "id": "33301f33",
   "metadata": {},
   "outputs": [
    {
     "data": {
      "text/plain": [
       "{2, 4, 6}"
      ]
     },
     "execution_count": 1,
     "metadata": {},
     "output_type": "execute_result"
    }
   ],
   "source": [
    "s = {2, 4, 2, 6} # sets don't allow the element repetition\n",
    "s"
   ]
  },
  {
   "cell_type": "code",
   "execution_count": 9,
   "id": "fd56f745",
   "metadata": {},
   "outputs": [
    {
     "data": {
      "text/plain": [
       "{19, 5.9, 'Carla', False}"
      ]
     },
     "execution_count": 9,
     "metadata": {},
     "output_type": "execute_result"
    }
   ],
   "source": [
    "info = {'Carla', 19, False, 5.9, 19}\n",
    "info"
   ]
  },
  {
   "cell_type": "markdown",
   "id": "0f4f5f20",
   "metadata": {},
   "source": [
    "Elements of sets occour in random order hence indexing cannot be used to access elements."
   ]
  },
  {
   "cell_type": "code",
   "execution_count": 19,
   "id": "bb4614fa",
   "metadata": {},
   "outputs": [
    {
     "name": "stdout",
     "output_type": "stream",
     "text": [
      "<class 'tuple'>\n",
      "<class 'dict'>\n",
      "<class 'set'>\n"
     ]
    }
   ],
   "source": [
    "info = ()\n",
    "print(type(info))\n",
    "\n",
    "info = {} # if you try to create empty sets. A dictonary will be created.\n",
    "print(type(info))\n",
    "info = set()\n",
    "print(type(info)) # to create empty set use set() function."
   ]
  },
  {
   "cell_type": "code",
   "execution_count": 21,
   "id": "95a8959d",
   "metadata": {},
   "outputs": [
    {
     "name": "stdout",
     "output_type": "stream",
     "text": [
      "False\n",
      "19\n",
      "5.9\n",
      "Carla\n"
     ]
    }
   ],
   "source": [
    "info = {'Carla', 19, False, 5.9, 19}\n",
    "\n",
    "for value in info:\n",
    "    print(value) # as you can see the result will be in some random order because set us unordered list of elements."
   ]
  }
 ],
 "metadata": {
  "kernelspec": {
   "display_name": "Python 3 (ipykernel)",
   "language": "python",
   "name": "python3"
  },
  "language_info": {
   "codemirror_mode": {
    "name": "ipython",
    "version": 3
   },
   "file_extension": ".py",
   "mimetype": "text/x-python",
   "name": "python",
   "nbconvert_exporter": "python",
   "pygments_lexer": "ipython3",
   "version": "3.11.0"
  }
 },
 "nbformat": 4,
 "nbformat_minor": 5
}
