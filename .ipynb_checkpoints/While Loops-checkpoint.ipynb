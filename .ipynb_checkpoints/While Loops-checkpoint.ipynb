{
 "cells": [
  {
   "cell_type": "code",
   "execution_count": 1,
   "id": "3ed28c97",
   "metadata": {},
   "outputs": [
    {
     "name": "stdout",
     "output_type": "stream",
     "text": [
      "0\n",
      "1\n",
      "2\n",
      "0\n",
      "1\n",
      "2\n"
     ]
    }
   ],
   "source": [
    "for i in range(3):\n",
    "    print(i)\n",
    "    \n",
    "i = 0\n",
    "while(i<3):\n",
    "    print(i)\n",
    "    i = i+1"
   ]
  },
  {
   "cell_type": "code",
   "execution_count": 2,
   "id": "cde31325",
   "metadata": {},
   "outputs": [
    {
     "name": "stdout",
     "output_type": "stream",
     "text": [
      "5\n",
      "4\n",
      "3\n",
      "2\n",
      "1\n",
      "I am inside else\n"
     ]
    }
   ],
   "source": [
    "count = 5\n",
    "while (count> 0):\n",
    "    print(count)\n",
    "    count = count - 1\n",
    "else:\n",
    "    print(\"I am inside else\") # as soon as the while condition becomes false the else part is executed"
   ]
  },
  {
   "cell_type": "code",
   "execution_count": 4,
   "id": "a933d27f",
   "metadata": {},
   "outputs": [
    {
     "name": "stdout",
     "output_type": "stream",
     "text": [
      "Enter a String to print, enter '!quit' to end: Hello\n",
      "Hello\n",
      "Enter a String to print, enter '!quit' to end: Hello\n",
      "Hello\n",
      "Enter a String to print, enter '!quit' to end: Prem Prakash Singh\n",
      "Prem Prakash Singh\n",
      "Enter a String to print, enter '!quit' to end: !quit\n",
      "!quit\n"
     ]
    }
   ],
   "source": [
    "# emulating do while loop in python\n",
    "while(True):\n",
    "    i = str(input(\"Enter a String to print, enter '!quit' to end: \"))\n",
    "    print(i)\n",
    "    if( i == '!quit'):\n",
    "        break"
   ]
  }
 ],
 "metadata": {
  "kernelspec": {
   "display_name": "Python 3 (ipykernel)",
   "language": "python",
   "name": "python3"
  },
  "language_info": {
   "codemirror_mode": {
    "name": "ipython",
    "version": 3
   },
   "file_extension": ".py",
   "mimetype": "text/x-python",
   "name": "python",
   "nbconvert_exporter": "python",
   "pygments_lexer": "ipython3",
   "version": "3.11.0"
  }
 },
 "nbformat": 4,
 "nbformat_minor": 5
}
