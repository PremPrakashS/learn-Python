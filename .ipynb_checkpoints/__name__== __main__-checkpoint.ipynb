{
 "cells": [
  {
   "cell_type": "code",
   "execution_count": 1,
   "id": "58fce447",
   "metadata": {
    "scrolled": true
   },
   "outputs": [
    {
     "name": "stdout",
     "output_type": "stream",
     "text": [
      "mypack\n",
      "Hey you are welcome from Harry\n",
      "__main__\n",
      "Hey you are welcome from Harry\n"
     ]
    }
   ],
   "source": [
    "import mypack\n",
    "\n",
    "print(__name__)\n",
    "\n",
    "mypack.welcome()\n",
    "\n",
    "# welcome is getting executed twice, once we are calling the function.\n",
    "# import causes the code in the mypack to run as the imported package is executed."
   ]
  },
  {
   "cell_type": "markdown",
   "id": "0f224022",
   "metadata": {},
   "source": [
    "# Executed this code with below code in the mypack\n",
    "\n",
    "def welcome():\n",
    "    print(\"Hey you are welcome from Harry\")\n",
    "\n",
    "print(__name__)  \n",
    "welcome()"
   ]
  },
  {
   "cell_type": "code",
   "execution_count": 1,
   "id": "f80a2936",
   "metadata": {},
   "outputs": [
    {
     "name": "stdout",
     "output_type": "stream",
     "text": [
      "__main__\n",
      "Hey you are welcome from Harry\n"
     ]
    }
   ],
   "source": [
    "import mypack\n",
    "\n",
    "print(__name__)\n",
    "\n",
    "mypack.welcome()"
   ]
  },
  {
   "cell_type": "markdown",
   "id": "86fb9829",
   "metadata": {},
   "source": [
    "# Executed this code with below code in the mypack\n",
    "\n",
    "def welcome():\n",
    "    print(\"Hey you are welcome from Harry\")\n",
    "  \n",
    "if __name__== \"__main__\":\n",
    "    print(__name__)  \n",
    "    welcome()"
   ]
  },
  {
   "cell_type": "markdown",
   "id": "998a48a4",
   "metadata": {},
   "source": [
    "__name__== \"__main__\" idiom is a common pattern used in Python scripts to determine wheather the script is being run directly or being imported as a module into another script."
   ]
  }
 ],
 "metadata": {
  "kernelspec": {
   "display_name": "Python 3 (ipykernel)",
   "language": "python",
   "name": "python3"
  },
  "language_info": {
   "codemirror_mode": {
    "name": "ipython",
    "version": 3
   },
   "file_extension": ".py",
   "mimetype": "text/x-python",
   "name": "python",
   "nbconvert_exporter": "python",
   "pygments_lexer": "ipython3",
   "version": "3.11.0"
  }
 },
 "nbformat": 4,
 "nbformat_minor": 5
}
