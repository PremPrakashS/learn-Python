{
 "cells": [
  {
   "cell_type": "markdown",
   "id": "4a2ef7fb",
   "metadata": {},
   "source": [
    "# Earlier strings were formated like below."
   ]
  },
  {
   "cell_type": "code",
   "execution_count": 7,
   "id": "a50e3b7d",
   "metadata": {
    "scrolled": true
   },
   "outputs": [
    {
     "name": "stdout",
     "output_type": "stream",
     "text": [
      "Hey my name is Prem Prakash Singh, and I am from India\n",
      "Hey my name is India, and I am from Prem Prakash Singh\n"
     ]
    }
   ],
   "source": [
    "letter = 'Hey my name is {}, and I am from {}'\n",
    "country = 'India'\n",
    "name = 'Prem Prakash Singh'\n",
    "\n",
    "print(letter.format(name, country))\n",
    "print(letter.format(country, name))\n",
    "\n",
    "del country\n",
    "del letter\n",
    "del name"
   ]
  },
  {
   "cell_type": "code",
   "execution_count": 6,
   "id": "46164974",
   "metadata": {},
   "outputs": [
    {
     "name": "stdout",
     "output_type": "stream",
     "text": [
      "Hey my name is Prem Prakash Singh, and I am from India\n"
     ]
    }
   ],
   "source": [
    "letter = 'Hey my name is {1}, and I am from {0}'\n",
    "country = 'India'\n",
    "name = 'Prem Prakash Singh'\n",
    "\n",
    "print(letter.format(country, name))\n",
    "del country\n",
    "del letter\n",
    "del name"
   ]
  },
  {
   "cell_type": "markdown",
   "id": "012e6bb6",
   "metadata": {},
   "source": [
    "# Below is a better way to format strings"
   ]
  },
  {
   "cell_type": "code",
   "execution_count": 8,
   "id": "c29da42a",
   "metadata": {},
   "outputs": [
    {
     "name": "stdout",
     "output_type": "stream",
     "text": [
      "Hey my name is Prem Prakash Singh and I am from India\n"
     ]
    }
   ],
   "source": [
    "country = 'India'\n",
    "name = 'Prem Prakash Singh'\n",
    "print(f\"Hey my name is {name} and I am from {country}\")"
   ]
  },
  {
   "cell_type": "code",
   "execution_count": 12,
   "id": "764f28c5",
   "metadata": {},
   "outputs": [
    {
     "name": "stdout",
     "output_type": "stream",
     "text": [
      "For only 49.10 dollars!\n"
     ]
    }
   ],
   "source": [
    "txt = \"For only {price:.2f} dollars!\" # price:.2f specifies the decimal points after the decimal\n",
    "print(txt.format(price = 49.099999))"
   ]
  },
  {
   "cell_type": "code",
   "execution_count": 16,
   "id": "9297e931",
   "metadata": {},
   "outputs": [
    {
     "name": "stdout",
     "output_type": "stream",
     "text": [
      "For only 49.10 dollars!\n",
      "<class 'str'>\n"
     ]
    }
   ],
   "source": [
    "price = 49.099999\n",
    "txt = f\"For only {price:.2f} dollars!\"\n",
    "print(txt)\n",
    "\n",
    "del price\n",
    "print(type(f\"{2*30}\"))"
   ]
  },
  {
   "cell_type": "code",
   "execution_count": 19,
   "id": "617b16ea",
   "metadata": {},
   "outputs": [
    {
     "name": "stdout",
     "output_type": "stream",
     "text": [
      "We use f-strings like this: Hey my name is Prem Prakash Singh and I am from India\n",
      "We use f-strings like this: Hey my name is {name} and I am from {country}\n"
     ]
    }
   ],
   "source": [
    "country = 'India'\n",
    "name = 'Prem Prakash Singh'\n",
    "print(f\"We use f-strings like this: Hey my name is {name} and I am from {country}\")\n",
    "print(f\"We use f-strings like this: Hey my name is {{name}} and I am from {{country}}\")  # use double curly braces if you want to print the curly braces as well"
   ]
  }
 ],
 "metadata": {
  "kernelspec": {
   "display_name": "Python 3 (ipykernel)",
   "language": "python",
   "name": "python3"
  },
  "language_info": {
   "codemirror_mode": {
    "name": "ipython",
    "version": 3
   },
   "file_extension": ".py",
   "mimetype": "text/x-python",
   "name": "python",
   "nbconvert_exporter": "python",
   "pygments_lexer": "ipython3",
   "version": "3.11.0"
  }
 },
 "nbformat": 4,
 "nbformat_minor": 5
}
