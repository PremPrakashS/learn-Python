{
 "cells": [
  {
   "cell_type": "code",
   "execution_count": 4,
   "id": "68d8f2ae-a418-4431-ae05-4011b9204965",
   "metadata": {},
   "outputs": [],
   "source": [
    "class hello:\n",
    "    def __init__(self):\n",
    "        print(\"Default Constructor\")\n",
    "    \n",
    "    def info(self):  # it's important to pass self to the class method as when calling these method an object is passed implicitly, hence not passing self will result into an error.\n",
    "        self.var1 = \"hello this is amazing\"\n",
    "        print(self.var1)"
   ]
  },
  {
   "cell_type": "code",
   "execution_count": 5,
   "id": "e5950620-e3cb-4905-a69b-1d0dc20d353f",
   "metadata": {},
   "outputs": [],
   "source": [
    "o1 = hello()"
   ]
  },
  {
   "cell_type": "code",
   "execution_count": 7,
   "id": "3c02d25e-7e25-4c27-a5f5-b14246488cb1",
   "metadata": {},
   "outputs": [
    {
     "data": {
      "text/plain": [
       "'hello this is amazing'"
      ]
     },
     "execution_count": 7,
     "metadata": {},
     "output_type": "execute_result"
    }
   ],
   "source": [
    "o1.var1"
   ]
  },
  {
   "cell_type": "code",
   "execution_count": 8,
   "id": "c6b0f361-e3a1-44e6-a1f0-009c782c463d",
   "metadata": {},
   "outputs": [],
   "source": [
    "class hello:\n",
    "    def __init__(self):\n",
    "        print(\"Default Constructor\")\n",
    "    \n",
    "    def info(self):  # it's important to pass self to the class method as when calling these method an object is passed implicitly, hence not passing self will result into an error.\n",
    "        self.var1 = \"hello this is amazing\"\n",
    "        print(self.var1)"
   ]
  },
  {
   "cell_type": "code",
   "execution_count": 11,
   "id": "12a196f6-c562-49ac-b2ea-2acb544c7e96",
   "metadata": {},
   "outputs": [
    {
     "name": "stdout",
     "output_type": "stream",
     "text": [
      "Default Constructor\n"
     ]
    },
    {
     "ename": "AttributeError",
     "evalue": "'hello' object has no attribute 'var1'",
     "output_type": "error",
     "traceback": [
      "\u001b[1;31m---------------------------------------------------------------------------\u001b[0m",
      "\u001b[1;31mAttributeError\u001b[0m                            Traceback (most recent call last)",
      "Cell \u001b[1;32mIn[11], line 2\u001b[0m\n\u001b[0;32m      1\u001b[0m obj \u001b[38;5;241m=\u001b[39m hello()\n\u001b[1;32m----> 2\u001b[0m obj\u001b[38;5;241m.\u001b[39mvar1\n\u001b[0;32m      3\u001b[0m obj\u001b[38;5;241m.\u001b[39minfo()\n",
      "\u001b[1;31mAttributeError\u001b[0m: 'hello' object has no attribute 'var1'"
     ]
    }
   ],
   "source": [
    "obj = hello()\n",
    "obj.var1\n",
    "obj.info()"
   ]
  },
  {
   "cell_type": "code",
   "execution_count": 12,
   "id": "3bfd245c-f238-4963-8d34-383a177c15de",
   "metadata": {},
   "outputs": [
    {
     "name": "stdout",
     "output_type": "stream",
     "text": [
      "Default Constructor\n",
      "hello this is amazing\n"
     ]
    },
    {
     "data": {
      "text/plain": [
       "'hello this is amazing'"
      ]
     },
     "execution_count": 12,
     "metadata": {},
     "output_type": "execute_result"
    }
   ],
   "source": [
    "obj1 = hello()\n",
    "obj1.info()\n",
    "obj1.var1"
   ]
  }
 ],
 "metadata": {
  "kernelspec": {
   "display_name": "Python 3 (ipykernel)",
   "language": "python",
   "name": "python3"
  },
  "language_info": {
   "codemirror_mode": {
    "name": "ipython",
    "version": 3
   },
   "file_extension": ".py",
   "mimetype": "text/x-python",
   "name": "python",
   "nbconvert_exporter": "python",
   "pygments_lexer": "ipython3",
   "version": "3.11.3"
  }
 },
 "nbformat": 4,
 "nbformat_minor": 5
}
