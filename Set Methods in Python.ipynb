{
 "cells": [
  {
   "cell_type": "code",
   "execution_count": 8,
   "id": "36cbf7be",
   "metadata": {},
   "outputs": [
    {
     "name": "stdout",
     "output_type": "stream",
     "text": [
      "{1, 2, 3, 5, 6, 7}\n",
      "{1, 2, 5, 6} {3, 6, 7}\n",
      "{1, 2, 3, 5, 6, 7}\n"
     ]
    }
   ],
   "source": [
    "s1 = {1, 2, 5, 6}\n",
    "s2 = {3, 6, 7}\n",
    "print(s1.union(s2)) # to perform union() operation\n",
    "print(s1, s2) # union() function doen't alter the existing sets\n",
    "s1.update(s2) # update() will perform the union and update the set\n",
    "print(s1)"
   ]
  },
  {
   "cell_type": "code",
   "execution_count": 13,
   "id": "143a95ba",
   "metadata": {},
   "outputs": [
    {
     "name": "stdout",
     "output_type": "stream",
     "text": [
      "{3, 6}\n",
      "{1, 2, 3, 5, 6} {3, 6, 7}\n",
      "{3, 6}\n"
     ]
    }
   ],
   "source": [
    "s1 = {1, 2, 3, 5, 6}\n",
    "s2 = {3, 6, 7}\n",
    "print(s1.intersection(s2)) # to perform intersection of sets\n",
    "print(s1, s2)\n",
    "s1.intersection_update(s2) # intersection_update() updates the set\n",
    "print(s1)"
   ]
  },
  {
   "cell_type": "markdown",
   "id": "4000de35",
   "metadata": {},
   "source": [
    "Symmetric difference: All the values which are not common in the two sets"
   ]
  },
  {
   "cell_type": "code",
   "execution_count": 17,
   "id": "067cb098",
   "metadata": {},
   "outputs": [
    {
     "name": "stdout",
     "output_type": "stream",
     "text": [
      "{1, 2, 5, 7}\n",
      "{1, 2, 3, 5, 6}\n"
     ]
    }
   ],
   "source": [
    "s1 = {1, 2, 3, 5, 6}\n",
    "s2 = {3, 6, 7}\n",
    "print(s1.symmetric_difference(s2))\n",
    "print(s1)"
   ]
  },
  {
   "cell_type": "markdown",
   "id": "7c217aeb",
   "metadata": {},
   "source": [
    "difference() and difference_update()"
   ]
  },
  {
   "cell_type": "code",
   "execution_count": 19,
   "id": "4fde72a0",
   "metadata": {},
   "outputs": [
    {
     "name": "stdout",
     "output_type": "stream",
     "text": [
      "{1, 2, 5}\n",
      "{1, 2, 3, 5, 6}\n",
      "{1, 2, 5}\n"
     ]
    }
   ],
   "source": [
    "s1 = {1, 2, 3, 5, 6}\n",
    "s2 = {3, 6, 7}\n",
    "print(s1.difference(s2))\n",
    "print(s1)\n",
    "s1.difference_update(s2)\n",
    "print(s1)"
   ]
  },
  {
   "cell_type": "markdown",
   "id": "f45cb7c9",
   "metadata": {},
   "source": [
    "# disjoint()\n",
    "disjoint sets have no elements in common"
   ]
  },
  {
   "cell_type": "code",
   "execution_count": 21,
   "id": "7d32a5e9",
   "metadata": {},
   "outputs": [
    {
     "name": "stdout",
     "output_type": "stream",
     "text": [
      "False\n",
      "True\n"
     ]
    }
   ],
   "source": [
    "s1 = {1, 2, 3, 5, 6}\n",
    "s2 = {3, 6, 7}\n",
    "print(s1.isdisjoint(s2))\n",
    "\n",
    "s1 = {1,2,3}\n",
    "s2 = {4,5,6}\n",
    "print(s1.isdisjoint(s2))"
   ]
  },
  {
   "cell_type": "markdown",
   "id": "e6981ac6",
   "metadata": {},
   "source": [
    "# issuperset()\n",
    "this method checks if all the items of a particular set are present in the original set."
   ]
  },
  {
   "cell_type": "code",
   "execution_count": 23,
   "id": "4709d01f",
   "metadata": {},
   "outputs": [
    {
     "name": "stdout",
     "output_type": "stream",
     "text": [
      "True\n",
      "False\n"
     ]
    }
   ],
   "source": [
    "s1 = {1, 2, 3, 5, 6}\n",
    "s2 = {3, 6}\n",
    "print(s1.issuperset(s2))\n",
    "\n",
    "s1 = {1, 2, 3, 5, 6}\n",
    "s2 = {3, 6, 7}\n",
    "print(s1.issuperset(s2))"
   ]
  },
  {
   "cell_type": "code",
   "execution_count": 24,
   "id": "74e751d9",
   "metadata": {},
   "outputs": [
    {
     "name": "stdout",
     "output_type": "stream",
     "text": [
      "True\n",
      "False\n"
     ]
    }
   ],
   "source": [
    "s1 = {1, 2, 3, 5, 6}\n",
    "s2 = {3, 6}\n",
    "print(s2.issubset(s1))\n",
    "\n",
    "s1 = {1, 2, 3, 5, 6}\n",
    "s2 = {3, 6, 7}\n",
    "print(s2.issubset(s1))"
   ]
  },
  {
   "cell_type": "markdown",
   "id": "0e2f58b5",
   "metadata": {},
   "source": [
    "# add()\n",
    "to add an element to the set"
   ]
  },
  {
   "cell_type": "code",
   "execution_count": 26,
   "id": "41f56316",
   "metadata": {},
   "outputs": [
    {
     "name": "stdout",
     "output_type": "stream",
     "text": [
      "{'Delhi', 'Berlin', 'Tokyo', 'Madrid', 'Helsinki'}\n",
      "{'Delhi', 'Bhopal', 'Berlin', 'Tokyo', 'Kolkata', 'Madrid', 'Mumbai', 'Helsinki'}\n"
     ]
    }
   ],
   "source": [
    "cities = {'Tokyo', 'Madrid', 'Berlin', 'Delhi'}\n",
    "cities.add('Helsinki')\n",
    "print(cities)\n",
    "\n",
    "# to add more than 1 element update() can be used\n",
    "cities.update(('Mumbai', 'Kolkata', 'Bhopal'))\n",
    "print(cities)"
   ]
  },
  {
   "cell_type": "markdown",
   "id": "6e423049",
   "metadata": {},
   "source": [
    "# remove()/discard()\n",
    "do delete/remove an element from the set"
   ]
  },
  {
   "cell_type": "code",
   "execution_count": 34,
   "id": "6d43846b",
   "metadata": {},
   "outputs": [
    {
     "name": "stdout",
     "output_type": "stream",
     "text": [
      "None\n",
      "{'Delhi', 'Berlin', 'Tokyo', 'Kolkata', 'Madrid', 'Mumbai', 'Helsinki'}\n",
      "None\n"
     ]
    }
   ],
   "source": [
    "cities = {'Delhi', 'Bhopal', 'Berlin', 'Tokyo', \n",
    "          'Kolkata', 'Madrid', 'Mumbai', 'Helsinki'}\n",
    "cities.discard('Bhopal')\n",
    "print(cities)\n",
    "cities.discard('Bhopal')"
   ]
  },
  {
   "cell_type": "code",
   "execution_count": 35,
   "id": "b9916415",
   "metadata": {},
   "outputs": [
    {
     "name": "stdout",
     "output_type": "stream",
     "text": [
      "None\n",
      "{'Delhi', 'Berlin', 'Tokyo', 'Kolkata', 'Madrid', 'Mumbai', 'Helsinki'}\n"
     ]
    },
    {
     "ename": "KeyError",
     "evalue": "'Bhopal'",
     "output_type": "error",
     "traceback": [
      "\u001b[1;31m---------------------------------------------------------------------------\u001b[0m",
      "\u001b[1;31mKeyError\u001b[0m                                  Traceback (most recent call last)",
      "Cell \u001b[1;32mIn[35], line 5\u001b[0m\n\u001b[0;32m      3\u001b[0m \u001b[38;5;28mprint\u001b[39m(cities\u001b[38;5;241m.\u001b[39mremove(\u001b[38;5;124m'\u001b[39m\u001b[38;5;124mBhopal\u001b[39m\u001b[38;5;124m'\u001b[39m))\n\u001b[0;32m      4\u001b[0m \u001b[38;5;28mprint\u001b[39m(cities)\n\u001b[1;32m----> 5\u001b[0m \u001b[43mcities\u001b[49m\u001b[38;5;241;43m.\u001b[39;49m\u001b[43mremove\u001b[49m\u001b[43m(\u001b[49m\u001b[38;5;124;43m'\u001b[39;49m\u001b[38;5;124;43mBhopal\u001b[39;49m\u001b[38;5;124;43m'\u001b[39;49m\u001b[43m)\u001b[49m \u001b[38;5;66;03m# the main difference b/w remove() and discard() is that, if we try to delete\u001b[39;00m\n\u001b[0;32m      6\u001b[0m                         \u001b[38;5;66;03m# an element which is not present in the set remove() throws and error while discard() doesn't.\u001b[39;00m\n",
      "\u001b[1;31mKeyError\u001b[0m: 'Bhopal'"
     ]
    }
   ],
   "source": [
    "cities = {'Delhi', 'Bhopal', 'Berlin', 'Tokyo', \n",
    "          'Kolkata', 'Madrid', 'Mumbai', 'Helsinki'}\n",
    "cities.remove('Bhopal')\n",
    "print(cities)\n",
    "cities.remove('Bhopal') # the main difference b/w remove() and discard() is that, if we try to delete\n",
    "                        # an element which is not present in the set remove() throws and error while discard() doesn't."
   ]
  },
  {
   "cell_type": "markdown",
   "id": "1ca9b3c1",
   "metadata": {},
   "source": [
    "# pop()\n",
    "returns and deletes the last element from the set, but as the sets are unordered, it will delete any element on random."
   ]
  },
  {
   "cell_type": "code",
   "execution_count": 60,
   "id": "ef147a92",
   "metadata": {},
   "outputs": [
    {
     "name": "stdout",
     "output_type": "stream",
     "text": [
      "Delhi\n"
     ]
    }
   ],
   "source": [
    "cities = {'Delhi', 'Bhopal', 'Berlin', 'Tokyo', \n",
    "          'Kolkata', 'Madrid', 'Mumbai', 'Helsinki'}\n",
    "print(cities.pop())"
   ]
  },
  {
   "cell_type": "markdown",
   "id": "dbf10e4e",
   "metadata": {},
   "source": [
    "# del keyword\n",
    "to delete a variable"
   ]
  },
  {
   "cell_type": "code",
   "execution_count": 61,
   "id": "ae681390",
   "metadata": {},
   "outputs": [
    {
     "ename": "NameError",
     "evalue": "name 'cities' is not defined",
     "output_type": "error",
     "traceback": [
      "\u001b[1;31m---------------------------------------------------------------------------\u001b[0m",
      "\u001b[1;31mNameError\u001b[0m                                 Traceback (most recent call last)",
      "Cell \u001b[1;32mIn[61], line 4\u001b[0m\n\u001b[0;32m      1\u001b[0m cities \u001b[38;5;241m=\u001b[39m {\u001b[38;5;124m'\u001b[39m\u001b[38;5;124mDelhi\u001b[39m\u001b[38;5;124m'\u001b[39m, \u001b[38;5;124m'\u001b[39m\u001b[38;5;124mBhopal\u001b[39m\u001b[38;5;124m'\u001b[39m, \u001b[38;5;124m'\u001b[39m\u001b[38;5;124mBerlin\u001b[39m\u001b[38;5;124m'\u001b[39m, \u001b[38;5;124m'\u001b[39m\u001b[38;5;124mTokyo\u001b[39m\u001b[38;5;124m'\u001b[39m, \n\u001b[0;32m      2\u001b[0m           \u001b[38;5;124m'\u001b[39m\u001b[38;5;124mKolkata\u001b[39m\u001b[38;5;124m'\u001b[39m, \u001b[38;5;124m'\u001b[39m\u001b[38;5;124mMadrid\u001b[39m\u001b[38;5;124m'\u001b[39m, \u001b[38;5;124m'\u001b[39m\u001b[38;5;124mMumbai\u001b[39m\u001b[38;5;124m'\u001b[39m, \u001b[38;5;124m'\u001b[39m\u001b[38;5;124mHelsinki\u001b[39m\u001b[38;5;124m'\u001b[39m}\n\u001b[0;32m      3\u001b[0m \u001b[38;5;28;01mdel\u001b[39;00m cities\n\u001b[1;32m----> 4\u001b[0m \u001b[38;5;28mprint\u001b[39m(\u001b[43mcities\u001b[49m)\n",
      "\u001b[1;31mNameError\u001b[0m: name 'cities' is not defined"
     ]
    }
   ],
   "source": [
    "cities = {'Delhi', 'Bhopal', 'Berlin', 'Tokyo', \n",
    "          'Kolkata', 'Madrid', 'Mumbai', 'Helsinki'}\n",
    "del cities\n",
    "print(cities)"
   ]
  },
  {
   "cell_type": "markdown",
   "id": "cb9ad6e9",
   "metadata": {},
   "source": [
    "# clear()\n",
    "to delete all the elements from the set"
   ]
  },
  {
   "cell_type": "code",
   "execution_count": 62,
   "id": "c47acc9d",
   "metadata": {},
   "outputs": [
    {
     "name": "stdout",
     "output_type": "stream",
     "text": [
      "set()\n"
     ]
    }
   ],
   "source": [
    "cities = {'Delhi', 'Bhopal', 'Berlin', 'Tokyo', \n",
    "          'Kolkata', 'Madrid', 'Mumbai', 'Helsinki'}\n",
    "cities.clear()\n",
    "print(cities)"
   ]
  },
  {
   "cell_type": "code",
   "execution_count": 64,
   "id": "81b86469",
   "metadata": {},
   "outputs": [
    {
     "name": "stdout",
     "output_type": "stream",
     "text": [
      "Delhi exist in cities\n"
     ]
    }
   ],
   "source": [
    "cities = {'Delhi', 'Bhopal', 'Berlin', 'Tokyo', \n",
    "          'Kolkata', 'Madrid', 'Mumbai', 'Helsinki'}\n",
    "if 'Delhi' in cities:\n",
    "    print('Delhi exist in cities')"
   ]
  }
 ],
 "metadata": {
  "kernelspec": {
   "display_name": "Python 3 (ipykernel)",
   "language": "python",
   "name": "python3"
  },
  "language_info": {
   "codemirror_mode": {
    "name": "ipython",
    "version": 3
   },
   "file_extension": ".py",
   "mimetype": "text/x-python",
   "name": "python",
   "nbconvert_exporter": "python",
   "pygments_lexer": "ipython3",
   "version": "3.11.0"
  }
 },
 "nbformat": 4,
 "nbformat_minor": 5
}
