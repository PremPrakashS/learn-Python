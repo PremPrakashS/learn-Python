{
 "cells": [
  {
   "cell_type": "code",
   "execution_count": 4,
   "id": "7fb15f10",
   "metadata": {},
   "outputs": [
    {
     "name": "stdout",
     "output_type": "stream",
     "text": [
      "<class 'tuple'> (1, 5, 6)\n"
     ]
    }
   ],
   "source": [
    "tup = (1, 5 , 6) # initializing a tuple\n",
    "print(type(tup), tup)"
   ]
  },
  {
   "cell_type": "code",
   "execution_count": 6,
   "id": "e86a1d37",
   "metadata": {},
   "outputs": [
    {
     "name": "stdout",
     "output_type": "stream",
     "text": [
      "<class 'int'> 1\n",
      "<class 'tuple'> (1,)\n"
     ]
    }
   ],
   "source": [
    "tup = (1)  # if initialized a tuple with one element it will be treated as a value. So, add a comma at the end\n",
    "print(type(tup), tup)\n",
    "\n",
    "tup = (1,)  # if initialized a tuple with one element it will be treated as a value. So, add a comma at the end\n",
    "print(type(tup), tup)"
   ]
  },
  {
   "cell_type": "code",
   "execution_count": 7,
   "id": "9f8ba35d",
   "metadata": {},
   "outputs": [
    {
     "ename": "TypeError",
     "evalue": "'tuple' object does not support item assignment",
     "output_type": "error",
     "traceback": [
      "\u001b[1;31m---------------------------------------------------------------------------\u001b[0m",
      "\u001b[1;31mTypeError\u001b[0m                                 Traceback (most recent call last)",
      "Cell \u001b[1;32mIn[7], line 2\u001b[0m\n\u001b[0;32m      1\u001b[0m tup \u001b[38;5;241m=\u001b[39m (\u001b[38;5;241m1\u001b[39m, \u001b[38;5;241m5\u001b[39m , \u001b[38;5;241m6\u001b[39m)\n\u001b[1;32m----> 2\u001b[0m \u001b[43mtup\u001b[49m\u001b[43m[\u001b[49m\u001b[38;5;241;43m0\u001b[39;49m\u001b[43m]\u001b[49m \u001b[38;5;241m=\u001b[39m \u001b[38;5;241m0\u001b[39m\n",
      "\u001b[1;31mTypeError\u001b[0m: 'tuple' object does not support item assignment"
     ]
    }
   ],
   "source": [
    "tup = (1, 5 , 6)\n",
    "tup[0] = 0 # tuples are immutable"
   ]
  },
  {
   "cell_type": "code",
   "execution_count": 10,
   "id": "1183f721",
   "metadata": {},
   "outputs": [
    {
     "name": "stdout",
     "output_type": "stream",
     "text": [
      "<class 'tuple'> (1, 5, 6, 'green')\n",
      "5\n"
     ]
    }
   ],
   "source": [
    "tup = (1, 5 , 6, 'green')\n",
    "print(type(tup), tup)\n",
    "print(tup[1])"
   ]
  },
  {
   "cell_type": "code",
   "execution_count": 12,
   "id": "c6e1c7b2",
   "metadata": {},
   "outputs": [
    {
     "name": "stdout",
     "output_type": "stream",
     "text": [
      "green exist!\n"
     ]
    }
   ],
   "source": [
    "tup = (1, 5 , 6, 'green', 'hello', True, 23.957)\n",
    "\n",
    "if 'green' in tup:\n",
    "    print('green exist!')\n",
    "else:\n",
    "    print('Green doesn\\'t exist')"
   ]
  },
  {
   "cell_type": "code",
   "execution_count": 14,
   "id": "02d123c0",
   "metadata": {},
   "outputs": [
    {
     "name": "stdout",
     "output_type": "stream",
     "text": [
      "(5, 6, 'green')\n",
      "(5, 6, 'green')\n"
     ]
    }
   ],
   "source": [
    "tup = (1, 5 , 6, 'green', 'hello', True, 23.957)\n",
    "tup2 = tup[1:4]\n",
    "print(tup2)\n",
    "print(tup[1:4])"
   ]
  },
  {
   "cell_type": "code",
   "execution_count": 16,
   "id": "5237e752",
   "metadata": {},
   "outputs": [
    {
     "name": "stdout",
     "output_type": "stream",
     "text": [
      "[5, 6, 'green']\n",
      "[5, 6, 'green']\n",
      "[5, 0, 'green']\n",
      "[5, 6, 'green']\n"
     ]
    }
   ],
   "source": [
    "lst = [1, 5 , 6, 'green', 'hello', True, 23.957]\n",
    "lst2 = lst[1:4]\n",
    "print(lst2)\n",
    "print(lst[1:4])\n",
    "\n",
    "lst2[1] = 0\n",
    "print(lst2)\n",
    "print(lst[1:4])"
   ]
  },
  {
   "cell_type": "markdown",
   "id": "d8563fe7",
   "metadata": {},
   "source": [
    "# -ve indexing also works for tuples"
   ]
  }
 ],
 "metadata": {
  "kernelspec": {
   "display_name": "Python 3 (ipykernel)",
   "language": "python",
   "name": "python3"
  },
  "language_info": {
   "codemirror_mode": {
    "name": "ipython",
    "version": 3
   },
   "file_extension": ".py",
   "mimetype": "text/x-python",
   "name": "python",
   "nbconvert_exporter": "python",
   "pygments_lexer": "ipython3",
   "version": "3.11.0"
  }
 },
 "nbformat": 4,
 "nbformat_minor": 5
}
