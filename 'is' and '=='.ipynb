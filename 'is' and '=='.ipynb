{
 "cells": [
  {
   "cell_type": "code",
   "execution_count": 3,
   "id": "e9afde4f-06af-4f9c-aa06-61de50012121",
   "metadata": {},
   "outputs": [
    {
     "name": "stdout",
     "output_type": "stream",
     "text": [
      "False\n",
      "False\n",
      "True\n"
     ]
    }
   ],
   "source": [
    "a = 4\n",
    "b = \"4\"\n",
    "c = a\n",
    "\n",
    "print(a is b) # compares exact location\n",
    "print(a == b) # compares value\n",
    "print(c is a) # a and c is pointing to same memory location"
   ]
  },
  {
   "cell_type": "code",
   "execution_count": 4,
   "id": "a115593f-44e5-4406-a0fc-8a5088b844e0",
   "metadata": {},
   "outputs": [
    {
     "name": "stdout",
     "output_type": "stream",
     "text": [
      "False\n",
      "True\n"
     ]
    }
   ],
   "source": [
    "a = [1, 2, 43]\n",
    "b = [1, 2, 43]\n",
    "\n",
    "print(a is b) # compares exact location\n",
    "print(a == b) # compares value"
   ]
  },
  {
   "cell_type": "code",
   "execution_count": 6,
   "id": "5bf7ab33-1f92-4936-aa7b-a052d68146bb",
   "metadata": {},
   "outputs": [
    {
     "name": "stdout",
     "output_type": "stream",
     "text": [
      "True\n",
      "True\n"
     ]
    }
   ],
   "source": [
    "a = 3\n",
    "b = 3\n",
    "\n",
    "print(a is b) # compares exact location\n",
    "print(a == b) # compares value\n",
    "# a and b is pointing to same memory location"
   ]
  }
 ],
 "metadata": {
  "kernelspec": {
   "display_name": "Python 3 (ipykernel)",
   "language": "python",
   "name": "python3"
  },
  "language_info": {
   "codemirror_mode": {
    "name": "ipython",
    "version": 3
   },
   "file_extension": ".py",
   "mimetype": "text/x-python",
   "name": "python",
   "nbconvert_exporter": "python",
   "pygments_lexer": "ipython3",
   "version": "3.11.3"
  }
 },
 "nbformat": 4,
 "nbformat_minor": 5
}
