{
 "cells": [
  {
   "cell_type": "markdown",
   "id": "a48fcf1c",
   "metadata": {},
   "source": [
    "# REPL(Read Evaluate Print Loop)"
   ]
  },
  {
   "cell_type": "markdown",
   "id": "abd4b34f",
   "metadata": {},
   "source": [
    "# Variables & Data Types"
   ]
  },
  {
   "cell_type": "code",
   "execution_count": 29,
   "id": "7f93c041",
   "metadata": {},
   "outputs": [],
   "source": [
    "a = 1\n",
    "b = True\n",
    "c = 'Prem'\n",
    "d = None\n",
    "e = 'Prakash'\n",
    "f = 34.563553\n",
    "g = complex(8, 2) # complex number"
   ]
  },
  {
   "cell_type": "code",
   "execution_count": 30,
   "id": "0f07ba9e",
   "metadata": {},
   "outputs": [
    {
     "name": "stdout",
     "output_type": "stream",
     "text": [
      "1\n",
      "True\n",
      "Prem\n",
      "None\n",
      "Prakash\n",
      "34.563553\n",
      "(8+2j)\n",
      "<class 'int'>\n",
      "<class 'bool'>\n",
      "<class 'str'>\n",
      "<class 'NoneType'>\n",
      "<class 'str'>\n",
      "<class 'float'>\n",
      "<class 'complex'>\n"
     ]
    }
   ],
   "source": [
    "print(a, b, c, d, e, f, g, sep= '\\n')\n",
    "print(type(a), type(b), type(c), type(d), type(e), type(f), type(g), sep = '\\n')"
   ]
  },
  {
   "cell_type": "code",
   "execution_count": 24,
   "id": "f44978b2",
   "metadata": {},
   "outputs": [
    {
     "name": "stdout",
     "output_type": "stream",
     "text": [
      "PremPrakash\n"
     ]
    }
   ],
   "source": [
    "print(c + e) # Concatenate a string"
   ]
  },
  {
   "cell_type": "markdown",
   "id": "7d34c7e7",
   "metadata": {},
   "source": [
    "# Arthematic Operators"
   ]
  },
  {
   "cell_type": "code",
   "execution_count": 3,
   "id": "17790e9e",
   "metadata": {},
   "outputs": [
    {
     "name": "stdout",
     "output_type": "stream",
     "text": [
      "Addition: 15 + 6 = 21\n",
      "Subtraction: 15 - 6 = 9\n",
      "Multiplication: 15 * 6 = 90\n",
      "Division: 15 / 6 = 2.5\n",
      "Floor Division: 15 // 6 = 2\n",
      "Exponential: 15 ^ 6 = 11390625\n",
      "Mod division: 15 % 6 = 3\n"
     ]
    }
   ],
   "source": [
    "print('Addition: 15 + 6 =', 15+6)\n",
    "print('Subtraction: 15 - 6 =', 15-6)\n",
    "print('Multiplication: 15 * 6 =', 15*6)\n",
    "print('Division: 15 / 6 =', 15/6)\n",
    "print('Floor Division: 15 // 6 =', 15//6)\n",
    "print('Exponential: 15 ^ 6 =',15**6)\n",
    "print('Mod division: 15 % 6 =', 15%6)\n",
    "# Alt + Shift + Up/Down : to replicate the selected line (copy the line) in VS code."
   ]
  },
  {
   "cell_type": "markdown",
   "id": "f6d320da",
   "metadata": {},
   "source": [
    "# TypeCasting"
   ]
  },
  {
   "cell_type": "code",
   "execution_count": 4,
   "id": "818f2fa3",
   "metadata": {},
   "outputs": [
    {
     "name": "stdout",
     "output_type": "stream",
     "text": [
      "12\n"
     ]
    }
   ],
   "source": [
    "a = \"1\"\n",
    "b = \"2\"\n",
    "print(a+b) # concatenating a sting"
   ]
  },
  {
   "cell_type": "code",
   "execution_count": 7,
   "id": "b672710f",
   "metadata": {},
   "outputs": [
    {
     "name": "stdout",
     "output_type": "stream",
     "text": [
      "11\n",
      "3\n"
     ]
    }
   ],
   "source": [
    "a = \"1\"\n",
    "b = 2\n",
    "print(a*b) # print sting a twice\n",
    "print(int(a)+b) # type casting"
   ]
  },
  {
   "cell_type": "markdown",
   "id": "a6a7548b",
   "metadata": {},
   "source": [
    "variety of type casting methods: int(), float(), str(), ord(), hex(), oct(), tuple(), set(), list(), dict(), etc. for the type casting in python."
   ]
  },
  {
   "cell_type": "code",
   "execution_count": 20,
   "id": "d9d227eb",
   "metadata": {},
   "outputs": [
    {
     "name": "stdout",
     "output_type": "stream",
     "text": [
      "3\n"
     ]
    }
   ],
   "source": [
    "a = \"1\"\n",
    "b = \"2\"\n",
    "print(int(a) + int(b))"
   ]
  },
  {
   "cell_type": "code",
   "execution_count": 25,
   "id": "1161e995",
   "metadata": {},
   "outputs": [
    {
     "name": "stdout",
     "output_type": "stream",
     "text": [
      "['A', 'B', 'C', 'D']\n"
     ]
    }
   ],
   "source": [
    "string = \"ABCD\"\n",
    "print(list(string))\n",
    "# string converted to list"
   ]
  },
  {
   "cell_type": "markdown",
   "id": "3dfebf75",
   "metadata": {},
   "source": [
    "# User Input given to python program"
   ]
  },
  {
   "cell_type": "code",
   "execution_count": 28,
   "id": "282501c3",
   "metadata": {},
   "outputs": [
    {
     "name": "stdout",
     "output_type": "stream",
     "text": [
      "input\n",
      "This an input:\n"
     ]
    }
   ],
   "source": [
    "a = input()\n",
    "print(\"This an input:\")"
   ]
  },
  {
   "cell_type": "code",
   "execution_count": 30,
   "id": "8dfde2d4",
   "metadata": {},
   "outputs": [
    {
     "name": "stdout",
     "output_type": "stream",
     "text": [
      "Input?a\n",
      "Print input: a\n"
     ]
    }
   ],
   "source": [
    "a = input(\"Input?\")\n",
    "print(\"Print input:\", a)"
   ]
  },
  {
   "cell_type": "code",
   "execution_count": 34,
   "id": "7aa3c6ed",
   "metadata": {},
   "outputs": [
    {
     "name": "stdout",
     "output_type": "stream",
     "text": [
      "Enter first number: 45\n",
      "Enter Second number: 3\n",
      "48\n"
     ]
    }
   ],
   "source": [
    "# x = input(\"Enter first number: \")\n",
    "# y = input(\"Enter Second number: \") # input() takes the input as a string use typecasting to convert the input to appriopriate datatype\n",
    "# print(x+y)\n",
    "\n",
    "# Output:\n",
    "# Enter first number: 34\n",
    "# Enter Second number: 67\n",
    "# 3467\n",
    "\n",
    "x = int(input(\"Enter first number: \"))\n",
    "y = int(input(\"Enter Second number: \")) # input() takes the input as a string use typecasting to convert the input to appriopriate datatype\n",
    "print(x+y)\n",
    "\n",
    "# Output:\n",
    "# Enter first number: 45\n",
    "# Enter Second number: 3\n",
    "# 48"
   ]
  },
  {
   "cell_type": "markdown",
   "id": "f201da4b",
   "metadata": {},
   "source": [
    "# Strings"
   ]
  },
  {
   "cell_type": "code",
   "execution_count": 39,
   "id": "206ed6b2",
   "metadata": {},
   "outputs": [],
   "source": [
    "name = \"Prem\"\n",
    "friend = \"Rohan\"\n",
    "anotherFriend = 'Lovish'"
   ]
  },
  {
   "cell_type": "code",
   "execution_count": 41,
   "id": "f1cdf5d7",
   "metadata": {},
   "outputs": [
    {
     "name": "stdout",
     "output_type": "stream",
     "text": [
      "Hello, Prem\n"
     ]
    }
   ],
   "source": [
    "print(\"Hello, \" + name)"
   ]
  },
  {
   "cell_type": "code",
   "execution_count": 46,
   "id": "0badbbc7",
   "metadata": {},
   "outputs": [],
   "source": [
    "# Multiline strings\n",
    "a = \"hello, \\\n",
    "I am prem\"\n",
    "b = '''hello,\n",
    "I am prem'''\n",
    "c = \"\"\"hello,\n",
    "I am prem\"\"\""
   ]
  },
  {
   "cell_type": "code",
   "execution_count": 49,
   "id": "7a4b2c7a",
   "metadata": {},
   "outputs": [
    {
     "name": "stdout",
     "output_type": "stream",
     "text": [
      "h\n"
     ]
    }
   ],
   "source": [
    "print(a[0])"
   ]
  },
  {
   "cell_type": "markdown",
   "id": "c9ff4e1f",
   "metadata": {},
   "source": [
    "# Slicing String"
   ]
  },
  {
   "cell_type": "code",
   "execution_count": 1,
   "id": "439ba0f2",
   "metadata": {},
   "outputs": [],
   "source": [
    "name = \"Harry,Shubham\""
   ]
  },
  {
   "cell_type": "code",
   "execution_count": 5,
   "id": "0346717d",
   "metadata": {},
   "outputs": [
    {
     "name": "stdout",
     "output_type": "stream",
     "text": [
      "Harry\n",
      "13\n"
     ]
    }
   ],
   "source": [
    "print(name[0:5]) # sting slicing from 0th to 4th character\n",
    "# sting[<starting position> : <ending position> : <step size>]\n",
    "print(len(name))\n",
    "# len() returns size of the string"
   ]
  },
  {
   "cell_type": "code",
   "execution_count": 30,
   "id": "ec27447f",
   "metadata": {},
   "outputs": [
    {
     "name": "stdout",
     "output_type": "stream",
     "text": [
      "\n",
      "ng\n",
      "og\n"
     ]
    }
   ],
   "source": [
    "fruit = 'mango'\n",
    "mangolen = len(fruit)\n",
    "# print(mangolen)\n",
    "# print(fruit[1:4])\n",
    "# print(fruit[:4]) # if the starting index is not specified python starts from 0th index\n",
    "# print(fruit[1:]) # if the ending position is not specified then python puts the len(<stirng>) in the ending position\n",
    "# print(fruit[:]) # python assumes the start and end\n",
    "# print(fruit[0:-3]) # by default it stands for fruit[0:len(fruit)-3], for -ve indexes python adds it to len(<string>)\n",
    "# print(fruit[:-3])\n",
    "print(fruit[-1: -3]) # fruit[len(fruit)-1 , len(fruit)-3] [4:2] which doesn't make sense\n",
    "print(fruit[-3: -1]) # fruit[len(fruit)-3 , len(fruit)-1] [2:4]\n",
    "print(fruit[4: 2: -1])"
   ]
  },
  {
   "cell_type": "code",
   "execution_count": 32,
   "id": "a6410a22",
   "metadata": {},
   "outputs": [
    {
     "name": "stdout",
     "output_type": "stream",
     "text": [
      "ar\n"
     ]
    }
   ],
   "source": [
    "mn = \"Harry\"\n",
    "print(mn[-4:-2])"
   ]
  }
 ],
 "metadata": {
  "kernelspec": {
   "display_name": "Python 3 (ipykernel)",
   "language": "python",
   "name": "python3"
  },
  "language_info": {
   "codemirror_mode": {
    "name": "ipython",
    "version": 3
   },
   "file_extension": ".py",
   "mimetype": "text/x-python",
   "name": "python",
   "nbconvert_exporter": "python",
   "pygments_lexer": "ipython3",
   "version": "3.11.0"
  }
 },
 "nbformat": 4,
 "nbformat_minor": 5
}
