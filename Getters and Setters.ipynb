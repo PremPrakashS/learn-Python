{
 "cells": [
  {
   "cell_type": "code",
   "execution_count": 10,
   "id": "54fa24dd-70da-40f2-923d-7f97cacff0b2",
   "metadata": {},
   "outputs": [],
   "source": [
    "class MyClass:\n",
    "    def __init__(self, value):\n",
    "        self._value = value\n",
    "        \n",
    "    def show(self):\n",
    "        print(f\"Value is {self._value}\")\n",
    "        \n",
    "    @property\n",
    "    def ten_value(self):\n",
    "        return 10 * self._value"
   ]
  },
  {
   "cell_type": "code",
   "execution_count": 11,
   "id": "8d389abf-5063-4c89-80ba-22e9e1f6c4c0",
   "metadata": {},
   "outputs": [
    {
     "name": "stdout",
     "output_type": "stream",
     "text": [
      "100\n",
      "Value is 10\n"
     ]
    }
   ],
   "source": [
    "obj = MyClass(10)\n",
    "print(obj.ten_value)\n",
    "obj.show()"
   ]
  },
  {
   "cell_type": "code",
   "execution_count": 12,
   "id": "6995ed12-2d44-48be-acc1-4e3fb1963b2e",
   "metadata": {},
   "outputs": [
    {
     "ename": "AttributeError",
     "evalue": "property 'ten_value' of 'MyClass' object has no setter",
     "output_type": "error",
     "traceback": [
      "\u001b[1;31m---------------------------------------------------------------------------\u001b[0m",
      "\u001b[1;31mAttributeError\u001b[0m                            Traceback (most recent call last)",
      "Cell \u001b[1;32mIn[12], line 1\u001b[0m\n\u001b[1;32m----> 1\u001b[0m obj\u001b[38;5;241m.\u001b[39mten_value \u001b[38;5;241m=\u001b[39m \u001b[38;5;241m67\u001b[39m\n",
      "\u001b[1;31mAttributeError\u001b[0m: property 'ten_value' of 'MyClass' object has no setter"
     ]
    }
   ],
   "source": [
    "obj.ten_value = 67"
   ]
  },
  {
   "cell_type": "code",
   "execution_count": 13,
   "id": "1aa2e110-2fa1-449c-865f-7bddd394489e",
   "metadata": {},
   "outputs": [],
   "source": [
    "class MyClass:\n",
    "    def __init__(self, value):\n",
    "        self._value = value\n",
    "        \n",
    "    def show(self):\n",
    "        print(f\"Value is {self._value}\")\n",
    "        \n",
    "    @property\n",
    "    def ten_value(self):\n",
    "        return 10 * self._value\n",
    "    \n",
    "    @ten_value.setter\n",
    "    def ten_value(self, new_value):\n",
    "        self._value = new_value/10"
   ]
  },
  {
   "cell_type": "code",
   "execution_count": 14,
   "id": "0be4443c-6f36-401f-a701-c0560a53350a",
   "metadata": {},
   "outputs": [
    {
     "name": "stdout",
     "output_type": "stream",
     "text": [
      "100\n",
      "Value is 10\n",
      "67.0\n",
      "6.7\n"
     ]
    }
   ],
   "source": [
    "obj = MyClass(10)\n",
    "print(obj.ten_value) #getter\n",
    "obj.show()\n",
    "obj.ten_value = 67 #setter\n",
    "print(obj.ten_value)\n",
    "print(obj._value)"
   ]
  }
 ],
 "metadata": {
  "kernelspec": {
   "display_name": "Python 3 (ipykernel)",
   "language": "python",
   "name": "python3"
  },
  "language_info": {
   "codemirror_mode": {
    "name": "ipython",
    "version": 3
   },
   "file_extension": ".py",
   "mimetype": "text/x-python",
   "name": "python",
   "nbconvert_exporter": "python",
   "pygments_lexer": "ipython3",
   "version": "3.11.3"
  }
 },
 "nbformat": 4,
 "nbformat_minor": 5
}
