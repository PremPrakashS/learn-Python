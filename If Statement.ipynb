{
 "cells": [
  {
   "cell_type": "code",
   "execution_count": 4,
   "id": "a9e7604e",
   "metadata": {},
   "outputs": [
    {
     "name": "stdout",
     "output_type": "stream",
     "text": [
      "Enter your age: 4\n",
      "your age is:  4\n"
     ]
    }
   ],
   "source": [
    "a = int(input('Enter your age: '))\n",
    "print(\"your age is: \", a)"
   ]
  },
  {
   "cell_type": "markdown",
   "id": "0af72cae",
   "metadata": {},
   "source": [
    "# Conditional operators\n",
    "# <, >, <=, >=, ==, !="
   ]
  },
  {
   "cell_type": "code",
   "execution_count": 5,
   "id": "19c48cab",
   "metadata": {},
   "outputs": [
    {
     "name": "stdout",
     "output_type": "stream",
     "text": [
      "You cannot drive\n"
     ]
    }
   ],
   "source": [
    "if a > 18 :\n",
    "    print(\"You can drive\")\n",
    "else:\n",
    "    print('You cannot drive')"
   ]
  },
  {
   "cell_type": "markdown",
   "id": "9a8b1433",
   "metadata": {},
   "source": [
    "# elif"
   ]
  },
  {
   "cell_type": "code",
   "execution_count": 9,
   "id": "e6d40096",
   "metadata": {},
   "outputs": [
    {
     "name": "stdout",
     "output_type": "stream",
     "text": [
      "Enter the value of num: 6\n",
      "Number is +ve.\n"
     ]
    }
   ],
   "source": [
    "num = int(input(\"Enter the value of num: \"))\n",
    "if num < 0:\n",
    "    print(\"Number is -ve.\")\n",
    "elif num == 0:\n",
    "    print(\"Number is Zero\")\n",
    "elif num == 99:\n",
    "    print(\"Number is Special\")\n",
    "else:\n",
    "    print(\"Number is +ve.\")"
   ]
  },
  {
   "cell_type": "markdown",
   "id": "a86478e8",
   "metadata": {},
   "source": [
    "# nested if statement"
   ]
  }
 ],
 "metadata": {
  "kernelspec": {
   "display_name": "Python 3 (ipykernel)",
   "language": "python",
   "name": "python3"
  },
  "language_info": {
   "codemirror_mode": {
    "name": "ipython",
    "version": 3
   },
   "file_extension": ".py",
   "mimetype": "text/x-python",
   "name": "python",
   "nbconvert_exporter": "python",
   "pygments_lexer": "ipython3",
   "version": "3.11.0"
  }
 },
 "nbformat": 4,
 "nbformat_minor": 5
}
