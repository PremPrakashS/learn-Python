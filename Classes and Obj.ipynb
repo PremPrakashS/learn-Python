{
 "cells": [
  {
   "cell_type": "code",
   "execution_count": 1,
   "id": "dfd82785-3141-4357-811d-12c035b31417",
   "metadata": {},
   "outputs": [],
   "source": [
    "class Person:\n",
    "    name = 'Harry'\n",
    "    occupation = 'Software Developer'\n",
    "    networth = '10'"
   ]
  },
  {
   "cell_type": "code",
   "execution_count": 2,
   "id": "25b26c0d-68a0-4c65-9d71-005d27879cb5",
   "metadata": {},
   "outputs": [
    {
     "name": "stdout",
     "output_type": "stream",
     "text": [
      "Shubham Accountant\n"
     ]
    }
   ],
   "source": [
    "a = Person()\n",
    "a.name = 'Shubham'\n",
    "a.occupation = 'Accountant'\n",
    "print(a.name, a.occupation)"
   ]
  },
  {
   "cell_type": "code",
   "execution_count": 4,
   "id": "0e1d354c-3797-48d6-a2d8-e3dafdae7a2c",
   "metadata": {},
   "outputs": [],
   "source": [
    "class Person:\n",
    "    name = 'Harry'\n",
    "    occupation = 'Software Developer'\n",
    "    networth = '10'\n",
    "    def info(self):\n",
    "        print(f\"{self.name} is a {self.occupation}\")"
   ]
  },
  {
   "cell_type": "code",
   "execution_count": 5,
   "id": "59d92c76-0e37-4755-bd0b-c9e03967e4ee",
   "metadata": {},
   "outputs": [
    {
     "name": "stdout",
     "output_type": "stream",
     "text": [
      "Harry is a Software Developer\n"
     ]
    }
   ],
   "source": [
    "a = Person()\n",
    "a.info()"
   ]
  },
  {
   "cell_type": "code",
   "execution_count": 19,
   "id": "450fc466-964d-4a7d-bdd9-63adc553411c",
   "metadata": {},
   "outputs": [],
   "source": [
    "class Person:\n",
    "    \n",
    "    def __init__(self, n, o):  # parameterized constructor\n",
    "        # print(\"I am a constructer\")\n",
    "        self.name = n\n",
    "        self.occ = o\n",
    "    \n",
    "    def info(self):\n",
    "        print(f\"{self.name} is a {self.occ}\")"
   ]
  },
  {
   "cell_type": "code",
   "execution_count": 20,
   "id": "f5fa679b-1a70-4604-a2bd-6ebfa044c3cf",
   "metadata": {},
   "outputs": [],
   "source": [
    "a = Person(\"Harry\", \"Developer\")\n",
    "b = Person(\"Divya\", \"HR\")"
   ]
  },
  {
   "cell_type": "code",
   "execution_count": 21,
   "id": "4d70a8bd-7571-4a9a-b4a5-55de4058db8c",
   "metadata": {},
   "outputs": [
    {
     "name": "stdout",
     "output_type": "stream",
     "text": [
      "Harry is a Developer\n",
      "Divya is a HR\n"
     ]
    }
   ],
   "source": [
    "a.info()\n",
    "b.info()"
   ]
  }
 ],
 "metadata": {
  "kernelspec": {
   "display_name": "Python 3 (ipykernel)",
   "language": "python",
   "name": "python3"
  },
  "language_info": {
   "codemirror_mode": {
    "name": "ipython",
    "version": 3
   },
   "file_extension": ".py",
   "mimetype": "text/x-python",
   "name": "python",
   "nbconvert_exporter": "python",
   "pygments_lexer": "ipython3",
   "version": "3.11.3"
  }
 },
 "nbformat": 4,
 "nbformat_minor": 5
}
