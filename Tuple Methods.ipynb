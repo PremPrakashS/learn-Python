{
 "cells": [
  {
   "cell_type": "code",
   "execution_count": 2,
   "id": "78b6479a",
   "metadata": {
    "scrolled": true
   },
   "outputs": [
    {
     "data": {
      "text/plain": [
       "'Tuples are immutable so you can not manipulate a tuple, so if you want to manipulate ityou can first convert the tuples into list then manipulate it and then again convert itto tuple'"
      ]
     },
     "execution_count": 2,
     "metadata": {},
     "output_type": "execute_result"
    }
   ],
   "source": [
    "'''\\\n",
    "Tuples are immutable so you can not manipulate a tuple, so if you want to manipulate it\\\n",
    "you can first convert the tuples into list then manipulate it and then again convert it\\\n",
    "to tuple\\\n",
    "'''"
   ]
  },
  {
   "cell_type": "code",
   "execution_count": 3,
   "id": "05712421",
   "metadata": {},
   "outputs": [
    {
     "name": "stdout",
     "output_type": "stream",
     "text": [
      "('Spain', 'Italy', 'Finland', 'Germany', 'Russia')\n"
     ]
    }
   ],
   "source": [
    "countries = ('Spain', 'Italy', 'India', 'England', 'Germany')\n",
    "temp = list(countries)\n",
    "temp.append('Russia')\n",
    "temp.pop(3)\n",
    "temp[2] = 'Finland'\n",
    "countries = tuple(temp)\n",
    "print(countries)"
   ]
  },
  {
   "cell_type": "code",
   "execution_count": 9,
   "id": "3579894c",
   "metadata": {},
   "outputs": [
    {
     "name": "stdout",
     "output_type": "stream",
     "text": [
      "('Spain', 'Italy', 'India', 'England', 'Germany')\n"
     ]
    }
   ],
   "source": [
    "countries1 = ('Spain', 'Italy', 'India')\n",
    "countries2 = ('England', 'Germany')\n",
    "\n",
    "countries = countries1 + countries2\n",
    "print(countries)"
   ]
  },
  {
   "cell_type": "code",
   "execution_count": 4,
   "id": "6824996a",
   "metadata": {},
   "outputs": [
    {
     "name": "stdout",
     "output_type": "stream",
     "text": [
      "2\n"
     ]
    }
   ],
   "source": [
    "countries = ('Spain', 'Italy','Italy' , 'India', 'England', 'Germany')\n",
    "print(countries.count('Italy')) # counts the occourance of the passed element"
   ]
  },
  {
   "cell_type": "code",
   "execution_count": 12,
   "id": "2f96e752",
   "metadata": {},
   "outputs": [
    {
     "name": "stdout",
     "output_type": "stream",
     "text": [
      "3\n",
      "3\n",
      "6\n"
     ]
    }
   ],
   "source": [
    "countries = ('Spain', 'Italy','Italy' , 'India', 'England', 'Germany')\n",
    "print(countries.index('India')) # returns the index of the first occourance of the passed value\n",
    "print(countries.index('India', 2,4)) # returns the index of the first occourance of the given \n",
    "                                        # b/w the given index\n",
    "print(len(countries))"
   ]
  }
 ],
 "metadata": {
  "kernelspec": {
   "display_name": "Python 3 (ipykernel)",
   "language": "python",
   "name": "python3"
  },
  "language_info": {
   "codemirror_mode": {
    "name": "ipython",
    "version": 3
   },
   "file_extension": ".py",
   "mimetype": "text/x-python",
   "name": "python",
   "nbconvert_exporter": "python",
   "pygments_lexer": "ipython3",
   "version": "3.11.3"
  }
 },
 "nbformat": 4,
 "nbformat_minor": 5
}
