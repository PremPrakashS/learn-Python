{
 "cells": [
  {
   "cell_type": "markdown",
   "id": "fdde7032",
   "metadata": {},
   "source": [
    "Write a python program to translate a message into secret code language. Use the rules below to translate normal English into secret code language.\n",
    "\n",
    "Coding:\n",
    "if the word contains atleast 2 characters, remove the first letter and append it at the end\n",
    "    now append 3 random chars at the starting and the end\n",
    "else:\n",
    "    simply reverse the string\n",
    "    \n",
    "Decoding:\n",
    "if the word contains less than 3 characters, reverse it\n",
    "else:\n",
    "    remove 3 random characters from the start and end, Now remove the last letter and add it at the begining\n",
    "    \n",
    "Your program should ask wheather you want to code or decode"
   ]
  },
  {
   "cell_type": "code",
   "execution_count": 19,
   "id": "82e588bb",
   "metadata": {},
   "outputs": [],
   "source": [
    "def Coding(coding, st):\n",
    "    words = st.split(\" \")\n",
    "    if coding:\n",
    "        nwords = []\n",
    "        for word in words:\n",
    "            if(len(word)>=3):\n",
    "                r1 = 'dsf'\n",
    "                r2 = 'jei'\n",
    "                stnew = r1 + word[1:] + word[0] + r2\n",
    "                nwords.append(stnew)\n",
    "            else:\n",
    "                nwords.append(word[::-1])\n",
    "    return \" \".join(nwords)"
   ]
  },
  {
   "cell_type": "code",
   "execution_count": 42,
   "id": "f0f24529",
   "metadata": {},
   "outputs": [],
   "source": [
    "def Decoding(decoding, st):\n",
    "    words = st.split(\" \")\n",
    "    if decoding:\n",
    "        nwords = []\n",
    "        for word in words:\n",
    "            if(len(word)>=9):\n",
    "                stnew = word[-4] + word[3:-4]\n",
    "                nwords.append(stnew)\n",
    "            else:\n",
    "                nwords.append(word[::-1])\n",
    "    return \" \".join(nwords)"
   ]
  },
  {
   "cell_type": "code",
   "execution_count": 43,
   "id": "796ae2e8",
   "metadata": {},
   "outputs": [
    {
     "name": "stdout",
     "output_type": "stream",
     "text": [
      "Enter msg: This is code\n",
      "dsfhisTjei si dsfodecjei\n",
      "This is code\n"
     ]
    }
   ],
   "source": [
    "st = input(\"Enter msg: \")\n",
    "coded = Coding(True, st)\n",
    "print(coded)\n",
    "\n",
    "decoded = Decoding(True, coded)\n",
    "print(decoded)"
   ]
  },
  {
   "cell_type": "code",
   "execution_count": 41,
   "id": "ca4e663e",
   "metadata": {},
   "outputs": [
    {
     "name": "stdout",
     "output_type": "stream",
     "text": [
      "This\n"
     ]
    }
   ],
   "source": [
    "st = '###hisT###'\n",
    "new = st[-4] + st[3:-4]\n",
    "print(new)"
   ]
  },
  {
   "cell_type": "code",
   "execution_count": null,
   "id": "1490f4e0",
   "metadata": {},
   "outputs": [],
   "source": []
  }
 ],
 "metadata": {
  "kernelspec": {
   "display_name": "Python 3 (ipykernel)",
   "language": "python",
   "name": "python3"
  },
  "language_info": {
   "codemirror_mode": {
    "name": "ipython",
    "version": 3
   },
   "file_extension": ".py",
   "mimetype": "text/x-python",
   "name": "python",
   "nbconvert_exporter": "python",
   "pygments_lexer": "ipython3",
   "version": "3.11.0"
  }
 },
 "nbformat": 4,
 "nbformat_minor": 5
}
