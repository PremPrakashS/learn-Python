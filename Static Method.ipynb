{
 "cells": [
  {
   "cell_type": "code",
   "execution_count": 1,
   "id": "fd4d6c0c-1610-44a2-ad3c-00291c5c4f93",
   "metadata": {},
   "outputs": [],
   "source": [
    "class Math:\n",
    "    def __init__(self, num):\n",
    "        self.num = num\n",
    "        \n",
    "    def addtonum(self, n):\n",
    "        self.num = self.num + n\n",
    "        \n",
    "    @staticmethod\n",
    "    def add(a,b):    # No need to put self\n",
    "        return a + b"
   ]
  },
  {
   "cell_type": "code",
   "execution_count": 2,
   "id": "31590b3f-4fc9-440b-95c3-867adbdb5530",
   "metadata": {},
   "outputs": [],
   "source": [
    "a = Math(5)"
   ]
  },
  {
   "cell_type": "code",
   "execution_count": 3,
   "id": "31974c09-a173-494a-b466-198fd511bf09",
   "metadata": {},
   "outputs": [
    {
     "name": "stdout",
     "output_type": "stream",
     "text": [
      "5\n"
     ]
    }
   ],
   "source": [
    "print(a.num)"
   ]
  },
  {
   "cell_type": "code",
   "execution_count": 4,
   "id": "c31606b4-1e2f-4c7c-a99a-2862eee38d87",
   "metadata": {},
   "outputs": [],
   "source": [
    "a.addtonum(6)"
   ]
  },
  {
   "cell_type": "code",
   "execution_count": 5,
   "id": "24af271c-dfb6-4631-b1d8-8f5306dbb8c3",
   "metadata": {},
   "outputs": [
    {
     "name": "stdout",
     "output_type": "stream",
     "text": [
      "11\n"
     ]
    }
   ],
   "source": [
    "print(a.num)"
   ]
  },
  {
   "cell_type": "markdown",
   "id": "d87da6f0-9554-43de-8b87-de7e3e35b267",
   "metadata": {},
   "source": [
    "# Why Static Method\n",
    "\n",
    "To create utility functions, if you want to ship a method with the class.\n",
    "\n",
    "with static method we don't need to pass self as argument to the function.\n",
    "\n",
    "If you want a function to be used by someone who will be using the class."
   ]
  },
  {
   "cell_type": "code",
   "execution_count": 6,
   "id": "13d0f8fb-d012-4a6a-ae8b-f46be5291285",
   "metadata": {},
   "outputs": [
    {
     "name": "stdout",
     "output_type": "stream",
     "text": [
      "13\n"
     ]
    }
   ],
   "source": [
    "print(a.add(6,7))"
   ]
  },
  {
   "cell_type": "code",
   "execution_count": 7,
   "id": "3c9503f1-690e-400a-a282-3f513bb4bfe0",
   "metadata": {},
   "outputs": [
    {
     "name": "stdout",
     "output_type": "stream",
     "text": [
      "13\n"
     ]
    }
   ],
   "source": [
    "print(Math.add(6,7))"
   ]
  }
 ],
 "metadata": {
  "kernelspec": {
   "display_name": "Python 3 (ipykernel)",
   "language": "python",
   "name": "python3"
  },
  "language_info": {
   "codemirror_mode": {
    "name": "ipython",
    "version": 3
   },
   "file_extension": ".py",
   "mimetype": "text/x-python",
   "name": "python",
   "nbconvert_exporter": "python",
   "pygments_lexer": "ipython3",
   "version": "3.11.3"
  }
 },
 "nbformat": 4,
 "nbformat_minor": 5
}
