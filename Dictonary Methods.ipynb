{
 "cells": [
  {
   "cell_type": "markdown",
   "id": "bb755435",
   "metadata": {},
   "source": [
    "# update()"
   ]
  },
  {
   "cell_type": "code",
   "execution_count": 3,
   "id": "78adc1d2",
   "metadata": {},
   "outputs": [
    {
     "name": "stdout",
     "output_type": "stream",
     "text": [
      "{122: 45, 123: 89, 567: 69, 670: 69} {222: 67, 566: 90}\n",
      "{122: 45, 123: 89, 567: 69, 670: 69, 222: 67, 566: 90}\n"
     ]
    }
   ],
   "source": [
    "ep1 = { 122: 45,\n",
    "     123: 89,\n",
    "     567: 69,\n",
    "     670: 69}\n",
    "ep2 = {222: 67,\n",
    "      566: 90}\n",
    "print(ep1, ep2)\n",
    "ep1.update(ep2)\n",
    "print(ep1)"
   ]
  },
  {
   "cell_type": "code",
   "execution_count": 4,
   "id": "5daf4c86",
   "metadata": {},
   "outputs": [
    {
     "name": "stdout",
     "output_type": "stream",
     "text": [
      "{}\n"
     ]
    }
   ],
   "source": [
    "ep1.clear()\n",
    "print(ep1)"
   ]
  },
  {
   "cell_type": "code",
   "execution_count": 6,
   "id": "a4e60d0f",
   "metadata": {},
   "outputs": [
    {
     "name": "stdout",
     "output_type": "stream",
     "text": [
      "{}\n"
     ]
    }
   ],
   "source": [
    "dict = {}\n",
    "print(dict)"
   ]
  },
  {
   "cell_type": "code",
   "execution_count": 16,
   "id": "8a76d049",
   "metadata": {},
   "outputs": [
    {
     "name": "stdout",
     "output_type": "stream",
     "text": [
      "{122: 45, 123: 89, 567: 69, 670: 69, 222: 67, 566: 90}\n",
      "45\n",
      "{123: 89, 567: 69, 670: 69, 222: 67, 566: 90}\n"
     ]
    },
    {
     "ename": "TypeError",
     "evalue": "pop expected at least 1 argument, got 0",
     "output_type": "error",
     "traceback": [
      "\u001b[1;31m---------------------------------------------------------------------------\u001b[0m",
      "\u001b[1;31mTypeError\u001b[0m                                 Traceback (most recent call last)",
      "Cell \u001b[1;32mIn[16], line 5\u001b[0m\n\u001b[0;32m      3\u001b[0m \u001b[38;5;28mprint\u001b[39m(\u001b[38;5;28mdict\u001b[39m\u001b[38;5;241m.\u001b[39mpop(\u001b[38;5;241m122\u001b[39m)) \u001b[38;5;66;03m# pop(key) to return and delete the key: value pair corresponding to that key.\u001b[39;00m\n\u001b[0;32m      4\u001b[0m \u001b[38;5;28mprint\u001b[39m(\u001b[38;5;28mdict\u001b[39m)\n\u001b[1;32m----> 5\u001b[0m \u001b[38;5;28mprint\u001b[39m(\u001b[38;5;28;43mdict\u001b[39;49m\u001b[38;5;241;43m.\u001b[39;49m\u001b[43mpop\u001b[49m\u001b[43m(\u001b[49m\u001b[43m)\u001b[49m)\n",
      "\u001b[1;31mTypeError\u001b[0m: pop expected at least 1 argument, got 0"
     ]
    }
   ],
   "source": [
    "dict = {122: 45, 123: 89, 567: 69, 670: 69, 222: 67, 566: 90}\n",
    "print(dict)\n",
    "print(dict.pop(122)) # pop(key) to return and delete the key: value pair corresponding to that key.\n",
    "print(dict)\n",
    "print(dict.pop()) # pop() can't be called without arguments."
   ]
  },
  {
   "cell_type": "markdown",
   "id": "0d1d05af",
   "metadata": {},
   "source": [
    "# popitem()"
   ]
  },
  {
   "cell_type": "code",
   "execution_count": 15,
   "id": "7fa2e162",
   "metadata": {},
   "outputs": [
    {
     "name": "stdout",
     "output_type": "stream",
     "text": [
      "{122: 45, 123: 89, 567: 69, 670: 69, 222: 67, 566: 90}\n",
      "(566, 90)\n",
      "{122: 45, 123: 89, 567: 69, 670: 69, 222: 67}\n"
     ]
    },
    {
     "ename": "TypeError",
     "evalue": "dict.popitem() takes no arguments (1 given)",
     "output_type": "error",
     "traceback": [
      "\u001b[1;31m---------------------------------------------------------------------------\u001b[0m",
      "\u001b[1;31mTypeError\u001b[0m                                 Traceback (most recent call last)",
      "Cell \u001b[1;32mIn[15], line 5\u001b[0m\n\u001b[0;32m      3\u001b[0m \u001b[38;5;28mprint\u001b[39m(\u001b[38;5;28mdict\u001b[39m\u001b[38;5;241m.\u001b[39mpopitem()) \u001b[38;5;66;03m# popitem() to return and delete the key:value pair from the end of the dictonary.\u001b[39;00m\n\u001b[0;32m      4\u001b[0m \u001b[38;5;28mprint\u001b[39m(\u001b[38;5;28mdict\u001b[39m)\n\u001b[1;32m----> 5\u001b[0m \u001b[38;5;28mprint\u001b[39m(\u001b[38;5;28;43mdict\u001b[39;49m\u001b[38;5;241;43m.\u001b[39;49m\u001b[43mpopitem\u001b[49m\u001b[43m(\u001b[49m\u001b[38;5;241;43m69\u001b[39;49m\u001b[43m)\u001b[49m) \u001b[38;5;66;03m# popitem() doesn't take any arguments\u001b[39;00m\n\u001b[0;32m      6\u001b[0m \u001b[38;5;28mprint\u001b[39m(\u001b[38;5;28mdict\u001b[39m)\n",
      "\u001b[1;31mTypeError\u001b[0m: dict.popitem() takes no arguments (1 given)"
     ]
    }
   ],
   "source": [
    "dict = {122: 45, 123: 89, 567: 69, 670: 69, 222: 67, 566: 90}\n",
    "print(dict)\n",
    "print(dict.popitem()) # popitem() to return and delete the key:value pair from the end of the dictonary.\n",
    "print(dict)\n",
    "print(dict.popitem(69)) # popitem() doesn't take any arguments\n",
    "print(dict)"
   ]
  },
  {
   "cell_type": "code",
   "execution_count": 36,
   "id": "9470e48a",
   "metadata": {},
   "outputs": [
    {
     "name": "stdout",
     "output_type": "stream",
     "text": [
      "{122: 45, 123: 89, 567: 69, 670: 69, 222: 67, 566: 90}\n",
      "{123: 89, 567: 69, 670: 69, 222: 67, 566: 90}\n"
     ]
    }
   ],
   "source": [
    "e1 = {122: 45, 123: 89, 567: 69, 670: 69, 222: 67, 566: 90}\n",
    "print(e1)\n",
    "del e1[122]\n",
    "print(e1)"
   ]
  },
  {
   "cell_type": "code",
   "execution_count": 37,
   "id": "af6c6590",
   "metadata": {},
   "outputs": [
    {
     "data": {
      "text/plain": [
       "{'1': 23, '2': 24}"
      ]
     },
     "execution_count": 37,
     "metadata": {},
     "output_type": "execute_result"
    }
   ],
   "source": [
    "e2 = [('1', 23), ('2',24)]\n",
    "e2_dict = dict(e2) # dict() to create a dictonary\n",
    "e2_dict"
   ]
  },
  {
   "cell_type": "code",
   "execution_count": 39,
   "id": "3abf32f6",
   "metadata": {},
   "outputs": [
    {
     "data": {
      "text/plain": [
       "{}"
      ]
     },
     "execution_count": 39,
     "metadata": {},
     "output_type": "execute_result"
    }
   ],
   "source": [
    "e3 = dict()\n",
    "e3"
   ]
  },
  {
   "cell_type": "code",
   "execution_count": 1,
   "id": "9f9452d6-7bdf-4df8-bc56-6abfb1f8c96d",
   "metadata": {},
   "outputs": [],
   "source": [
    "a = {}"
   ]
  },
  {
   "cell_type": "code",
   "execution_count": 2,
   "id": "019376e9-1c77-4929-aa49-841774fb3b3b",
   "metadata": {},
   "outputs": [],
   "source": [
    "a['p'] = 10"
   ]
  },
  {
   "cell_type": "code",
   "execution_count": 3,
   "id": "7c4465de-c57b-4bc8-bd76-0ecba16df6b2",
   "metadata": {},
   "outputs": [
    {
     "data": {
      "text/plain": [
       "{'p': 10}"
      ]
     },
     "execution_count": 3,
     "metadata": {},
     "output_type": "execute_result"
    }
   ],
   "source": [
    "a"
   ]
  }
 ],
 "metadata": {
  "kernelspec": {
   "display_name": "Python 3 (ipykernel)",
   "language": "python",
   "name": "python3"
  },
  "language_info": {
   "codemirror_mode": {
    "name": "ipython",
    "version": 3
   },
   "file_extension": ".py",
   "mimetype": "text/x-python",
   "name": "python",
   "nbconvert_exporter": "python",
   "pygments_lexer": "ipython3",
   "version": "3.11.3"
  }
 },
 "nbformat": 4,
 "nbformat_minor": 5
}
