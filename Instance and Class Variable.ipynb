{
 "cells": [
  {
   "cell_type": "code",
   "execution_count": 18,
   "id": "da59eaa3-171d-46dd-be35-86bc3e991d21",
   "metadata": {},
   "outputs": [],
   "source": [
    "class Employee:\n",
    "    complanyName = \"Apple\"    #Class variables\n",
    "    def __init__(self, name):\n",
    "        self.name = name          #instance variables\n",
    "        self.raise_amount = 0.02\n",
    "        # self.raise = 0.02\n",
    "        \n",
    "    def showDetails(self):\n",
    "        print(f\"The name of the Employee {self.name} and the raise in {self.complanyName} is {self.raise_amount}\")"
   ]
  },
  {
   "cell_type": "code",
   "execution_count": 19,
   "id": "d6ca9536-85c2-400e-8135-826237cacf27",
   "metadata": {},
   "outputs": [
    {
     "name": "stdout",
     "output_type": "stream",
     "text": [
      "The name of the Employee Harry and the raise in Apple is 0.02\n",
      "The name of the Employee Harry and the raise in Apple is 0.03\n"
     ]
    }
   ],
   "source": [
    "emp1 = Employee(\"Harry\")\n",
    "emp1.showDetails()\n",
    "emp1.raise_amount = 0.03\n",
    "Employee.showDetails(emp1)"
   ]
  },
  {
   "cell_type": "code",
   "execution_count": 20,
   "id": "58467080-a885-41a3-83f6-a2ae2ec79a50",
   "metadata": {},
   "outputs": [
    {
     "name": "stdout",
     "output_type": "stream",
     "text": [
      "The name of the Employee Harry and the raise in Apple is 0.02\n"
     ]
    }
   ],
   "source": [
    "emp2 = Employee(\"Harry\")\n",
    "emp2.showDetails()"
   ]
  }
 ],
 "metadata": {
  "kernelspec": {
   "display_name": "Python 3 (ipykernel)",
   "language": "python",
   "name": "python3"
  },
  "language_info": {
   "codemirror_mode": {
    "name": "ipython",
    "version": 3
   },
   "file_extension": ".py",
   "mimetype": "text/x-python",
   "name": "python",
   "nbconvert_exporter": "python",
   "pygments_lexer": "ipython3",
   "version": "3.11.3"
  }
 },
 "nbformat": 4,
 "nbformat_minor": 5
}
