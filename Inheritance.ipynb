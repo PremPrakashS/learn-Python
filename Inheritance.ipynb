{
 "cells": [
  {
   "cell_type": "code",
   "execution_count": 1,
   "id": "cb77fd35-db0e-43ca-adfd-401eea4a914d",
   "metadata": {},
   "outputs": [],
   "source": [
    "class Employee:\n",
    "    def __init__(self, name, id):\n",
    "        self.name = name\n",
    "        self.id = id\n",
    "        \n",
    "    def showDetails(self):\n",
    "        print(f\"The name of Employee: {self.id} is {self.name}\")"
   ]
  },
  {
   "cell_type": "code",
   "execution_count": 6,
   "id": "ddc0690f-a329-4f48-9733-0d191744fb0d",
   "metadata": {},
   "outputs": [
    {
     "name": "stdout",
     "output_type": "stream",
     "text": [
      "The name of Employee: 400 is Rohan Das\n",
      "The name of Employee: 100 is Harry\n"
     ]
    }
   ],
   "source": [
    "e = Employee(\"Rohan Das\", 400)\n",
    "e.showDetails()\n",
    "e2 = Employee(\"Harry\", 100)\n",
    "e2.showDetails()"
   ]
  },
  {
   "cell_type": "code",
   "execution_count": 5,
   "id": "642c858e-cdb0-42e1-adf7-8e35461f8d9a",
   "metadata": {},
   "outputs": [],
   "source": [
    "class Programmer(Employee):\n",
    "    def showLanguage(self):\n",
    "        print(\"The default language is Python\")"
   ]
  },
  {
   "cell_type": "code",
   "execution_count": 8,
   "id": "595f394c-25a8-4f78-bc48-64f730e3d2e6",
   "metadata": {},
   "outputs": [
    {
     "name": "stdout",
     "output_type": "stream",
     "text": [
      "The name of Employee: 4100 is Harry\n",
      "The default language is Python\n"
     ]
    }
   ],
   "source": [
    "e2 = Programmer(\"Harry\", 4100)\n",
    "e2.showDetails()\n",
    "e2.showLanguage()"
   ]
  }
 ],
 "metadata": {
  "kernelspec": {
   "display_name": "Python 3 (ipykernel)",
   "language": "python",
   "name": "python3"
  },
  "language_info": {
   "codemirror_mode": {
    "name": "ipython",
    "version": 3
   },
   "file_extension": ".py",
   "mimetype": "text/x-python",
   "name": "python",
   "nbconvert_exporter": "python",
   "pygments_lexer": "ipython3",
   "version": "3.11.3"
  }
 },
 "nbformat": 4,
 "nbformat_minor": 5
}
