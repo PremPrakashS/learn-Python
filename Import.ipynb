{
 "cells": [
  {
   "cell_type": "code",
   "execution_count": null,
   "id": "a55631fc",
   "metadata": {},
   "outputs": [],
   "source": [
    "# imports a new module into the current script\n",
    "import pandas"
   ]
  },
  {
   "cell_type": "code",
   "execution_count": 5,
   "id": "64ef687b",
   "metadata": {},
   "outputs": [
    {
     "name": "stdout",
     "output_type": "stream",
     "text": [
      "4\n"
     ]
    }
   ],
   "source": [
    "import math\n",
    "print(math.floor(4.234566))"
   ]
  },
  {
   "cell_type": "code",
   "execution_count": 7,
   "id": "83214f81",
   "metadata": {},
   "outputs": [
    {
     "name": "stdout",
     "output_type": "stream",
     "text": [
      "3.0\n",
      "9\n"
     ]
    }
   ],
   "source": [
    "# To import a particular function\n",
    "from math import sqrt\n",
    "\n",
    "result = sqrt(9) # when importing a single function we don't need to use the module. (dot) notation\n",
    "print(result)\n",
    "\n",
    "result = math.floor(9)\n",
    "print(result)"
   ]
  },
  {
   "cell_type": "code",
   "execution_count": 6,
   "id": "49aa5f0e",
   "metadata": {},
   "outputs": [
    {
     "name": "stdout",
     "output_type": "stream",
     "text": [
      "7.0\n",
      "113\n"
     ]
    }
   ],
   "source": [
    "# can import multiple functions\n",
    "from math import sqrt, pi\n",
    "\n",
    "result = sqrt(49)\n",
    "print(result)\n",
    "\n",
    "radius = 6\n",
    "area = pi * radius * radius\n",
    "print(math.floor(area))"
   ]
  },
  {
   "cell_type": "code",
   "execution_count": 8,
   "id": "872627d8",
   "metadata": {},
   "outputs": [
    {
     "name": "stdout",
     "output_type": "stream",
     "text": [
      "9.42477796076938\n"
     ]
    }
   ],
   "source": [
    "# to import all functions and variables from a module. However it is not recommended as it can lead to confusion and make it harder to understand where specific functions and variables are coming from.\n",
    "from math import *\n",
    "\n",
    "result = sqrt(9) * pi\n",
    "print(result)"
   ]
  },
  {
   "cell_type": "markdown",
   "id": "90343f94",
   "metadata": {},
   "source": [
    "# \"as\" keyword\n",
    "used to create alias"
   ]
  },
  {
   "cell_type": "code",
   "execution_count": 9,
   "id": "59f61ec1",
   "metadata": {},
   "outputs": [
    {
     "name": "stdout",
     "output_type": "stream",
     "text": [
      "9.42477796076938\n"
     ]
    }
   ],
   "source": [
    "from math import pi, sqrt as s\n",
    "import numpy as np\n",
    "import pandas as pd\n",
    "\n",
    "result = s(9) * pi\n",
    "print(result)"
   ]
  },
  {
   "cell_type": "markdown",
   "id": "99714907",
   "metadata": {},
   "source": [
    "# dir function"
   ]
  },
  {
   "cell_type": "code",
   "execution_count": 15,
   "id": "90d794b0",
   "metadata": {},
   "outputs": [
    {
     "data": {
      "text/plain": [
       "['__call__',\n",
       " '__class__',\n",
       " '__delattr__',\n",
       " '__dir__',\n",
       " '__doc__',\n",
       " '__eq__',\n",
       " '__format__',\n",
       " '__ge__',\n",
       " '__getattribute__',\n",
       " '__getstate__',\n",
       " '__gt__',\n",
       " '__hash__',\n",
       " '__init__',\n",
       " '__init_subclass__',\n",
       " '__le__',\n",
       " '__lt__',\n",
       " '__module__',\n",
       " '__name__',\n",
       " '__ne__',\n",
       " '__new__',\n",
       " '__qualname__',\n",
       " '__reduce__',\n",
       " '__reduce_ex__',\n",
       " '__repr__',\n",
       " '__self__',\n",
       " '__setattr__',\n",
       " '__sizeof__',\n",
       " '__str__',\n",
       " '__subclasshook__',\n",
       " '__text_signature__']"
      ]
     },
     "execution_count": 15,
     "metadata": {},
     "output_type": "execute_result"
    }
   ],
   "source": [
    "import math\n",
    "\n",
    "dir(math) # dir returns all the functions present in the module or class"
   ]
  },
  {
   "cell_type": "code",
   "execution_count": 16,
   "id": "ed96995a",
   "metadata": {},
   "outputs": [
    {
     "name": "stdout",
     "output_type": "stream",
     "text": [
      "Hey you are welcome my friend\n",
      "A good boy\n"
     ]
    }
   ],
   "source": [
    "# importing user-defined module\n",
    "from prem import welcome, prem\n",
    "\n",
    "welcome()\n",
    "print(prem)"
   ]
  }
 ],
 "metadata": {
  "kernelspec": {
   "display_name": "Python 3 (ipykernel)",
   "language": "python",
   "name": "python3"
  },
  "language_info": {
   "codemirror_mode": {
    "name": "ipython",
    "version": 3
   },
   "file_extension": ".py",
   "mimetype": "text/x-python",
   "name": "python",
   "nbconvert_exporter": "python",
   "pygments_lexer": "ipython3",
   "version": "3.11.3"
  }
 },
 "nbformat": 4,
 "nbformat_minor": 5
}
