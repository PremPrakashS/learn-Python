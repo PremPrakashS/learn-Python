{
 "cells": [
  {
   "cell_type": "markdown",
   "id": "572c6258-04bd-4294-bad0-9ea1038fcf1d",
   "metadata": {},
   "source": [
    "# Decorators\n",
    "\n",
    "are functions which change and returns a function"
   ]
  },
  {
   "cell_type": "code",
   "execution_count": 1,
   "id": "7e8168e4-6be8-4fb2-bf29-0556e5a997a6",
   "metadata": {},
   "outputs": [
    {
     "name": "stdout",
     "output_type": "stream",
     "text": [
      "Decorators\n"
     ]
    }
   ],
   "source": [
    "print(\"Decorators\")"
   ]
  },
  {
   "cell_type": "code",
   "execution_count": 7,
   "id": "40e7a92d-4f20-4d3d-b701-2c41548bd421",
   "metadata": {},
   "outputs": [
    {
     "name": "stdout",
     "output_type": "stream",
     "text": [
      "Good Morning\n",
      "Hello world\n",
      "Thanks for using this function\n"
     ]
    }
   ],
   "source": [
    "def greet(fx):\n",
    "    def mfx():\n",
    "        print(\"Good Morning\")\n",
    "        fx()\n",
    "        print(\"Thanks for using this function\")\n",
    "    return mfx\n",
    "\n",
    "@greet\n",
    "def hello():\n",
    "    print(\"Hello world\")\n",
    "    \n",
    "def add(a, b):\n",
    "    print(a + b)\n",
    "    \n",
    "hello()"
   ]
  },
  {
   "cell_type": "code",
   "execution_count": 9,
   "id": "ed6b947b-bdf7-4407-b803-ffd9dd2c54c6",
   "metadata": {},
   "outputs": [
    {
     "name": "stdout",
     "output_type": "stream",
     "text": [
      "Good Morning\n",
      "Hello world\n",
      "Thanks for using this function\n"
     ]
    }
   ],
   "source": [
    "def greet(fx):\n",
    "    def mfx():\n",
    "        print(\"Good Morning\")\n",
    "        fx()\n",
    "        print(\"Thanks for using this function\")\n",
    "    return mfx\n",
    "\n",
    "# @greet\n",
    "def hello():\n",
    "    print(\"Hello world\")\n",
    "    \n",
    "def add(a, b):\n",
    "    print(a + b)\n",
    "    \n",
    "greet(hello)()"
   ]
  },
  {
   "cell_type": "code",
   "execution_count": null,
   "id": "e3ecbd28-4241-4136-aa3e-a78c12de1f6f",
   "metadata": {},
   "outputs": [],
   "source": []
  },
  {
   "cell_type": "code",
   "execution_count": null,
   "id": "60981efc-5da7-41d8-ae56-addf99f16d96",
   "metadata": {},
   "outputs": [],
   "source": []
  }
 ],
 "metadata": {
  "kernelspec": {
   "display_name": "Python 3 (ipykernel)",
   "language": "python",
   "name": "python3"
  },
  "language_info": {
   "codemirror_mode": {
    "name": "ipython",
    "version": 3
   },
   "file_extension": ".py",
   "mimetype": "text/x-python",
   "name": "python",
   "nbconvert_exporter": "python",
   "pygments_lexer": "ipython3",
   "version": "3.11.3"
  }
 },
 "nbformat": 4,
 "nbformat_minor": 5
}
