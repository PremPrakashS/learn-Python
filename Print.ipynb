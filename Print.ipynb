{
 "cells": [
  {
   "cell_type": "markdown",
   "id": "535a5668",
   "metadata": {},
   "source": [
    "# This is print statement"
   ]
  },
  {
   "cell_type": "code",
   "execution_count": 10,
   "id": "6c9069bf",
   "metadata": {
    "scrolled": true
   },
   "outputs": [
    {
     "name": "stdout",
     "output_type": "stream",
     "text": [
      "hey 7 8\n"
     ]
    }
   ],
   "source": [
    "print('hey', 7, 8) # can provide multiple values to print"
   ]
  },
  {
   "cell_type": "code",
   "execution_count": 15,
   "id": "38b08464",
   "metadata": {},
   "outputs": [
    {
     "name": "stdout",
     "output_type": "stream",
     "text": [
      "hey\n",
      "6\n",
      "87\n",
      "world....This is end....hey~6~87~world\n"
     ]
    }
   ],
   "source": [
    "print('hey', 6, 87, 'world', sep='\\n', end='....This is end....')\n",
    "print('hey', 6, 87, 'world', sep='~')"
   ]
  },
  {
   "cell_type": "code",
   "execution_count": 16,
   "id": "66484196",
   "metadata": {},
   "outputs": [
    {
     "name": "stdout",
     "output_type": "stream",
     "text": [
      "1\n"
     ]
    }
   ],
   "source": [
    "a = 1\n",
    "print(a)"
   ]
  }
 ],
 "metadata": {
  "kernelspec": {
   "display_name": "Python 3 (ipykernel)",
   "language": "python",
   "name": "python3"
  },
  "language_info": {
   "codemirror_mode": {
    "name": "ipython",
    "version": 3
   },
   "file_extension": ".py",
   "mimetype": "text/x-python",
   "name": "python",
   "nbconvert_exporter": "python",
   "pygments_lexer": "ipython3",
   "version": "3.11.0"
  }
 },
 "nbformat": 4,
 "nbformat_minor": 5
}
